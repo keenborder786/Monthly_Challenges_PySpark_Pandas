{
 "cells": [
  {
   "cell_type": "code",
   "execution_count": 115,
   "metadata": {},
   "outputs": [],
   "source": [
    "import pandas as pd\n",
    "import findspark\n",
    "findspark.init()\n",
    "from pyspark.sql import SparkSession\n",
    "from pyspark.sql.functions import *\n",
    "from pyspark.sql.types import *\n",
    "from datetime import datetime"
   ]
  },
  {
   "cell_type": "markdown",
   "metadata": {},
   "source": [
    "### Relevant Data Set can be found on : https://data.world/raghav333/cricket-players-espn"
   ]
  },
  {
   "cell_type": "markdown",
   "metadata": {},
   "source": [
    "## Reading Data"
   ]
  },
  {
   "cell_type": "markdown",
   "metadata": {},
   "source": [
    "#### PySpark"
   ]
  },
  {
   "cell_type": "code",
   "execution_count": 116,
   "metadata": {},
   "outputs": [],
   "source": [
    "spark=SparkSession.builder.appName('temp').getOrCreate()"
   ]
  },
  {
   "cell_type": "markdown",
   "metadata": {},
   "source": [
    "#### Pandas"
   ]
  },
  {
   "cell_type": "code",
   "execution_count": 117,
   "metadata": {},
   "outputs": [
    {
     "name": "stderr",
     "output_type": "stream",
     "text": [
      "E:\\ProgramData\\Anaconda3\\lib\\site-packages\\IPython\\core\\interactiveshell.py:3063: DtypeWarning: Columns (9,16,20,21,22,24,25,26,27,28,29,30,31,32,45,46,59,60,73,74,87,88,90,91,92,95,96,97,98,99,100,101,102) have mixed types.Specify dtype option on import or set low_memory=False.\n",
      "  interactivity=interactivity, compiler=compiler, result=result)\n"
     ]
    }
   ],
   "source": [
    "main=pd.read_csv(\"cricket_data.csv\")"
   ]
  },
  {
   "cell_type": "markdown",
   "metadata": {},
   "source": [
    "#### Converting Pandas Dtype Object to String Dtype in order to use the same dateframe as Spark DataFrame"
   ]
  },
  {
   "cell_type": "code",
   "execution_count": 118,
   "metadata": {},
   "outputs": [],
   "source": [
    "cols_dtypes=main.dtypes.values.tolist()\n",
    "columns=main.columns.values.tolist()\n",
    "for index,_ in enumerate(cols_dtypes):\n",
    "    if str(cols_dtypes[index])==\"object\":\n",
    "        main[columns[index]]=main[columns[index]].astype(str)"
   ]
  },
  {
   "cell_type": "code",
   "execution_count": null,
   "metadata": {},
   "outputs": [],
   "source": [
    "main_spark=spark.createDataFrame(main)"
   ]
  },
  {
   "cell_type": "code",
   "execution_count": null,
   "metadata": {},
   "outputs": [
    {
     "name": "stdout",
     "output_type": "stream",
     "text": [
      "root\n",
      " |-- ID: long (nullable = true)\n",
      " |-- NAME: string (nullable = true)\n",
      " |-- COUNTRY: string (nullable = true)\n",
      " |-- Full name: string (nullable = true)\n",
      " |-- Born: string (nullable = true)\n",
      " |-- Died: string (nullable = true)\n",
      " |-- Current age: string (nullable = true)\n",
      " |-- Major teams: string (nullable = true)\n",
      " |-- Education: string (nullable = true)\n",
      " |-- Height: string (nullable = true)\n",
      " |-- Nickname: double (nullable = true)\n",
      " |-- Playing role: string (nullable = true)\n",
      " |-- Batting style: string (nullable = true)\n",
      " |-- Bowling style: string (nullable = true)\n",
      " |-- Other: string (nullable = true)\n",
      " |-- Relation: string (nullable = true)\n",
      " |-- In a nutshell: string (nullable = true)\n",
      " |-- DESCRIPTION: string (nullable = true)\n",
      " |-- AWARDS: string (nullable = true)\n",
      " |-- BATTING_Tests_Mat: double (nullable = true)\n",
      " |-- BATTING_Tests_Inns: string (nullable = true)\n",
      " |-- BATTING_Tests_NO: string (nullable = true)\n",
      " |-- BATTING_Tests_Runs: string (nullable = true)\n",
      " |-- BATTING_Tests_HS: string (nullable = true)\n",
      " |-- BATTING_Tests_Ave: string (nullable = true)\n",
      " |-- BATTING_Tests_BF: string (nullable = true)\n",
      " |-- BATTING_Tests_SR: string (nullable = true)\n",
      " |-- BATTING_Tests_100: string (nullable = true)\n",
      " |-- BATTING_Tests_50: string (nullable = true)\n",
      " |-- BATTING_Tests_4s: string (nullable = true)\n",
      " |-- BATTING_Tests_6s: string (nullable = true)\n",
      " |-- BATTING_Tests_Ct: string (nullable = true)\n",
      " |-- BATTING_Tests_St: string (nullable = true)\n",
      " |-- BATTING_ODIs_Mat: double (nullable = true)\n",
      " |-- BATTING_ODIs_Inns: string (nullable = true)\n",
      " |-- BATTING_ODIs_NO: string (nullable = true)\n",
      " |-- BATTING_ODIs_Runs: string (nullable = true)\n",
      " |-- BATTING_ODIs_HS: string (nullable = true)\n",
      " |-- BATTING_ODIs_Ave: string (nullable = true)\n",
      " |-- BATTING_ODIs_BF: string (nullable = true)\n",
      " |-- BATTING_ODIs_SR: string (nullable = true)\n",
      " |-- BATTING_ODIs_100: string (nullable = true)\n",
      " |-- BATTING_ODIs_50: string (nullable = true)\n",
      " |-- BATTING_ODIs_4s: string (nullable = true)\n",
      " |-- BATTING_ODIs_6s: string (nullable = true)\n",
      " |-- BATTING_ODIs_Ct: string (nullable = true)\n",
      " |-- BATTING_ODIs_St: string (nullable = true)\n",
      " |-- BATTING_T20Is_Mat: double (nullable = true)\n",
      " |-- BATTING_T20Is_Inns: string (nullable = true)\n",
      " |-- BATTING_T20Is_NO: string (nullable = true)\n",
      " |-- BATTING_T20Is_Runs: string (nullable = true)\n",
      " |-- BATTING_T20Is_HS: string (nullable = true)\n",
      " |-- BATTING_T20Is_Ave: string (nullable = true)\n",
      " |-- BATTING_T20Is_BF: string (nullable = true)\n",
      " |-- BATTING_T20Is_SR: string (nullable = true)\n",
      " |-- BATTING_T20Is_100: string (nullable = true)\n",
      " |-- BATTING_T20Is_50: string (nullable = true)\n",
      " |-- BATTING_T20Is_4s: string (nullable = true)\n",
      " |-- BATTING_T20Is_6s: string (nullable = true)\n",
      " |-- BATTING_T20Is_Ct: string (nullable = true)\n",
      " |-- BATTING_T20Is_St: string (nullable = true)\n",
      " |-- BATTING_First-class_Mat: double (nullable = true)\n",
      " |-- BATTING_First-class_Inns: string (nullable = true)\n",
      " |-- BATTING_First-class_NO: string (nullable = true)\n",
      " |-- BATTING_First-class_Runs: string (nullable = true)\n",
      " |-- BATTING_First-class_HS: string (nullable = true)\n",
      " |-- BATTING_First-class_Ave: string (nullable = true)\n",
      " |-- BATTING_First-class_BF: string (nullable = true)\n",
      " |-- BATTING_First-class_SR: string (nullable = true)\n",
      " |-- BATTING_First-class_100: string (nullable = true)\n",
      " |-- BATTING_First-class_50: string (nullable = true)\n",
      " |-- BATTING_First-class_4s: string (nullable = true)\n",
      " |-- BATTING_First-class_6s: string (nullable = true)\n",
      " |-- BATTING_First-class_Ct: string (nullable = true)\n",
      " |-- BATTING_First-class_St: string (nullable = true)\n",
      " |-- BATTING_List A_Mat: double (nullable = true)\n",
      " |-- BATTING_List A_Inns: string (nullable = true)\n",
      " |-- BATTING_List A_NO: string (nullable = true)\n",
      " |-- BATTING_List A_Runs: string (nullable = true)\n",
      " |-- BATTING_List A_HS: string (nullable = true)\n",
      " |-- BATTING_List A_Ave: string (nullable = true)\n",
      " |-- BATTING_List A_BF: string (nullable = true)\n",
      " |-- BATTING_List A_SR: string (nullable = true)\n",
      " |-- BATTING_List A_100: string (nullable = true)\n",
      " |-- BATTING_List A_50: string (nullable = true)\n",
      " |-- BATTING_List A_4s: string (nullable = true)\n",
      " |-- BATTING_List A_6s: string (nullable = true)\n",
      " |-- BATTING_List A_Ct: string (nullable = true)\n",
      " |-- BATTING_List A_St: string (nullable = true)\n",
      " |-- BATTING_T20s_Mat: double (nullable = true)\n",
      " |-- BATTING_T20s_Inns: string (nullable = true)\n",
      " |-- BATTING_T20s_NO: string (nullable = true)\n",
      " |-- BATTING_T20s_Runs: string (nullable = true)\n",
      " |-- BATTING_T20s_HS: string (nullable = true)\n",
      " |-- BATTING_T20s_Ave: string (nullable = true)\n",
      " |-- BATTING_T20s_BF: string (nullable = true)\n",
      " |-- BATTING_T20s_SR: string (nullable = true)\n",
      " |-- BATTING_T20s_100: string (nullable = true)\n",
      " |-- BATTING_T20s_50: string (nullable = true)\n",
      " |-- BATTING_T20s_4s: string (nullable = true)\n",
      " |-- BATTING_T20s_6s: string (nullable = true)\n",
      " |-- BATTING_T20s_Ct: string (nullable = true)\n",
      " |-- BATTING_T20s_St: string (nullable = true)\n",
      " |-- BOWLING_Tests_Mat: double (nullable = true)\n",
      " |-- BOWLING_Tests_Inns: string (nullable = true)\n",
      " |-- BOWLING_Tests_Balls: string (nullable = true)\n",
      " |-- BOWLING_Tests_Runs: string (nullable = true)\n",
      " |-- BOWLING_Tests_Wkts: string (nullable = true)\n",
      " |-- BOWLING_Tests_BBI: string (nullable = true)\n",
      " |-- BOWLING_Tests_BBM: string (nullable = true)\n",
      " |-- BOWLING_Tests_Ave: string (nullable = true)\n",
      " |-- BOWLING_Tests_Econ: string (nullable = true)\n",
      " |-- BOWLING_Tests_SR: string (nullable = true)\n",
      " |-- BOWLING_Tests_4w: string (nullable = true)\n",
      " |-- BOWLING_Tests_5w: string (nullable = true)\n",
      " |-- BOWLING_Tests_10: string (nullable = true)\n",
      " |-- BOWLING_ODIs_Mat: double (nullable = true)\n",
      " |-- BOWLING_ODIs_Inns: string (nullable = true)\n",
      " |-- BOWLING_ODIs_Balls: string (nullable = true)\n",
      " |-- BOWLING_ODIs_Runs: string (nullable = true)\n",
      " |-- BOWLING_ODIs_Wkts: string (nullable = true)\n",
      " |-- BOWLING_ODIs_BBI: string (nullable = true)\n",
      " |-- BOWLING_ODIs_BBM: string (nullable = true)\n",
      " |-- BOWLING_ODIs_Ave: string (nullable = true)\n",
      " |-- BOWLING_ODIs_Econ: string (nullable = true)\n",
      " |-- BOWLING_ODIs_SR: string (nullable = true)\n",
      " |-- BOWLING_ODIs_4w: string (nullable = true)\n",
      " |-- BOWLING_ODIs_5w: string (nullable = true)\n",
      " |-- BOWLING_ODIs_10: string (nullable = true)\n",
      " |-- BOWLING_T20Is_Mat: double (nullable = true)\n",
      " |-- BOWLING_T20Is_Inns: string (nullable = true)\n",
      " |-- BOWLING_T20Is_Balls: string (nullable = true)\n",
      " |-- BOWLING_T20Is_Runs: string (nullable = true)\n",
      " |-- BOWLING_T20Is_Wkts: string (nullable = true)\n",
      " |-- BOWLING_T20Is_BBI: string (nullable = true)\n",
      " |-- BOWLING_T20Is_BBM: string (nullable = true)\n",
      " |-- BOWLING_T20Is_Ave: string (nullable = true)\n",
      " |-- BOWLING_T20Is_Econ: string (nullable = true)\n",
      " |-- BOWLING_T20Is_SR: string (nullable = true)\n",
      " |-- BOWLING_T20Is_4w: string (nullable = true)\n",
      " |-- BOWLING_T20Is_5w: string (nullable = true)\n",
      " |-- BOWLING_T20Is_10: string (nullable = true)\n",
      " |-- BOWLING_First-class_Mat: double (nullable = true)\n",
      " |-- BOWLING_First-class_Inns: string (nullable = true)\n",
      " |-- BOWLING_First-class_Balls: string (nullable = true)\n",
      " |-- BOWLING_First-class_Runs: string (nullable = true)\n",
      " |-- BOWLING_First-class_Wkts: string (nullable = true)\n",
      " |-- BOWLING_First-class_BBI: string (nullable = true)\n",
      " |-- BOWLING_First-class_BBM: string (nullable = true)\n",
      " |-- BOWLING_First-class_Ave: string (nullable = true)\n",
      " |-- BOWLING_First-class_Econ: string (nullable = true)\n",
      " |-- BOWLING_First-class_SR: string (nullable = true)\n",
      " |-- BOWLING_First-class_4w: string (nullable = true)\n",
      " |-- BOWLING_First-class_5w: string (nullable = true)\n",
      " |-- BOWLING_First-class_10: string (nullable = true)\n",
      " |-- BOWLING_List A_Mat: double (nullable = true)\n",
      " |-- BOWLING_List A_Inns: string (nullable = true)\n",
      " |-- BOWLING_List A_Balls: string (nullable = true)\n",
      " |-- BOWLING_List A_Runs: string (nullable = true)\n",
      " |-- BOWLING_List A_Wkts: string (nullable = true)\n",
      " |-- BOWLING_List A_BBI: string (nullable = true)\n",
      " |-- BOWLING_List A_BBM: string (nullable = true)\n",
      " |-- BOWLING_List A_Ave: string (nullable = true)\n",
      " |-- BOWLING_List A_Econ: string (nullable = true)\n",
      " |-- BOWLING_List A_SR: string (nullable = true)\n",
      " |-- BOWLING_List A_4w: string (nullable = true)\n",
      " |-- BOWLING_List A_5w: string (nullable = true)\n",
      " |-- BOWLING_List A_10: string (nullable = true)\n",
      " |-- BOWLING_T20s_Mat: double (nullable = true)\n",
      " |-- BOWLING_T20s_Inns: string (nullable = true)\n",
      " |-- BOWLING_T20s_Balls: string (nullable = true)\n",
      " |-- BOWLING_T20s_Runs: string (nullable = true)\n",
      " |-- BOWLING_T20s_Wkts: string (nullable = true)\n",
      " |-- BOWLING_T20s_BBI: string (nullable = true)\n",
      " |-- BOWLING_T20s_BBM: string (nullable = true)\n",
      " |-- BOWLING_T20s_Ave: string (nullable = true)\n",
      " |-- BOWLING_T20s_Econ: string (nullable = true)\n",
      " |-- BOWLING_T20s_SR: string (nullable = true)\n",
      " |-- BOWLING_T20s_4w: string (nullable = true)\n",
      " |-- BOWLING_T20s_5w: string (nullable = true)\n",
      " |-- BOWLING_T20s_10: string (nullable = true)\n",
      "\n"
     ]
    }
   ],
   "source": [
    "main_spark.printSchema()"
   ]
  },
  {
   "cell_type": "code",
   "execution_count": null,
   "metadata": {},
   "outputs": [
    {
     "data": {
      "text/html": [
       "<div>\n",
       "<style scoped>\n",
       "    .dataframe tbody tr th:only-of-type {\n",
       "        vertical-align: middle;\n",
       "    }\n",
       "\n",
       "    .dataframe tbody tr th {\n",
       "        vertical-align: top;\n",
       "    }\n",
       "\n",
       "    .dataframe thead th {\n",
       "        text-align: right;\n",
       "    }\n",
       "</style>\n",
       "<table border=\"1\" class=\"dataframe\">\n",
       "  <thead>\n",
       "    <tr style=\"text-align: right;\">\n",
       "      <th></th>\n",
       "      <th>ID</th>\n",
       "      <th>NAME</th>\n",
       "      <th>COUNTRY</th>\n",
       "      <th>Full name</th>\n",
       "      <th>Born</th>\n",
       "      <th>Died</th>\n",
       "      <th>Current age</th>\n",
       "      <th>Major teams</th>\n",
       "      <th>Education</th>\n",
       "      <th>Height</th>\n",
       "      <th>...</th>\n",
       "      <th>BOWLING_T20s_Runs</th>\n",
       "      <th>BOWLING_T20s_Wkts</th>\n",
       "      <th>BOWLING_T20s_BBI</th>\n",
       "      <th>BOWLING_T20s_BBM</th>\n",
       "      <th>BOWLING_T20s_Ave</th>\n",
       "      <th>BOWLING_T20s_Econ</th>\n",
       "      <th>BOWLING_T20s_SR</th>\n",
       "      <th>BOWLING_T20s_4w</th>\n",
       "      <th>BOWLING_T20s_5w</th>\n",
       "      <th>BOWLING_T20s_10</th>\n",
       "    </tr>\n",
       "  </thead>\n",
       "  <tbody>\n",
       "    <tr>\n",
       "      <th>0</th>\n",
       "      <td>8772</td>\n",
       "      <td>Henry Arkell</td>\n",
       "      <td>England</td>\n",
       "      <td>Henry John Denham Arkell</td>\n",
       "      <td>\\nJune 26, 1898, Edmonton, Middlesex</td>\n",
       "      <td>March 12, 1982, Oxford (aged 83 years 259 days)</td>\n",
       "      <td>nan</td>\n",
       "      <td>Northamptonshire</td>\n",
       "      <td>nan</td>\n",
       "      <td>nan</td>\n",
       "      <td>...</td>\n",
       "      <td>nan</td>\n",
       "      <td>nan</td>\n",
       "      <td>nan</td>\n",
       "      <td>nan</td>\n",
       "      <td>nan</td>\n",
       "      <td>nan</td>\n",
       "      <td>nan</td>\n",
       "      <td>nan</td>\n",
       "      <td>nan</td>\n",
       "      <td>nan</td>\n",
       "    </tr>\n",
       "    <tr>\n",
       "      <th>1</th>\n",
       "      <td>532565</td>\n",
       "      <td>Richard Nyren</td>\n",
       "      <td>England</td>\n",
       "      <td>Richard Nyren</td>\n",
       "      <td>\\nApril 25, 1734, Eartham, Sussex</td>\n",
       "      <td>April 25, 1797, Lee or Leigh, Kent (aged 63 ye...</td>\n",
       "      <td>nan</td>\n",
       "      <td>Hampshire XI</td>\n",
       "      <td>nan</td>\n",
       "      <td>nan</td>\n",
       "      <td>...</td>\n",
       "      <td>nan</td>\n",
       "      <td>nan</td>\n",
       "      <td>nan</td>\n",
       "      <td>nan</td>\n",
       "      <td>nan</td>\n",
       "      <td>nan</td>\n",
       "      <td>nan</td>\n",
       "      <td>nan</td>\n",
       "      <td>nan</td>\n",
       "      <td>nan</td>\n",
       "    </tr>\n",
       "    <tr>\n",
       "      <th>2</th>\n",
       "      <td>16856</td>\n",
       "      <td>Sydney Maartensz</td>\n",
       "      <td>England</td>\n",
       "      <td>Sydney Gratien Adair Maartensz</td>\n",
       "      <td>\\nApril 14, 1882, Colombo, Ceylon</td>\n",
       "      <td>September 10, 1967, Pyrford, Woking, Surrey (a...</td>\n",
       "      <td>nan</td>\n",
       "      <td>Hampshire</td>\n",
       "      <td>nan</td>\n",
       "      <td>nan</td>\n",
       "      <td>...</td>\n",
       "      <td>nan</td>\n",
       "      <td>nan</td>\n",
       "      <td>nan</td>\n",
       "      <td>nan</td>\n",
       "      <td>nan</td>\n",
       "      <td>nan</td>\n",
       "      <td>nan</td>\n",
       "      <td>nan</td>\n",
       "      <td>nan</td>\n",
       "      <td>nan</td>\n",
       "    </tr>\n",
       "    <tr>\n",
       "      <th>3</th>\n",
       "      <td>16715</td>\n",
       "      <td>Brian Lander</td>\n",
       "      <td>England</td>\n",
       "      <td>Brian Richard Lander</td>\n",
       "      <td>\\nJanuary 9, 1942, Bishop Auckland, Co Durham</td>\n",
       "      <td>nan</td>\n",
       "      <td>77 years 73 days</td>\n",
       "      <td>['Durham,', 'Minor Counties']</td>\n",
       "      <td>nan</td>\n",
       "      <td>nan</td>\n",
       "      <td>...</td>\n",
       "      <td>nan</td>\n",
       "      <td>nan</td>\n",
       "      <td>nan</td>\n",
       "      <td>nan</td>\n",
       "      <td>nan</td>\n",
       "      <td>nan</td>\n",
       "      <td>nan</td>\n",
       "      <td>nan</td>\n",
       "      <td>nan</td>\n",
       "      <td>nan</td>\n",
       "    </tr>\n",
       "    <tr>\n",
       "      <th>4</th>\n",
       "      <td>15989</td>\n",
       "      <td>Derek Kenderdine</td>\n",
       "      <td>England</td>\n",
       "      <td>Derek Charles Kenderdine</td>\n",
       "      <td>\\nOctober 28, 1897, Chislehurst, Kent</td>\n",
       "      <td>August 28, 1947, Cambridge (aged 49 years 304 ...</td>\n",
       "      <td>nan</td>\n",
       "      <td>Royal Navy</td>\n",
       "      <td>nan</td>\n",
       "      <td>nan</td>\n",
       "      <td>...</td>\n",
       "      <td>nan</td>\n",
       "      <td>nan</td>\n",
       "      <td>nan</td>\n",
       "      <td>nan</td>\n",
       "      <td>nan</td>\n",
       "      <td>nan</td>\n",
       "      <td>nan</td>\n",
       "      <td>nan</td>\n",
       "      <td>nan</td>\n",
       "      <td>nan</td>\n",
       "    </tr>\n",
       "  </tbody>\n",
       "</table>\n",
       "<p>5 rows × 181 columns</p>\n",
       "</div>"
      ],
      "text/plain": [
       "       ID              NAME  COUNTRY                       Full name  \\\n",
       "0    8772      Henry Arkell  England        Henry John Denham Arkell   \n",
       "1  532565     Richard Nyren  England                   Richard Nyren   \n",
       "2   16856  Sydney Maartensz  England  Sydney Gratien Adair Maartensz   \n",
       "3   16715      Brian Lander  England            Brian Richard Lander   \n",
       "4   15989  Derek Kenderdine  England        Derek Charles Kenderdine   \n",
       "\n",
       "                                             Born  \\\n",
       "0           \\nJune 26, 1898, Edmonton, Middlesex    \n",
       "1              \\nApril 25, 1734, Eartham, Sussex    \n",
       "2              \\nApril 14, 1882, Colombo, Ceylon    \n",
       "3  \\nJanuary 9, 1942, Bishop Auckland, Co Durham    \n",
       "4          \\nOctober 28, 1897, Chislehurst, Kent    \n",
       "\n",
       "                                                Died       Current age  \\\n",
       "0   March 12, 1982, Oxford (aged 83 years 259 days)                nan   \n",
       "1  April 25, 1797, Lee or Leigh, Kent (aged 63 ye...               nan   \n",
       "2  September 10, 1967, Pyrford, Woking, Surrey (a...               nan   \n",
       "3                                                nan  77 years 73 days   \n",
       "4  August 28, 1947, Cambridge (aged 49 years 304 ...               nan   \n",
       "\n",
       "                     Major teams Education Height  ...  BOWLING_T20s_Runs  \\\n",
       "0               Northamptonshire       nan    nan  ...                nan   \n",
       "1                   Hampshire XI       nan    nan  ...                nan   \n",
       "2                      Hampshire       nan    nan  ...                nan   \n",
       "3  ['Durham,', 'Minor Counties']       nan    nan  ...                nan   \n",
       "4                     Royal Navy       nan    nan  ...                nan   \n",
       "\n",
       "  BOWLING_T20s_Wkts BOWLING_T20s_BBI BOWLING_T20s_BBM BOWLING_T20s_Ave  \\\n",
       "0               nan              nan              nan              nan   \n",
       "1               nan              nan              nan              nan   \n",
       "2               nan              nan              nan              nan   \n",
       "3               nan              nan              nan              nan   \n",
       "4               nan              nan              nan              nan   \n",
       "\n",
       "  BOWLING_T20s_Econ BOWLING_T20s_SR BOWLING_T20s_4w BOWLING_T20s_5w  \\\n",
       "0               nan             nan             nan             nan   \n",
       "1               nan             nan             nan             nan   \n",
       "2               nan             nan             nan             nan   \n",
       "3               nan             nan             nan             nan   \n",
       "4               nan             nan             nan             nan   \n",
       "\n",
       "   BOWLING_T20s_10  \n",
       "0              nan  \n",
       "1              nan  \n",
       "2              nan  \n",
       "3              nan  \n",
       "4              nan  \n",
       "\n",
       "[5 rows x 181 columns]"
      ]
     },
     "execution_count": 7,
     "metadata": {},
     "output_type": "execute_result"
    }
   ],
   "source": [
    "main.head()"
   ]
  },
  {
   "cell_type": "code",
   "execution_count": null,
   "metadata": {},
   "outputs": [
    {
     "data": {
      "text/plain": [
       "['ID',\n",
       " 'NAME',\n",
       " 'COUNTRY',\n",
       " 'Full name',\n",
       " 'Born',\n",
       " 'Died',\n",
       " 'Current age',\n",
       " 'Major teams',\n",
       " 'Education',\n",
       " 'Height',\n",
       " 'Nickname',\n",
       " 'Playing role',\n",
       " 'Batting style',\n",
       " 'Bowling style',\n",
       " 'Other',\n",
       " 'Relation',\n",
       " 'In a nutshell',\n",
       " 'DESCRIPTION',\n",
       " 'AWARDS',\n",
       " 'BATTING_Tests_Mat',\n",
       " 'BATTING_Tests_Inns',\n",
       " 'BATTING_Tests_NO',\n",
       " 'BATTING_Tests_Runs',\n",
       " 'BATTING_Tests_HS',\n",
       " 'BATTING_Tests_Ave',\n",
       " 'BATTING_Tests_BF',\n",
       " 'BATTING_Tests_SR',\n",
       " 'BATTING_Tests_100',\n",
       " 'BATTING_Tests_50',\n",
       " 'BATTING_Tests_4s',\n",
       " 'BATTING_Tests_6s',\n",
       " 'BATTING_Tests_Ct',\n",
       " 'BATTING_Tests_St',\n",
       " 'BATTING_ODIs_Mat',\n",
       " 'BATTING_ODIs_Inns',\n",
       " 'BATTING_ODIs_NO',\n",
       " 'BATTING_ODIs_Runs',\n",
       " 'BATTING_ODIs_HS',\n",
       " 'BATTING_ODIs_Ave',\n",
       " 'BATTING_ODIs_BF',\n",
       " 'BATTING_ODIs_SR',\n",
       " 'BATTING_ODIs_100',\n",
       " 'BATTING_ODIs_50',\n",
       " 'BATTING_ODIs_4s',\n",
       " 'BATTING_ODIs_6s',\n",
       " 'BATTING_ODIs_Ct',\n",
       " 'BATTING_ODIs_St',\n",
       " 'BATTING_T20Is_Mat',\n",
       " 'BATTING_T20Is_Inns',\n",
       " 'BATTING_T20Is_NO',\n",
       " 'BATTING_T20Is_Runs',\n",
       " 'BATTING_T20Is_HS',\n",
       " 'BATTING_T20Is_Ave',\n",
       " 'BATTING_T20Is_BF',\n",
       " 'BATTING_T20Is_SR',\n",
       " 'BATTING_T20Is_100',\n",
       " 'BATTING_T20Is_50',\n",
       " 'BATTING_T20Is_4s',\n",
       " 'BATTING_T20Is_6s',\n",
       " 'BATTING_T20Is_Ct',\n",
       " 'BATTING_T20Is_St',\n",
       " 'BATTING_First-class_Mat',\n",
       " 'BATTING_First-class_Inns',\n",
       " 'BATTING_First-class_NO',\n",
       " 'BATTING_First-class_Runs',\n",
       " 'BATTING_First-class_HS',\n",
       " 'BATTING_First-class_Ave',\n",
       " 'BATTING_First-class_BF',\n",
       " 'BATTING_First-class_SR',\n",
       " 'BATTING_First-class_100',\n",
       " 'BATTING_First-class_50',\n",
       " 'BATTING_First-class_4s',\n",
       " 'BATTING_First-class_6s',\n",
       " 'BATTING_First-class_Ct',\n",
       " 'BATTING_First-class_St',\n",
       " 'BATTING_List A_Mat',\n",
       " 'BATTING_List A_Inns',\n",
       " 'BATTING_List A_NO',\n",
       " 'BATTING_List A_Runs',\n",
       " 'BATTING_List A_HS',\n",
       " 'BATTING_List A_Ave',\n",
       " 'BATTING_List A_BF',\n",
       " 'BATTING_List A_SR',\n",
       " 'BATTING_List A_100',\n",
       " 'BATTING_List A_50',\n",
       " 'BATTING_List A_4s',\n",
       " 'BATTING_List A_6s',\n",
       " 'BATTING_List A_Ct',\n",
       " 'BATTING_List A_St',\n",
       " 'BATTING_T20s_Mat',\n",
       " 'BATTING_T20s_Inns',\n",
       " 'BATTING_T20s_NO',\n",
       " 'BATTING_T20s_Runs',\n",
       " 'BATTING_T20s_HS',\n",
       " 'BATTING_T20s_Ave',\n",
       " 'BATTING_T20s_BF',\n",
       " 'BATTING_T20s_SR',\n",
       " 'BATTING_T20s_100',\n",
       " 'BATTING_T20s_50',\n",
       " 'BATTING_T20s_4s',\n",
       " 'BATTING_T20s_6s',\n",
       " 'BATTING_T20s_Ct',\n",
       " 'BATTING_T20s_St',\n",
       " 'BOWLING_Tests_Mat',\n",
       " 'BOWLING_Tests_Inns',\n",
       " 'BOWLING_Tests_Balls',\n",
       " 'BOWLING_Tests_Runs',\n",
       " 'BOWLING_Tests_Wkts',\n",
       " 'BOWLING_Tests_BBI',\n",
       " 'BOWLING_Tests_BBM',\n",
       " 'BOWLING_Tests_Ave',\n",
       " 'BOWLING_Tests_Econ',\n",
       " 'BOWLING_Tests_SR',\n",
       " 'BOWLING_Tests_4w',\n",
       " 'BOWLING_Tests_5w',\n",
       " 'BOWLING_Tests_10',\n",
       " 'BOWLING_ODIs_Mat',\n",
       " 'BOWLING_ODIs_Inns',\n",
       " 'BOWLING_ODIs_Balls',\n",
       " 'BOWLING_ODIs_Runs',\n",
       " 'BOWLING_ODIs_Wkts',\n",
       " 'BOWLING_ODIs_BBI',\n",
       " 'BOWLING_ODIs_BBM',\n",
       " 'BOWLING_ODIs_Ave',\n",
       " 'BOWLING_ODIs_Econ',\n",
       " 'BOWLING_ODIs_SR',\n",
       " 'BOWLING_ODIs_4w',\n",
       " 'BOWLING_ODIs_5w',\n",
       " 'BOWLING_ODIs_10',\n",
       " 'BOWLING_T20Is_Mat',\n",
       " 'BOWLING_T20Is_Inns',\n",
       " 'BOWLING_T20Is_Balls',\n",
       " 'BOWLING_T20Is_Runs',\n",
       " 'BOWLING_T20Is_Wkts',\n",
       " 'BOWLING_T20Is_BBI',\n",
       " 'BOWLING_T20Is_BBM',\n",
       " 'BOWLING_T20Is_Ave',\n",
       " 'BOWLING_T20Is_Econ',\n",
       " 'BOWLING_T20Is_SR',\n",
       " 'BOWLING_T20Is_4w',\n",
       " 'BOWLING_T20Is_5w',\n",
       " 'BOWLING_T20Is_10',\n",
       " 'BOWLING_First-class_Mat',\n",
       " 'BOWLING_First-class_Inns',\n",
       " 'BOWLING_First-class_Balls',\n",
       " 'BOWLING_First-class_Runs',\n",
       " 'BOWLING_First-class_Wkts',\n",
       " 'BOWLING_First-class_BBI',\n",
       " 'BOWLING_First-class_BBM',\n",
       " 'BOWLING_First-class_Ave',\n",
       " 'BOWLING_First-class_Econ',\n",
       " 'BOWLING_First-class_SR',\n",
       " 'BOWLING_First-class_4w',\n",
       " 'BOWLING_First-class_5w',\n",
       " 'BOWLING_First-class_10',\n",
       " 'BOWLING_List A_Mat',\n",
       " 'BOWLING_List A_Inns',\n",
       " 'BOWLING_List A_Balls',\n",
       " 'BOWLING_List A_Runs',\n",
       " 'BOWLING_List A_Wkts',\n",
       " 'BOWLING_List A_BBI',\n",
       " 'BOWLING_List A_BBM',\n",
       " 'BOWLING_List A_Ave',\n",
       " 'BOWLING_List A_Econ',\n",
       " 'BOWLING_List A_SR',\n",
       " 'BOWLING_List A_4w',\n",
       " 'BOWLING_List A_5w',\n",
       " 'BOWLING_List A_10',\n",
       " 'BOWLING_T20s_Mat',\n",
       " 'BOWLING_T20s_Inns',\n",
       " 'BOWLING_T20s_Balls',\n",
       " 'BOWLING_T20s_Runs',\n",
       " 'BOWLING_T20s_Wkts',\n",
       " 'BOWLING_T20s_BBI',\n",
       " 'BOWLING_T20s_BBM',\n",
       " 'BOWLING_T20s_Ave',\n",
       " 'BOWLING_T20s_Econ',\n",
       " 'BOWLING_T20s_SR',\n",
       " 'BOWLING_T20s_4w',\n",
       " 'BOWLING_T20s_5w',\n",
       " 'BOWLING_T20s_10']"
      ]
     },
     "execution_count": 8,
     "metadata": {},
     "output_type": "execute_result"
    }
   ],
   "source": [
    "main.columns.tolist()"
   ]
  },
  {
   "cell_type": "code",
   "execution_count": null,
   "metadata": {},
   "outputs": [
    {
     "data": {
      "text/plain": [
       "0"
      ]
     },
     "execution_count": 9,
     "metadata": {},
     "output_type": "execute_result"
    }
   ],
   "source": [
    "main['In a nutshell'].isnull().sum()"
   ]
  },
  {
   "cell_type": "markdown",
   "metadata": {},
   "source": [
    "## Dropping those columns which have a high propotion of NULL Values"
   ]
  },
  {
   "cell_type": "markdown",
   "metadata": {},
   "source": [
    "#### Pyspark"
   ]
  },
  {
   "cell_type": "code",
   "execution_count": null,
   "metadata": {},
   "outputs": [],
   "source": [
    "null_instances=main.isnull().sum()"
   ]
  },
  {
   "cell_type": "code",
   "execution_count": null,
   "metadata": {},
   "outputs": [],
   "source": [
    "null_instances_spark=main_spark.select([count(when(isnan(c) | col(c).isNull(), c)).alias(c) for c in main_spark.columns])"
   ]
  },
  {
   "cell_type": "code",
   "execution_count": null,
   "metadata": {},
   "outputs": [
    {
     "name": "stdout",
     "output_type": "stream",
     "text": [
      "+---+----+-------+---------+----+-----+-----------+-----------+---------+------+--------+------------+-------------+-------------+-----+--------+-------------+-----------+------+-----------------+------------------+----------------+------------------+----------------+-----------------+----------------+----------------+-----------------+----------------+----------------+----------------+----------------+----------------+----------------+-----------------+---------------+-----------------+---------------+----------------+---------------+---------------+----------------+---------------+---------------+---------------+---------------+---------------+-----------------+------------------+----------------+------------------+----------------+-----------------+----------------+----------------+-----------------+----------------+----------------+----------------+----------------+----------------+-----------------------+------------------------+----------------------+------------------------+----------------------+-----------------------+----------------------+----------------------+-----------------------+----------------------+----------------------+----------------------+----------------------+----------------------+------------------+-------------------+-----------------+-------------------+-----------------+------------------+-----------------+-----------------+------------------+-----------------+-----------------+-----------------+-----------------+-----------------+----------------+-----------------+---------------+-----------------+---------------+----------------+---------------+---------------+----------------+---------------+---------------+---------------+---------------+---------------+-----------------+------------------+-------------------+------------------+------------------+-----------------+-----------------+-----------------+------------------+----------------+----------------+----------------+----------------+----------------+-----------------+------------------+-----------------+-----------------+----------------+----------------+----------------+-----------------+---------------+---------------+---------------+---------------+-----------------+------------------+-------------------+------------------+------------------+-----------------+-----------------+-----------------+------------------+----------------+----------------+----------------+----------------+-----------------------+------------------------+-------------------------+------------------------+------------------------+-----------------------+-----------------------+-----------------------+------------------------+----------------------+----------------------+----------------------+----------------------+------------------+-------------------+--------------------+-------------------+-------------------+------------------+------------------+------------------+-------------------+-----------------+-----------------+-----------------+-----------------+----------------+-----------------+------------------+-----------------+-----------------+----------------+----------------+----------------+-----------------+---------------+---------------+---------------+---------------+\n",
      "| ID|NAME|COUNTRY|Full name|Born| Died|Current age|Major teams|Education|Height|Nickname|Playing role|Batting style|Bowling style|Other|Relation|In a nutshell|DESCRIPTION|AWARDS|BATTING_Tests_Mat|BATTING_Tests_Inns|BATTING_Tests_NO|BATTING_Tests_Runs|BATTING_Tests_HS|BATTING_Tests_Ave|BATTING_Tests_BF|BATTING_Tests_SR|BATTING_Tests_100|BATTING_Tests_50|BATTING_Tests_4s|BATTING_Tests_6s|BATTING_Tests_Ct|BATTING_Tests_St|BATTING_ODIs_Mat|BATTING_ODIs_Inns|BATTING_ODIs_NO|BATTING_ODIs_Runs|BATTING_ODIs_HS|BATTING_ODIs_Ave|BATTING_ODIs_BF|BATTING_ODIs_SR|BATTING_ODIs_100|BATTING_ODIs_50|BATTING_ODIs_4s|BATTING_ODIs_6s|BATTING_ODIs_Ct|BATTING_ODIs_St|BATTING_T20Is_Mat|BATTING_T20Is_Inns|BATTING_T20Is_NO|BATTING_T20Is_Runs|BATTING_T20Is_HS|BATTING_T20Is_Ave|BATTING_T20Is_BF|BATTING_T20Is_SR|BATTING_T20Is_100|BATTING_T20Is_50|BATTING_T20Is_4s|BATTING_T20Is_6s|BATTING_T20Is_Ct|BATTING_T20Is_St|BATTING_First-class_Mat|BATTING_First-class_Inns|BATTING_First-class_NO|BATTING_First-class_Runs|BATTING_First-class_HS|BATTING_First-class_Ave|BATTING_First-class_BF|BATTING_First-class_SR|BATTING_First-class_100|BATTING_First-class_50|BATTING_First-class_4s|BATTING_First-class_6s|BATTING_First-class_Ct|BATTING_First-class_St|BATTING_List A_Mat|BATTING_List A_Inns|BATTING_List A_NO|BATTING_List A_Runs|BATTING_List A_HS|BATTING_List A_Ave|BATTING_List A_BF|BATTING_List A_SR|BATTING_List A_100|BATTING_List A_50|BATTING_List A_4s|BATTING_List A_6s|BATTING_List A_Ct|BATTING_List A_St|BATTING_T20s_Mat|BATTING_T20s_Inns|BATTING_T20s_NO|BATTING_T20s_Runs|BATTING_T20s_HS|BATTING_T20s_Ave|BATTING_T20s_BF|BATTING_T20s_SR|BATTING_T20s_100|BATTING_T20s_50|BATTING_T20s_4s|BATTING_T20s_6s|BATTING_T20s_Ct|BATTING_T20s_St|BOWLING_Tests_Mat|BOWLING_Tests_Inns|BOWLING_Tests_Balls|BOWLING_Tests_Runs|BOWLING_Tests_Wkts|BOWLING_Tests_BBI|BOWLING_Tests_BBM|BOWLING_Tests_Ave|BOWLING_Tests_Econ|BOWLING_Tests_SR|BOWLING_Tests_4w|BOWLING_Tests_5w|BOWLING_Tests_10|BOWLING_ODIs_Mat|BOWLING_ODIs_Inns|BOWLING_ODIs_Balls|BOWLING_ODIs_Runs|BOWLING_ODIs_Wkts|BOWLING_ODIs_BBI|BOWLING_ODIs_BBM|BOWLING_ODIs_Ave|BOWLING_ODIs_Econ|BOWLING_ODIs_SR|BOWLING_ODIs_4w|BOWLING_ODIs_5w|BOWLING_ODIs_10|BOWLING_T20Is_Mat|BOWLING_T20Is_Inns|BOWLING_T20Is_Balls|BOWLING_T20Is_Runs|BOWLING_T20Is_Wkts|BOWLING_T20Is_BBI|BOWLING_T20Is_BBM|BOWLING_T20Is_Ave|BOWLING_T20Is_Econ|BOWLING_T20Is_SR|BOWLING_T20Is_4w|BOWLING_T20Is_5w|BOWLING_T20Is_10|BOWLING_First-class_Mat|BOWLING_First-class_Inns|BOWLING_First-class_Balls|BOWLING_First-class_Runs|BOWLING_First-class_Wkts|BOWLING_First-class_BBI|BOWLING_First-class_BBM|BOWLING_First-class_Ave|BOWLING_First-class_Econ|BOWLING_First-class_SR|BOWLING_First-class_4w|BOWLING_First-class_5w|BOWLING_First-class_10|BOWLING_List A_Mat|BOWLING_List A_Inns|BOWLING_List A_Balls|BOWLING_List A_Runs|BOWLING_List A_Wkts|BOWLING_List A_BBI|BOWLING_List A_BBM|BOWLING_List A_Ave|BOWLING_List A_Econ|BOWLING_List A_SR|BOWLING_List A_4w|BOWLING_List A_5w|BOWLING_List A_10|BOWLING_T20s_Mat|BOWLING_T20s_Inns|BOWLING_T20s_Balls|BOWLING_T20s_Runs|BOWLING_T20s_Wkts|BOWLING_T20s_BBI|BOWLING_T20s_BBM|BOWLING_T20s_Ave|BOWLING_T20s_Econ|BOWLING_T20s_SR|BOWLING_T20s_4w|BOWLING_T20s_5w|BOWLING_T20s_10|\n",
      "+---+----+-------+---------+----+-----+-----------+-----------+---------+------+--------+------------+-------------+-------------+-----+--------+-------------+-----------+------+-----------------+------------------+----------------+------------------+----------------+-----------------+----------------+----------------+-----------------+----------------+----------------+----------------+----------------+----------------+----------------+-----------------+---------------+-----------------+---------------+----------------+---------------+---------------+----------------+---------------+---------------+---------------+---------------+---------------+-----------------+------------------+----------------+------------------+----------------+-----------------+----------------+----------------+-----------------+----------------+----------------+----------------+----------------+----------------+-----------------------+------------------------+----------------------+------------------------+----------------------+-----------------------+----------------------+----------------------+-----------------------+----------------------+----------------------+----------------------+----------------------+----------------------+------------------+-------------------+-----------------+-------------------+-----------------+------------------+-----------------+-----------------+------------------+-----------------+-----------------+-----------------+-----------------+-----------------+----------------+-----------------+---------------+-----------------+---------------+----------------+---------------+---------------+----------------+---------------+---------------+---------------+---------------+---------------+-----------------+------------------+-------------------+------------------+------------------+-----------------+-----------------+-----------------+------------------+----------------+----------------+----------------+----------------+----------------+-----------------+------------------+-----------------+-----------------+----------------+----------------+----------------+-----------------+---------------+---------------+---------------+---------------+-----------------+------------------+-------------------+------------------+------------------+-----------------+-----------------+-----------------+------------------+----------------+----------------+----------------+----------------+-----------------------+------------------------+-------------------------+------------------------+------------------------+-----------------------+-----------------------+-----------------------+------------------------+----------------------+----------------------+----------------------+----------------------+------------------+-------------------+--------------------+-------------------+-------------------+------------------+------------------+------------------+-------------------+-----------------+-----------------+-----------------+-----------------+----------------+-----------------+------------------+-----------------+-----------------+----------------+----------------+----------------+-----------------+---------------+---------------+---------------+---------------+\n",
      "|  0|   2|      0|        2|   0|73208|      41892|       6271|    84010| 88536|   90308|       86590|        33056|        46223|83664|   85608|        90283|          0|     0|            86656|             86656|           86656|             86656|           86656|            86656|           88625|           88625|            86656|           86656|           88299|           87110|           86656|           86656|           86652|            86652|          86652|            86652|          86652|           86652|          87240|          87240|           86652|          86652|          87421|          87400|          86652|          86652|            88157|             88157|           88157|             88157|           88157|            88157|           88173|           88173|            88157|           88157|           88173|           88173|           88157|           88157|                  44678|                   44678|                 44678|                   44678|                 44678|                  44678|                 81635|                 81635|                  44678|                 46991|                 80227|                 80220|                 44678|                 44678|             70577|              70577|            70577|              70577|            70577|             70577|            81454|            81454|             70577|            70577|            81709|            81710|            70577|            70577|           82880|            82880|          82880|            82880|          82880|           82880|          82900|          82900|           82880|          82880|          82900|          82900|          82880|          82880|            86656|             86656|              86656|             86656|             86656|            86656|            86656|            86656|             86656|           86656|           86656|           86656|           86656|           86652|            86652|             86652|            86652|            86652|           86652|           86652|           86652|            86652|          86652|          86652|          86652|          86652|            88157|             88157|              88157|             88157|             88157|            88157|            88157|            88157|             88157|           88157|           88157|           88157|           88157|                  44678|                   82218|                    53550|                   44923|                   44678|                  44678|                  64837|                  45108|                   53698|                 51619|                 63629|                 44678|                 44678|             70577|              82948|               70588|              70577|              70577|             70577|             70577|             70578|              70605|            70614|            70577|            70577|            70577|           82880|            82880|             82880|            82880|            82880|           82880|           82880|           82880|            82880|          82880|          82880|          82880|          82880|\n",
      "+---+----+-------+---------+----+-----+-----------+-----------+---------+------+--------+------------+-------------+-------------+-----+--------+-------------+-----------+------+-----------------+------------------+----------------+------------------+----------------+-----------------+----------------+----------------+-----------------+----------------+----------------+----------------+----------------+----------------+----------------+-----------------+---------------+-----------------+---------------+----------------+---------------+---------------+----------------+---------------+---------------+---------------+---------------+---------------+-----------------+------------------+----------------+------------------+----------------+-----------------+----------------+----------------+-----------------+----------------+----------------+----------------+----------------+----------------+-----------------------+------------------------+----------------------+------------------------+----------------------+-----------------------+----------------------+----------------------+-----------------------+----------------------+----------------------+----------------------+----------------------+----------------------+------------------+-------------------+-----------------+-------------------+-----------------+------------------+-----------------+-----------------+------------------+-----------------+-----------------+-----------------+-----------------+-----------------+----------------+-----------------+---------------+-----------------+---------------+----------------+---------------+---------------+----------------+---------------+---------------+---------------+---------------+---------------+-----------------+------------------+-------------------+------------------+------------------+-----------------+-----------------+-----------------+------------------+----------------+----------------+----------------+----------------+----------------+-----------------+------------------+-----------------+-----------------+----------------+----------------+----------------+-----------------+---------------+---------------+---------------+---------------+-----------------+------------------+-------------------+------------------+------------------+-----------------+-----------------+-----------------+------------------+----------------+----------------+----------------+----------------+-----------------------+------------------------+-------------------------+------------------------+------------------------+-----------------------+-----------------------+-----------------------+------------------------+----------------------+----------------------+----------------------+----------------------+------------------+-------------------+--------------------+-------------------+-------------------+------------------+------------------+------------------+-------------------+-----------------+-----------------+-----------------+-----------------+----------------+-----------------+------------------+-----------------+-----------------+----------------+----------------+----------------+-----------------+---------------+---------------+---------------+---------------+\n",
      "\n"
     ]
    }
   ],
   "source": [
    "null_instances_spark.show(1)"
   ]
  },
  {
   "cell_type": "code",
   "execution_count": null,
   "metadata": {},
   "outputs": [],
   "source": [
    "null_instances_spark_rdd=null_instances_spark.rdd"
   ]
  },
  {
   "cell_type": "code",
   "execution_count": null,
   "metadata": {},
   "outputs": [
    {
     "data": {
      "text/plain": [
       "[Row(ID=0, NAME=2, COUNTRY=0, Full name=2, Born=0, Died=73208, Current age=41892, Major teams=6271, Education=84010, Height=88536, Nickname=90308, Playing role=86590, Batting style=33056, Bowling style=46223, Other=83664, Relation=85608, In a nutshell=90283, DESCRIPTION=0, AWARDS=0, BATTING_Tests_Mat=86656, BATTING_Tests_Inns=86656, BATTING_Tests_NO=86656, BATTING_Tests_Runs=86656, BATTING_Tests_HS=86656, BATTING_Tests_Ave=86656, BATTING_Tests_BF=88625, BATTING_Tests_SR=88625, BATTING_Tests_100=86656, BATTING_Tests_50=86656, BATTING_Tests_4s=88299, BATTING_Tests_6s=87110, BATTING_Tests_Ct=86656, BATTING_Tests_St=86656, BATTING_ODIs_Mat=86652, BATTING_ODIs_Inns=86652, BATTING_ODIs_NO=86652, BATTING_ODIs_Runs=86652, BATTING_ODIs_HS=86652, BATTING_ODIs_Ave=86652, BATTING_ODIs_BF=87240, BATTING_ODIs_SR=87240, BATTING_ODIs_100=86652, BATTING_ODIs_50=86652, BATTING_ODIs_4s=87421, BATTING_ODIs_6s=87400, BATTING_ODIs_Ct=86652, BATTING_ODIs_St=86652, BATTING_T20Is_Mat=88157, BATTING_T20Is_Inns=88157, BATTING_T20Is_NO=88157, BATTING_T20Is_Runs=88157, BATTING_T20Is_HS=88157, BATTING_T20Is_Ave=88157, BATTING_T20Is_BF=88173, BATTING_T20Is_SR=88173, BATTING_T20Is_100=88157, BATTING_T20Is_50=88157, BATTING_T20Is_4s=88173, BATTING_T20Is_6s=88173, BATTING_T20Is_Ct=88157, BATTING_T20Is_St=88157, BATTING_First-class_Mat=44678, BATTING_First-class_Inns=44678, BATTING_First-class_NO=44678, BATTING_First-class_Runs=44678, BATTING_First-class_HS=44678, BATTING_First-class_Ave=44678, BATTING_First-class_BF=81635, BATTING_First-class_SR=81635, BATTING_First-class_100=44678, BATTING_First-class_50=46991, BATTING_First-class_4s=80227, BATTING_First-class_6s=80220, BATTING_First-class_Ct=44678, BATTING_First-class_St=44678, BATTING_List A_Mat=70577, BATTING_List A_Inns=70577, BATTING_List A_NO=70577, BATTING_List A_Runs=70577, BATTING_List A_HS=70577, BATTING_List A_Ave=70577, BATTING_List A_BF=81454, BATTING_List A_SR=81454, BATTING_List A_100=70577, BATTING_List A_50=70577, BATTING_List A_4s=81709, BATTING_List A_6s=81710, BATTING_List A_Ct=70577, BATTING_List A_St=70577, BATTING_T20s_Mat=82880, BATTING_T20s_Inns=82880, BATTING_T20s_NO=82880, BATTING_T20s_Runs=82880, BATTING_T20s_HS=82880, BATTING_T20s_Ave=82880, BATTING_T20s_BF=82900, BATTING_T20s_SR=82900, BATTING_T20s_100=82880, BATTING_T20s_50=82880, BATTING_T20s_4s=82900, BATTING_T20s_6s=82900, BATTING_T20s_Ct=82880, BATTING_T20s_St=82880, BOWLING_Tests_Mat=86656, BOWLING_Tests_Inns=86656, BOWLING_Tests_Balls=86656, BOWLING_Tests_Runs=86656, BOWLING_Tests_Wkts=86656, BOWLING_Tests_BBI=86656, BOWLING_Tests_BBM=86656, BOWLING_Tests_Ave=86656, BOWLING_Tests_Econ=86656, BOWLING_Tests_SR=86656, BOWLING_Tests_4w=86656, BOWLING_Tests_5w=86656, BOWLING_Tests_10=86656, BOWLING_ODIs_Mat=86652, BOWLING_ODIs_Inns=86652, BOWLING_ODIs_Balls=86652, BOWLING_ODIs_Runs=86652, BOWLING_ODIs_Wkts=86652, BOWLING_ODIs_BBI=86652, BOWLING_ODIs_BBM=86652, BOWLING_ODIs_Ave=86652, BOWLING_ODIs_Econ=86652, BOWLING_ODIs_SR=86652, BOWLING_ODIs_4w=86652, BOWLING_ODIs_5w=86652, BOWLING_ODIs_10=86652, BOWLING_T20Is_Mat=88157, BOWLING_T20Is_Inns=88157, BOWLING_T20Is_Balls=88157, BOWLING_T20Is_Runs=88157, BOWLING_T20Is_Wkts=88157, BOWLING_T20Is_BBI=88157, BOWLING_T20Is_BBM=88157, BOWLING_T20Is_Ave=88157, BOWLING_T20Is_Econ=88157, BOWLING_T20Is_SR=88157, BOWLING_T20Is_4w=88157, BOWLING_T20Is_5w=88157, BOWLING_T20Is_10=88157, BOWLING_First-class_Mat=44678, BOWLING_First-class_Inns=82218, BOWLING_First-class_Balls=53550, BOWLING_First-class_Runs=44923, BOWLING_First-class_Wkts=44678, BOWLING_First-class_BBI=44678, BOWLING_First-class_BBM=64837, BOWLING_First-class_Ave=45108, BOWLING_First-class_Econ=53698, BOWLING_First-class_SR=51619, BOWLING_First-class_4w=63629, BOWLING_First-class_5w=44678, BOWLING_First-class_10=44678, BOWLING_List A_Mat=70577, BOWLING_List A_Inns=82948, BOWLING_List A_Balls=70588, BOWLING_List A_Runs=70577, BOWLING_List A_Wkts=70577, BOWLING_List A_BBI=70577, BOWLING_List A_BBM=70577, BOWLING_List A_Ave=70578, BOWLING_List A_Econ=70605, BOWLING_List A_SR=70614, BOWLING_List A_4w=70577, BOWLING_List A_5w=70577, BOWLING_List A_10=70577, BOWLING_T20s_Mat=82880, BOWLING_T20s_Inns=82880, BOWLING_T20s_Balls=82880, BOWLING_T20s_Runs=82880, BOWLING_T20s_Wkts=82880, BOWLING_T20s_BBI=82880, BOWLING_T20s_BBM=82880, BOWLING_T20s_Ave=82880, BOWLING_T20s_Econ=82880, BOWLING_T20s_SR=82880, BOWLING_T20s_4w=82880, BOWLING_T20s_5w=82880, BOWLING_T20s_10=82880)]"
      ]
     },
     "execution_count": 14,
     "metadata": {},
     "output_type": "execute_result"
    }
   ],
   "source": [
    "null_instances_spark_rdd.collect()"
   ]
  },
  {
   "cell_type": "code",
   "execution_count": null,
   "metadata": {},
   "outputs": [],
   "source": [
    "def col_func(x):\n",
    "    list_=[]\n",
    "    for col in list_columns:\n",
    "        propotion_null=x[col]/count_rows\n",
    "        if propotion_null<0.9:\n",
    "            list_.append(col)\n",
    "    return list_\n",
    "        "
   ]
  },
  {
   "cell_type": "code",
   "execution_count": null,
   "id": "6ea18c79",
   "metadata": {},
   "outputs": [],
   "source": [
    "list_columns=main_spark.columns\n",
    "count_rows=main_spark.count()"
   ]
  },
  {
   "cell_type": "code",
   "execution_count": null,
   "id": "f5103d0e",
   "metadata": {},
   "outputs": [
    {
     "data": {
      "text/plain": [
       "90308"
      ]
     },
     "execution_count": 17,
     "metadata": {},
     "output_type": "execute_result"
    }
   ],
   "source": [
    "count_rows"
   ]
  },
  {
   "cell_type": "code",
   "execution_count": null,
   "metadata": {
    "scrolled": false
   },
   "outputs": [],
   "source": [
    "columns_needed=null_instances_spark_rdd.map(col_func).collect()"
   ]
  },
  {
   "cell_type": "code",
   "execution_count": null,
   "metadata": {},
   "outputs": [],
   "source": [
    "null_instances=null_instances.map(lambda x:x/main.shape[0])"
   ]
  },
  {
   "cell_type": "code",
   "execution_count": null,
   "metadata": {},
   "outputs": [
    {
     "data": {
      "text/plain": [
       "Index(['Nickname', 'BATTING_Tests_Mat', 'BATTING_ODIs_Mat',\n",
       "       'BATTING_T20Is_Mat', 'BATTING_T20s_Mat', 'BOWLING_Tests_Mat',\n",
       "       'BOWLING_ODIs_Mat', 'BOWLING_T20Is_Mat', 'BOWLING_T20s_Mat'],\n",
       "      dtype='object')"
      ]
     },
     "execution_count": 20,
     "metadata": {},
     "output_type": "execute_result"
    }
   ],
   "source": [
    "null_instances[null_instances>0.90].index"
   ]
  },
  {
   "cell_type": "code",
   "execution_count": null,
   "metadata": {},
   "outputs": [],
   "source": [
    "main_spark=main_spark.drop('Education', 'Height', 'Nickname', 'Playing role', 'Other', 'Relation',\n",
    "       'In a nutshell')"
   ]
  },
  {
   "cell_type": "markdown",
   "metadata": {},
   "source": [
    "#### Pandas"
   ]
  },
  {
   "cell_type": "code",
   "execution_count": null,
   "metadata": {},
   "outputs": [],
   "source": [
    "main.drop(['Education', 'Height', 'Nickname', 'Playing role', 'Other', 'Relation',\n",
    "       'In a nutshell'],1,inplace=True)"
   ]
  },
  {
   "cell_type": "code",
   "execution_count": null,
   "metadata": {},
   "outputs": [],
   "source": [
    "main[\"Born\"]=main[\"Born\"].str.replace(\"\\n\",\"\")"
   ]
  },
  {
   "cell_type": "markdown",
   "metadata": {},
   "source": [
    "## Forming the Date Birth Column which have Year+Date the player was born"
   ]
  },
  {
   "cell_type": "markdown",
   "metadata": {},
   "source": [
    "#### Pyspark"
   ]
  },
  {
   "cell_type": "code",
   "execution_count": null,
   "metadata": {},
   "outputs": [],
   "source": [
    "split_col = split(main_spark['Born'], ',')"
   ]
  },
  {
   "cell_type": "code",
   "execution_count": null,
   "metadata": {},
   "outputs": [],
   "source": [
    "main_spark = main_spark.withColumn('NAME1', split_col.getItem(0))\n",
    "main_spark = main_spark.withColumn('NAME2', split_col.getItem(1))"
   ]
  },
  {
   "cell_type": "code",
   "execution_count": null,
   "metadata": {},
   "outputs": [
    {
     "name": "stdout",
     "output_type": "stream",
     "text": [
      "+---------------+--------+\n",
      "|          NAME1|   NAME2|\n",
      "+---------------+--------+\n",
      "|      \\nJune 26|    1898|\n",
      "|     \\nApril 25|    1734|\n",
      "|     \\nApril 14|    1882|\n",
      "|    \\nJanuary 9|    1942|\n",
      "|   \\nOctober 28|    1897|\n",
      "|     \\nMarch 24|    1979|\n",
      "|      \\nJuly 17|   1999 |\n",
      "|   \\nDecember 6|    1993|\n",
      "|  \\nFebruary 26|    1929|\n",
      "|   \\nJanuary 21|   2003 |\n",
      "|\\ndate unknown |    null|\n",
      "|\\ndate unknown |    null|\n",
      "|     \\nApril 23|    1986|\n",
      "|    \\nJanuary 8|    1999|\n",
      "|\\ndate unknown |    null|\n",
      "|\\ndate unknown |    null|\n",
      "|     \\nMarch 27|    1991|\n",
      "|    \\nOctober 1|    1987|\n",
      "|         \\n1947| Mombasa|\n",
      "|        \\n1975 |    null|\n",
      "+---------------+--------+\n",
      "only showing top 20 rows\n",
      "\n"
     ]
    }
   ],
   "source": [
    "main_spark.select(\"NAME1\",\"NAME2\").show()"
   ]
  },
  {
   "cell_type": "code",
   "execution_count": null,
   "metadata": {},
   "outputs": [],
   "source": [
    "main_spark=main_spark.na.fill('',[\"NAME2\"])"
   ]
  },
  {
   "cell_type": "code",
   "execution_count": null,
   "metadata": {},
   "outputs": [],
   "source": [
    "def fill_Date_birth_spark(x):\n",
    "    name_2=x[\"NAME2\"]\n",
    "    name_1=x['NAME1']\n",
    "    \n",
    "    name_2=name_2.strip()\n",
    "    name_1=name_1.strip()\n",
    "    \n",
    "    if not name_2.isnumeric():\n",
    "        return name_1\n",
    "    else:\n",
    "        return name_1+\"-\"+name_2\n",
    "   "
   ]
  },
  {
   "cell_type": "code",
   "execution_count": null,
   "metadata": {},
   "outputs": [],
   "source": [
    "main_spark_rdd=main_spark.rdd"
   ]
  },
  {
   "cell_type": "code",
   "execution_count": null,
   "metadata": {},
   "outputs": [],
   "source": [
    "main_spark_rdd_names_join=main_spark_rdd.map(fill_Date_birth_spark)"
   ]
  },
  {
   "cell_type": "code",
   "execution_count": null,
   "metadata": {},
   "outputs": [],
   "source": [
    "list_rdd_born=main_spark_rdd_names_join.collect()"
   ]
  },
  {
   "cell_type": "code",
   "execution_count": null,
   "metadata": {},
   "outputs": [],
   "source": [
    "main_spark = main_spark.repartition(1).withColumn(\n",
    "    \"Date_Birth\", \n",
    "    udf(lambda id: list_rdd_born[id])(monotonically_increasing_id()))"
   ]
  },
  {
   "cell_type": "code",
   "execution_count": null,
   "metadata": {},
   "outputs": [],
   "source": [
    "main_spark=main_spark.drop(\"NAME1\",\"NAME2\")"
   ]
  },
  {
   "cell_type": "code",
   "execution_count": null,
   "metadata": {},
   "outputs": [
    {
     "name": "stdout",
     "output_type": "stream",
     "text": [
      "+----------------+\n",
      "|      Date_Birth|\n",
      "+----------------+\n",
      "|    June 26-1898|\n",
      "|   April 25-1734|\n",
      "|   April 14-1882|\n",
      "|  January 9-1942|\n",
      "| October 28-1897|\n",
      "|   March 24-1979|\n",
      "|    July 17-1999|\n",
      "| December 6-1993|\n",
      "|February 26-1929|\n",
      "| January 21-2003|\n",
      "|    date unknown|\n",
      "|    date unknown|\n",
      "|   April 23-1986|\n",
      "|  January 8-1999|\n",
      "|    date unknown|\n",
      "|    date unknown|\n",
      "|   March 27-1991|\n",
      "|  October 1-1987|\n",
      "|            1947|\n",
      "|            1975|\n",
      "+----------------+\n",
      "only showing top 20 rows\n",
      "\n"
     ]
    }
   ],
   "source": [
    "main_spark.select(\"Date_Birth\").show()"
   ]
  },
  {
   "cell_type": "markdown",
   "metadata": {},
   "source": [
    "#### Pandas"
   ]
  },
  {
   "cell_type": "code",
   "execution_count": null,
   "metadata": {},
   "outputs": [],
   "source": [
    "date_splitted=main[\"Born\"].str.split(\",\",expand=True)\n",
    "date_splitted.iloc[:,1]=date_splitted.iloc[:,1].fillna('')"
   ]
  },
  {
   "cell_type": "code",
   "execution_count": null,
   "metadata": {},
   "outputs": [],
   "source": [
    "def fill_date_birth(x):\n",
    "    x[1]=x[1].strip()\n",
    "    if not x[1].isnumeric():\n",
    "        return x[0]\n",
    "    else:\n",
    "        return x[0]+\"-\"+x[1]\n",
    "\n",
    "main[\"Date_Birth\"]=date_splitted.apply(fill_date_birth,axis=1)"
   ]
  },
  {
   "cell_type": "markdown",
   "metadata": {},
   "source": [
    "### What to do with players whose date is not known"
   ]
  },
  {
   "cell_type": "markdown",
   "metadata": {},
   "source": [
    "#### PySpark"
   ]
  },
  {
   "cell_type": "code",
   "execution_count": null,
   "id": "8488e208",
   "metadata": {},
   "outputs": [],
   "source": [
    "main_spark = main_spark.withColumn('Date_Birth', trim(main_spark.Date_Birth))"
   ]
  },
  {
   "cell_type": "code",
   "execution_count": null,
   "id": "3b697e3e",
   "metadata": {},
   "outputs": [],
   "source": [
    "mode_date_birth_spark=main_spark.filter(~main_spark.Date_Birth.contains('unknown')).groupby('Date_Birth').count().orderBy('count',ascending=False).first()[0]"
   ]
  },
  {
   "cell_type": "code",
   "execution_count": null,
   "id": "44650078",
   "metadata": {},
   "outputs": [],
   "source": [
    "main_spark=main_spark.withColumn('Date_Birth', when(main_spark.Date_Birth.rlike('known|Known|circa|Details|Hong|Cheema|circ|Pakistan|Goa|Kamrup|date unknown'),\"January 1-\"+mode_date_birth_spark).otherwise(\n",
    "    main_spark['Date_Birth']\n",
    "))\n"
   ]
  },
  {
   "cell_type": "code",
   "execution_count": null,
   "id": "440cbf7f",
   "metadata": {},
   "outputs": [
    {
     "name": "stdout",
     "output_type": "stream",
     "text": [
      "+----------------+\n",
      "|      Date_Birth|\n",
      "+----------------+\n",
      "|    June/26/1898|\n",
      "|   April/25/1734|\n",
      "|   April/14/1882|\n",
      "|  January/9/1942|\n",
      "| October/28/1897|\n",
      "|   March/24/1979|\n",
      "|    July/17/1999|\n",
      "| December/6/1993|\n",
      "|February/26/1929|\n",
      "| January/21/2003|\n",
      "|  January/1/1994|\n",
      "|  January/1/1994|\n",
      "|   April/23/1986|\n",
      "|  January/8/1999|\n",
      "|  January/1/1994|\n",
      "|  January/1/1994|\n",
      "|   March/27/1991|\n",
      "|  October/1/1987|\n",
      "|            1947|\n",
      "|            1975|\n",
      "+----------------+\n",
      "only showing top 20 rows\n",
      "\n"
     ]
    }
   ],
   "source": [
    "main_spark=main_spark.withColumn('Date_Birth', regexp_replace('Date_Birth', ' ', '/')) \n",
    "main_spark=main_spark.withColumn('Date_Birth', regexp_replace('Date_Birth', '-', '/')) \n",
    "main_spark.select('Date_Birth').show()"
   ]
  },
  {
   "cell_type": "code",
   "execution_count": null,
   "id": "acd1ad91",
   "metadata": {},
   "outputs": [],
   "source": [
    "def date_birth_func_spark(x):\n",
    "    month_to_numeric={\n",
    "        \"January\":\"01\",\n",
    "        \"February\":\"02\",\n",
    "        \"March\":\"03\",\n",
    "        \"April\":\"04\",\n",
    "        \"May\":\"05\",\n",
    "        \"June\":\"06\",\n",
    "        \"July\":\"07\",\n",
    "        \"August\":\"08\",\n",
    "        \"September\":\"09\",\n",
    "        \"October\":\"10\",\n",
    "        \"November\":\"11\",\n",
    "        \"December\":\"12\",\n",
    "        \"Q1\":\"1\" \n",
    "    }\n",
    "    \n",
    "    date_instance=x.split(\"/\")\n",
    "    if '' in date_instance:\n",
    "        date_instance[date_instance.index('')]='1994'\n",
    "    if '0000' in date_instance:\n",
    "        date_instance[date_instance.index('0000')]='1994'\n",
    "    if len(date_instance)==1:\n",
    "        return \"01/01/\"+date_instance[0]\n",
    "    else:\n",
    "        if date_instance[0] in month_to_numeric.keys():\n",
    "            date_instance[0]=month_to_numeric[date_instance[0]]\n",
    "        return \"/\".join(date_instance)"
   ]
  },
  {
   "cell_type": "code",
   "execution_count": null,
   "id": "11e6f79e",
   "metadata": {},
   "outputs": [],
   "source": [
    "udf_function = udf(lambda x: date_birth_func_spark(x),StringType())\n",
    "main_spark=main_spark.withColumn('Date_Birth',udf_function(col('Date_Birth')))"
   ]
  },
  {
   "cell_type": "code",
   "execution_count": null,
   "id": "fcd11a22",
   "metadata": {},
   "outputs": [],
   "source": [
    "func =  udf (lambda x: datetime.strptime(x, '%m/%d/%Y'), DateType())"
   ]
  },
  {
   "cell_type": "code",
   "execution_count": null,
   "id": "1f8b93c1",
   "metadata": {},
   "outputs": [
    {
     "name": "stdout",
     "output_type": "stream",
     "text": [
      "+-------------------+\n",
      "|         Date_Birth|\n",
      "+-------------------+\n",
      "|1898-06-26 00:00:00|\n",
      "|1734-04-25 00:00:00|\n",
      "|1882-04-14 00:00:00|\n",
      "|1942-01-09 00:00:00|\n",
      "|1897-10-28 00:00:00|\n",
      "|1979-03-24 00:00:00|\n",
      "|1999-07-17 00:00:00|\n",
      "|1993-12-06 00:00:00|\n",
      "|1929-02-26 00:00:00|\n",
      "|2003-01-21 00:00:00|\n",
      "|1994-01-01 00:00:00|\n",
      "|1994-01-01 00:00:00|\n",
      "|1986-04-23 00:00:00|\n",
      "|1999-01-08 00:00:00|\n",
      "|1994-01-01 00:00:00|\n",
      "|1994-01-01 00:00:00|\n",
      "|1991-03-27 00:00:00|\n",
      "|1987-10-01 00:00:00|\n",
      "|1947-01-01 00:00:00|\n",
      "|1975-01-01 00:00:00|\n",
      "+-------------------+\n",
      "only showing top 20 rows\n",
      "\n"
     ]
    }
   ],
   "source": [
    "spark.sql(\"set spark.sql.legacy.timeParserPolicy=LEGACY\")\n",
    "main_spark.withColumn('Date_Birth', from_unixtime(unix_timestamp('Date_Birth', 'MM/dd/yyy'))).select('Date_Birth').show()"
   ]
  },
  {
   "cell_type": "markdown",
   "metadata": {},
   "source": [
    "#### Pandas"
   ]
  },
  {
   "cell_type": "code",
   "execution_count": null,
   "metadata": {},
   "outputs": [],
   "source": [
    "main[\"Date_Birth\"]=main[\"Date_Birth\"].str.strip()"
   ]
  },
  {
   "cell_type": "code",
   "execution_count": null,
   "metadata": {},
   "outputs": [],
   "source": [
    "mode_date_birth=main.loc[~(main[\"Date_Birth\"].str.contains('unknown')),'Date_Birth'].mode().values.tolist()[0]"
   ]
  },
  {
   "cell_type": "code",
   "execution_count": null,
   "metadata": {},
   "outputs": [],
   "source": [
    "main.loc[(main[\"Date_Birth\"].str.contains('known|Known|circa|Details|Hong|Cheema|circ|Pakistan|Goa|Kamrup|Mansa|Matale|Badulla|Balapitiya|Kiribathgoda|Colombo|Westminster|Polonnaruwa')),'Date_Birth']=\"January 1-\"+mode_date_birth"
   ]
  },
  {
   "cell_type": "code",
   "execution_count": null,
   "metadata": {},
   "outputs": [],
   "source": [
    "main[\"Date_Birth\"]=main[\"Date_Birth\"].str.replace(\" \",\"/\")\n",
    "main[\"Date_Birth\"]=main[\"Date_Birth\"].str.replace(\"-\",\"/\")"
   ]
  },
  {
   "cell_type": "code",
   "execution_count": null,
   "metadata": {},
   "outputs": [],
   "source": [
    "final_list=[]\n",
    "def date_birth_func(x):\n",
    "    month_to_numeric={\n",
    "        \"January\":\"01\",\n",
    "        \"February\":\"02\",\n",
    "        \"March\":\"03\",\n",
    "        \"April\":\"04\",\n",
    "        \"May\":\"05\",\n",
    "        \"June\":\"06\",\n",
    "        \"July\":\"07\",\n",
    "        \"August\":\"08\",\n",
    "        \"September\":\"09\",\n",
    "        \"October\":\"10\",\n",
    "        \"November\":\"11\",\n",
    "        \"December\":\"12\",\n",
    "        \"Q1\":\"1\" \n",
    "    }\n",
    "    if x=='':\n",
    "        return datetime.strptime(\"01/01/\"+mode_date_birth, '%m/%d/%Y')\n",
    "    date_instance=x.split(\"/\")\n",
    "    try:\n",
    "        if '' in date_instance:\n",
    "            date_instance[date_instance.index('')]=mode_date_birth\n",
    "            return datetime.strptime(\"/\".join(date_instance), '%m/%d/%Y')\n",
    "        if '0000' in date_instance:\n",
    "            date_instance[date_instance.index('0000')]=mode_date_birth\n",
    "        if len(date_instance)==1:\n",
    "            return datetime.strptime(\"01/01/\"+date_instance[0], '%m/%d/%Y')\n",
    "        elif len(date_instance)==2:\n",
    "            date_instance[0]=month_to_numeric[date_instance[0]]\n",
    "            return datetime.strptime(date_instance[0]+\"/01/\"+date_instance[1], '%m/%d/%Y')\n",
    "        else:\n",
    "            if date_instance[0] in month_to_numeric.keys():\n",
    "                date_instance[0]=month_to_numeric[date_instance[0]]\n",
    "            return datetime.strptime(\"/\".join(date_instance), '%m/%d/%Y')\n",
    "    except:\n",
    "        final_list.append(x)\n",
    "   \n",
    "        \n",
    "    \n",
    "    \n",
    "   \n",
    "    \n",
    "    "
   ]
  },
  {
   "cell_type": "code",
   "execution_count": null,
   "metadata": {
    "scrolled": false
   },
   "outputs": [
    {
     "data": {
      "text/plain": [
       "0       1898-06-26\n",
       "1       1734-04-25\n",
       "2       1882-04-14\n",
       "3       1942-01-09\n",
       "4       1897-10-28\n",
       "           ...    \n",
       "90303   1933-12-17\n",
       "90304   1861-12-03\n",
       "90305   1825-07-02\n",
       "90306   1857-11-17\n",
       "90307   1994-01-01\n",
       "Name: Date_Birth, Length: 90308, dtype: datetime64[ns]"
      ]
     },
     "execution_count": 50,
     "metadata": {},
     "output_type": "execute_result"
    }
   ],
   "source": [
    "main[\"Date_Birth\"].map(date_birth_func)"
   ]
  },
  {
   "cell_type": "markdown",
   "metadata": {},
   "source": [
    "## Forming the Date Death Column which have Year+Date the player was born"
   ]
  },
  {
   "cell_type": "markdown",
   "id": "e1aeabae",
   "metadata": {},
   "source": [
    "#### Pyspark"
   ]
  },
  {
   "cell_type": "code",
   "execution_count": null,
   "id": "1412cd83",
   "metadata": {},
   "outputs": [],
   "source": [
    "split_col = split(main_spark['Died'], ',')"
   ]
  },
  {
   "cell_type": "code",
   "execution_count": null,
   "id": "e68a3bd9",
   "metadata": {},
   "outputs": [],
   "source": [
    "main_spark = main_spark.withColumn('NAME1', split_col.getItem(0))\n",
    "main_spark = main_spark.withColumn('NAME2', split_col.getItem(1))"
   ]
  },
  {
   "cell_type": "code",
   "execution_count": null,
   "id": "dfb20f16",
   "metadata": {},
   "outputs": [],
   "source": [
    "main_spark=main_spark.fillna('',subset=['NAME2'])"
   ]
  },
  {
   "cell_type": "code",
   "execution_count": null,
   "id": "de45e70d",
   "metadata": {},
   "outputs": [],
   "source": [
    "custom_func_name1_name2=udf(lambda x,y:x+\"-\"+y)"
   ]
  },
  {
   "cell_type": "code",
   "execution_count": null,
   "id": "8f2faa1f",
   "metadata": {},
   "outputs": [],
   "source": [
    "main_spark=main_spark.withColumn('Died',custom_func_name1_name2(col('NAME1'),col('NAME2')))"
   ]
  },
  {
   "cell_type": "code",
   "execution_count": null,
   "id": "5a4ee89a",
   "metadata": {},
   "outputs": [],
   "source": [
    "main_spark=main_spark.drop('NAME1','NAME2')"
   ]
  },
  {
   "cell_type": "code",
   "execution_count": null,
   "id": "45c57896",
   "metadata": {},
   "outputs": [],
   "source": [
    "mode_date_died_spark=main_spark.filter(~main_spark.Died.rlike('nan|unknown|Presumed Dead|Known|Unknown')).groupby('Died').count().orderBy('count',ascending=False).first()[0]"
   ]
  },
  {
   "cell_type": "code",
   "execution_count": null,
   "id": "1a167b2c",
   "metadata": {},
   "outputs": [
    {
     "data": {
      "text/plain": [
       "'September 25- 1915'"
      ]
     },
     "execution_count": 58,
     "metadata": {},
     "output_type": "execute_result"
    }
   ],
   "source": [
    "mode_date_died_spark"
   ]
  },
  {
   "cell_type": "code",
   "execution_count": null,
   "id": "0a20c968",
   "metadata": {},
   "outputs": [],
   "source": [
    "mode_year_spark=mode_date_died_spark.split('- ')[-1]"
   ]
  },
  {
   "cell_type": "code",
   "execution_count": null,
   "id": "3cee5589",
   "metadata": {},
   "outputs": [],
   "source": [
    "main_spark=main_spark.withColumn('Died', when(main_spark.Died.rlike('unknown|Presumed Dead|Known|Unknown|nan|0000|aged|Duncton|Leicester|Tasmania'),mode_date_died_spark).otherwise(\n",
    "    main_spark['Died']\n",
    "))"
   ]
  },
  {
   "cell_type": "code",
   "execution_count": null,
   "id": "b453f874",
   "metadata": {},
   "outputs": [
    {
     "name": "stdout",
     "output_type": "stream",
     "text": [
      "+------------------+\n",
      "|              Died|\n",
      "+------------------+\n",
      "|    March 12- 1982|\n",
      "|    April 25- 1797|\n",
      "|September 10- 1967|\n",
      "|September 25- 1915|\n",
      "|   August 28- 1947|\n",
      "|September 25- 1915|\n",
      "|September 25- 1915|\n",
      "|September 25- 1915|\n",
      "|September 25- 1915|\n",
      "|September 25- 1915|\n",
      "|September 25- 1915|\n",
      "|September 25- 1915|\n",
      "|September 25- 1915|\n",
      "|September 25- 1915|\n",
      "|September 25- 1915|\n",
      "|September 25- 1915|\n",
      "|September 25- 1915|\n",
      "|September 25- 1915|\n",
      "|September 25- 1915|\n",
      "|September 25- 1915|\n",
      "+------------------+\n",
      "only showing top 20 rows\n",
      "\n"
     ]
    }
   ],
   "source": [
    "main_spark.select('Died').show()"
   ]
  },
  {
   "cell_type": "code",
   "execution_count": null,
   "id": "8746ea29",
   "metadata": {},
   "outputs": [],
   "source": [
    "main_spark=main_spark.withColumn('Died', regexp_replace('Died', '- ', '/')) \n",
    "main_spark=main_spark.withColumn('Died', regexp_replace('Died', ' ', '/')) \n"
   ]
  },
  {
   "cell_type": "markdown",
   "id": "18b96d08",
   "metadata": {},
   "source": [
    "####### Implement the dead function for Pyspark"
   ]
  },
  {
   "cell_type": "markdown",
   "id": "a3fe55d0",
   "metadata": {},
   "source": [
    "#### Pandas"
   ]
  },
  {
   "cell_type": "code",
   "execution_count": null,
   "metadata": {},
   "outputs": [],
   "source": [
    "main['Died']=main['Died'].map(lambda x:\"-\".join(x.split(',')[:2]))"
   ]
  },
  {
   "cell_type": "code",
   "execution_count": null,
   "id": "a2f6382b",
   "metadata": {},
   "outputs": [],
   "source": [
    "mode_died=main.loc[~(main['Died'].str.contains('nan|unknown|Presumed Dead|Known|Unknown')),'Died'].mode().values.tolist()[0]"
   ]
  },
  {
   "cell_type": "code",
   "execution_count": null,
   "id": "ccd60afe",
   "metadata": {},
   "outputs": [],
   "source": [
    "mode_year=mode_died.split('- ')[-1]"
   ]
  },
  {
   "cell_type": "code",
   "execution_count": null,
   "id": "e37a490e",
   "metadata": {},
   "outputs": [],
   "source": [
    "main.loc[(main['Died'].str.contains('unknown|Presumed Dead|Known|Unknown|nan|0000|aged|Duncton|Leicester|Tasmania')),'Died']=mode_died"
   ]
  },
  {
   "cell_type": "code",
   "execution_count": null,
   "id": "3ece09a7",
   "metadata": {},
   "outputs": [],
   "source": [
    "main['Died']=main['Died'].str.replace('- ','/').str.replace(' ','/')"
   ]
  },
  {
   "cell_type": "code",
   "execution_count": null,
   "id": "5e1ad739",
   "metadata": {},
   "outputs": [],
   "source": [
    "def date_death_func(x):\n",
    "    month_to_numeric={\n",
    "        \"January\":\"01\",\n",
    "        \"February\":\"02\",\n",
    "        \"March\":\"03\",\n",
    "        \"April\":\"04\",\n",
    "        \"May\":\"05\",\n",
    "        \"June\":\"06\",\n",
    "        \"July\":\"07\",\n",
    "        \"August\":\"08\",\n",
    "        \"September\":\"09\",\n",
    "        \"October\":\"10\",\n",
    "        \"November\":\"11\",\n",
    "        \"December\":\"12\",\n",
    "        \"Q1\":\"1\" ,\n",
    "        'Q2':'4'\n",
    "    }  \n",
    "   \n",
    "\n",
    "    date_list=x.split('/')[:3]\n",
    "    all_numeric=True\n",
    "    index_to_pop=[]\n",
    "    for index,instance in enumerate(date_list):\n",
    "        if not instance.isnumeric() and instance not in month_to_numeric.keys():\n",
    "            all_numeric=False\n",
    "        else:    \n",
    "            index_to_pop.append(index)\n",
    "    if all_numeric:\n",
    "        date_list[0]=month_to_numeric[date_list[0]]\n",
    "        return datetime.strptime('/'.join(date_list), '%m/%d/%Y')\n",
    "        \n",
    "    else:\n",
    "\n",
    "        new_date_list=[]\n",
    "        for index in index_to_pop:\n",
    "            new_date_list.append(date_list[index])\n",
    "        if len(new_date_list)==1:\n",
    "            return datetime.strptime('01/'+'01/'+new_date_list[0], '%m/%d/%Y')\n",
    "        elif len(new_date_list)==2 and new_date_list[0] in month_to_numeric.keys():\n",
    "            new_date_list[0]=month_to_numeric[new_date_list[0]]\n",
    "            return datetime.strptime(new_date_list[0]+'/01/'+new_date_list[1], '%m/%d/%Y')\n",
    "        else:\n",
    "            return datetime.strptime('01/'+'01/'+mode_year, '%m/%d/%Y')\n",
    "                \n",
    "    \n",
    "        \n",
    "            \n",
    "    \n",
    "      "
   ]
  },
  {
   "cell_type": "code",
   "execution_count": null,
   "id": "af135e2c",
   "metadata": {},
   "outputs": [
    {
     "data": {
      "text/plain": [
       "0       1982-03-12\n",
       "1       1797-04-25\n",
       "2       1967-09-10\n",
       "3       1915-09-25\n",
       "4       1947-08-28\n",
       "           ...    \n",
       "90303   1915-09-25\n",
       "90304   1953-11-02\n",
       "90305   1907-01-29\n",
       "90306   1938-04-01\n",
       "90307   1915-09-25\n",
       "Name: Died, Length: 90308, dtype: datetime64[ns]"
      ]
     },
     "execution_count": 114,
     "metadata": {},
     "output_type": "execute_result"
    }
   ],
   "source": [
    "main['Died'].map(date_death_func)"
   ]
  },
  {
   "cell_type": "code",
   "execution_count": null,
   "id": "2013fc61",
   "metadata": {},
   "outputs": [],
   "source": []
  }
 ],
 "metadata": {
  "kernelspec": {
   "display_name": "Python 3",
   "language": "python",
   "name": "python3"
  },
  "language_info": {
   "codemirror_mode": {
    "name": "ipython",
    "version": 3
   },
   "file_extension": ".py",
   "mimetype": "text/x-python",
   "name": "python",
   "nbconvert_exporter": "python",
   "pygments_lexer": "ipython3",
   "version": "3.7.6"
  }
 },
 "nbformat": 4,
 "nbformat_minor": 5
}
