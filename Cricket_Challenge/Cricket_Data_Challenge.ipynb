{
 "cells": [
  {
   "cell_type": "code",
   "execution_count": 26,
   "metadata": {},
   "outputs": [],
   "source": [
    "import pandas as pd\n",
    "import findspark\n",
    "findspark.init()\n",
    "from pyspark.sql import SparkSession\n",
    "from pyspark.sql.functions import *\n",
    "from pyspark.sql.types import *\n",
    "from datetime import datetime"
   ]
  },
  {
   "cell_type": "markdown",
   "metadata": {},
   "source": [
    "### Relevant Data Set can be found on : https://data.world/raghav333/cricket-players-espn"
   ]
  },
  {
   "cell_type": "markdown",
   "metadata": {},
   "source": [
    "## Reading Data"
   ]
  },
  {
   "cell_type": "markdown",
   "metadata": {},
   "source": [
    "#### PySpark"
   ]
  },
  {
   "cell_type": "code",
   "execution_count": 27,
   "metadata": {},
   "outputs": [],
   "source": [
    "spark=SparkSession.builder.appName('temp').getOrCreate()"
   ]
  },
  {
   "cell_type": "markdown",
   "metadata": {},
   "source": [
    "#### Pandas"
   ]
  },
  {
   "cell_type": "code",
   "execution_count": 28,
   "metadata": {},
   "outputs": [],
   "source": [
    "main=pd.read_csv(\"cricket_data.csv\")"
   ]
  },
  {
   "cell_type": "markdown",
   "metadata": {},
   "source": [
    "#### Converting Pandas Dtype Object to String Dtype in order to use the same dateframe as Spark DataFrame"
   ]
  },
  {
   "cell_type": "code",
   "execution_count": 29,
   "metadata": {},
   "outputs": [],
   "source": [
    "cols_dtypes=main.dtypes.values.tolist()\n",
    "columns=main.columns.values.tolist()\n",
    "for index,_ in enumerate(cols_dtypes):\n",
    "    if str(cols_dtypes[index])==\"object\":\n",
    "        main[columns[index]]=main[columns[index]].astype(str)"
   ]
  },
  {
   "cell_type": "code",
   "execution_count": 30,
   "metadata": {},
   "outputs": [],
   "source": [
    "main_spark=spark.createDataFrame(main.head(100))"
   ]
  },
  {
   "cell_type": "code",
   "execution_count": 31,
   "metadata": {},
   "outputs": [
    {
     "name": "stdout",
     "output_type": "stream",
     "text": [
      "root\n",
      " |-- ID: long (nullable = true)\n",
      " |-- NAME: string (nullable = true)\n",
      " |-- COUNTRY: string (nullable = true)\n",
      " |-- Full name: string (nullable = true)\n",
      " |-- Born: string (nullable = true)\n",
      " |-- Died: string (nullable = true)\n",
      " |-- Current age: string (nullable = true)\n",
      " |-- Major teams: string (nullable = true)\n",
      " |-- Education: string (nullable = true)\n",
      " |-- Height: string (nullable = true)\n",
      " |-- Nickname: double (nullable = true)\n",
      " |-- Playing role: string (nullable = true)\n",
      " |-- Batting style: string (nullable = true)\n",
      " |-- Bowling style: string (nullable = true)\n",
      " |-- Other: string (nullable = true)\n",
      " |-- Relation: string (nullable = true)\n",
      " |-- In a nutshell: string (nullable = true)\n",
      " |-- DESCRIPTION: string (nullable = true)\n",
      " |-- AWARDS: string (nullable = true)\n",
      " |-- BATTING_Tests_Mat: double (nullable = true)\n",
      " |-- BATTING_Tests_Inns: string (nullable = true)\n",
      " |-- BATTING_Tests_NO: string (nullable = true)\n",
      " |-- BATTING_Tests_Runs: string (nullable = true)\n",
      " |-- BATTING_Tests_HS: string (nullable = true)\n",
      " |-- BATTING_Tests_Ave: string (nullable = true)\n",
      " |-- BATTING_Tests_BF: string (nullable = true)\n",
      " |-- BATTING_Tests_SR: string (nullable = true)\n",
      " |-- BATTING_Tests_100: string (nullable = true)\n",
      " |-- BATTING_Tests_50: string (nullable = true)\n",
      " |-- BATTING_Tests_4s: string (nullable = true)\n",
      " |-- BATTING_Tests_6s: string (nullable = true)\n",
      " |-- BATTING_Tests_Ct: string (nullable = true)\n",
      " |-- BATTING_Tests_St: string (nullable = true)\n",
      " |-- BATTING_ODIs_Mat: double (nullable = true)\n",
      " |-- BATTING_ODIs_Inns: string (nullable = true)\n",
      " |-- BATTING_ODIs_NO: string (nullable = true)\n",
      " |-- BATTING_ODIs_Runs: string (nullable = true)\n",
      " |-- BATTING_ODIs_HS: string (nullable = true)\n",
      " |-- BATTING_ODIs_Ave: string (nullable = true)\n",
      " |-- BATTING_ODIs_BF: string (nullable = true)\n",
      " |-- BATTING_ODIs_SR: string (nullable = true)\n",
      " |-- BATTING_ODIs_100: string (nullable = true)\n",
      " |-- BATTING_ODIs_50: string (nullable = true)\n",
      " |-- BATTING_ODIs_4s: string (nullable = true)\n",
      " |-- BATTING_ODIs_6s: string (nullable = true)\n",
      " |-- BATTING_ODIs_Ct: string (nullable = true)\n",
      " |-- BATTING_ODIs_St: string (nullable = true)\n",
      " |-- BATTING_T20Is_Mat: double (nullable = true)\n",
      " |-- BATTING_T20Is_Inns: string (nullable = true)\n",
      " |-- BATTING_T20Is_NO: string (nullable = true)\n",
      " |-- BATTING_T20Is_Runs: string (nullable = true)\n",
      " |-- BATTING_T20Is_HS: string (nullable = true)\n",
      " |-- BATTING_T20Is_Ave: string (nullable = true)\n",
      " |-- BATTING_T20Is_BF: string (nullable = true)\n",
      " |-- BATTING_T20Is_SR: string (nullable = true)\n",
      " |-- BATTING_T20Is_100: string (nullable = true)\n",
      " |-- BATTING_T20Is_50: string (nullable = true)\n",
      " |-- BATTING_T20Is_4s: string (nullable = true)\n",
      " |-- BATTING_T20Is_6s: string (nullable = true)\n",
      " |-- BATTING_T20Is_Ct: string (nullable = true)\n",
      " |-- BATTING_T20Is_St: string (nullable = true)\n",
      " |-- BATTING_First-class_Mat: double (nullable = true)\n",
      " |-- BATTING_First-class_Inns: string (nullable = true)\n",
      " |-- BATTING_First-class_NO: string (nullable = true)\n",
      " |-- BATTING_First-class_Runs: string (nullable = true)\n",
      " |-- BATTING_First-class_HS: string (nullable = true)\n",
      " |-- BATTING_First-class_Ave: string (nullable = true)\n",
      " |-- BATTING_First-class_BF: string (nullable = true)\n",
      " |-- BATTING_First-class_SR: string (nullable = true)\n",
      " |-- BATTING_First-class_100: string (nullable = true)\n",
      " |-- BATTING_First-class_50: string (nullable = true)\n",
      " |-- BATTING_First-class_4s: string (nullable = true)\n",
      " |-- BATTING_First-class_6s: string (nullable = true)\n",
      " |-- BATTING_First-class_Ct: string (nullable = true)\n",
      " |-- BATTING_First-class_St: string (nullable = true)\n",
      " |-- BATTING_List A_Mat: double (nullable = true)\n",
      " |-- BATTING_List A_Inns: string (nullable = true)\n",
      " |-- BATTING_List A_NO: string (nullable = true)\n",
      " |-- BATTING_List A_Runs: string (nullable = true)\n",
      " |-- BATTING_List A_HS: string (nullable = true)\n",
      " |-- BATTING_List A_Ave: string (nullable = true)\n",
      " |-- BATTING_List A_BF: string (nullable = true)\n",
      " |-- BATTING_List A_SR: string (nullable = true)\n",
      " |-- BATTING_List A_100: string (nullable = true)\n",
      " |-- BATTING_List A_50: string (nullable = true)\n",
      " |-- BATTING_List A_4s: string (nullable = true)\n",
      " |-- BATTING_List A_6s: string (nullable = true)\n",
      " |-- BATTING_List A_Ct: string (nullable = true)\n",
      " |-- BATTING_List A_St: string (nullable = true)\n",
      " |-- BATTING_T20s_Mat: double (nullable = true)\n",
      " |-- BATTING_T20s_Inns: string (nullable = true)\n",
      " |-- BATTING_T20s_NO: string (nullable = true)\n",
      " |-- BATTING_T20s_Runs: string (nullable = true)\n",
      " |-- BATTING_T20s_HS: string (nullable = true)\n",
      " |-- BATTING_T20s_Ave: string (nullable = true)\n",
      " |-- BATTING_T20s_BF: string (nullable = true)\n",
      " |-- BATTING_T20s_SR: string (nullable = true)\n",
      " |-- BATTING_T20s_100: string (nullable = true)\n",
      " |-- BATTING_T20s_50: string (nullable = true)\n",
      " |-- BATTING_T20s_4s: string (nullable = true)\n",
      " |-- BATTING_T20s_6s: string (nullable = true)\n",
      " |-- BATTING_T20s_Ct: string (nullable = true)\n",
      " |-- BATTING_T20s_St: string (nullable = true)\n",
      " |-- BOWLING_Tests_Mat: double (nullable = true)\n",
      " |-- BOWLING_Tests_Inns: string (nullable = true)\n",
      " |-- BOWLING_Tests_Balls: string (nullable = true)\n",
      " |-- BOWLING_Tests_Runs: string (nullable = true)\n",
      " |-- BOWLING_Tests_Wkts: string (nullable = true)\n",
      " |-- BOWLING_Tests_BBI: string (nullable = true)\n",
      " |-- BOWLING_Tests_BBM: string (nullable = true)\n",
      " |-- BOWLING_Tests_Ave: string (nullable = true)\n",
      " |-- BOWLING_Tests_Econ: string (nullable = true)\n",
      " |-- BOWLING_Tests_SR: string (nullable = true)\n",
      " |-- BOWLING_Tests_4w: string (nullable = true)\n",
      " |-- BOWLING_Tests_5w: string (nullable = true)\n",
      " |-- BOWLING_Tests_10: string (nullable = true)\n",
      " |-- BOWLING_ODIs_Mat: double (nullable = true)\n",
      " |-- BOWLING_ODIs_Inns: string (nullable = true)\n",
      " |-- BOWLING_ODIs_Balls: string (nullable = true)\n",
      " |-- BOWLING_ODIs_Runs: string (nullable = true)\n",
      " |-- BOWLING_ODIs_Wkts: string (nullable = true)\n",
      " |-- BOWLING_ODIs_BBI: string (nullable = true)\n",
      " |-- BOWLING_ODIs_BBM: string (nullable = true)\n",
      " |-- BOWLING_ODIs_Ave: string (nullable = true)\n",
      " |-- BOWLING_ODIs_Econ: string (nullable = true)\n",
      " |-- BOWLING_ODIs_SR: string (nullable = true)\n",
      " |-- BOWLING_ODIs_4w: string (nullable = true)\n",
      " |-- BOWLING_ODIs_5w: string (nullable = true)\n",
      " |-- BOWLING_ODIs_10: string (nullable = true)\n",
      " |-- BOWLING_T20Is_Mat: double (nullable = true)\n",
      " |-- BOWLING_T20Is_Inns: string (nullable = true)\n",
      " |-- BOWLING_T20Is_Balls: string (nullable = true)\n",
      " |-- BOWLING_T20Is_Runs: string (nullable = true)\n",
      " |-- BOWLING_T20Is_Wkts: string (nullable = true)\n",
      " |-- BOWLING_T20Is_BBI: string (nullable = true)\n",
      " |-- BOWLING_T20Is_BBM: string (nullable = true)\n",
      " |-- BOWLING_T20Is_Ave: string (nullable = true)\n",
      " |-- BOWLING_T20Is_Econ: string (nullable = true)\n",
      " |-- BOWLING_T20Is_SR: string (nullable = true)\n",
      " |-- BOWLING_T20Is_4w: string (nullable = true)\n",
      " |-- BOWLING_T20Is_5w: string (nullable = true)\n",
      " |-- BOWLING_T20Is_10: string (nullable = true)\n",
      " |-- BOWLING_First-class_Mat: double (nullable = true)\n",
      " |-- BOWLING_First-class_Inns: string (nullable = true)\n",
      " |-- BOWLING_First-class_Balls: string (nullable = true)\n",
      " |-- BOWLING_First-class_Runs: string (nullable = true)\n",
      " |-- BOWLING_First-class_Wkts: string (nullable = true)\n",
      " |-- BOWLING_First-class_BBI: string (nullable = true)\n",
      " |-- BOWLING_First-class_BBM: string (nullable = true)\n",
      " |-- BOWLING_First-class_Ave: string (nullable = true)\n",
      " |-- BOWLING_First-class_Econ: string (nullable = true)\n",
      " |-- BOWLING_First-class_SR: string (nullable = true)\n",
      " |-- BOWLING_First-class_4w: string (nullable = true)\n",
      " |-- BOWLING_First-class_5w: string (nullable = true)\n",
      " |-- BOWLING_First-class_10: string (nullable = true)\n",
      " |-- BOWLING_List A_Mat: double (nullable = true)\n",
      " |-- BOWLING_List A_Inns: string (nullable = true)\n",
      " |-- BOWLING_List A_Balls: string (nullable = true)\n",
      " |-- BOWLING_List A_Runs: string (nullable = true)\n",
      " |-- BOWLING_List A_Wkts: string (nullable = true)\n",
      " |-- BOWLING_List A_BBI: string (nullable = true)\n",
      " |-- BOWLING_List A_BBM: string (nullable = true)\n",
      " |-- BOWLING_List A_Ave: string (nullable = true)\n",
      " |-- BOWLING_List A_Econ: string (nullable = true)\n",
      " |-- BOWLING_List A_SR: string (nullable = true)\n",
      " |-- BOWLING_List A_4w: string (nullable = true)\n",
      " |-- BOWLING_List A_5w: string (nullable = true)\n",
      " |-- BOWLING_List A_10: string (nullable = true)\n",
      " |-- BOWLING_T20s_Mat: double (nullable = true)\n",
      " |-- BOWLING_T20s_Inns: string (nullable = true)\n",
      " |-- BOWLING_T20s_Balls: string (nullable = true)\n",
      " |-- BOWLING_T20s_Runs: string (nullable = true)\n",
      " |-- BOWLING_T20s_Wkts: string (nullable = true)\n",
      " |-- BOWLING_T20s_BBI: string (nullable = true)\n",
      " |-- BOWLING_T20s_BBM: string (nullable = true)\n",
      " |-- BOWLING_T20s_Ave: string (nullable = true)\n",
      " |-- BOWLING_T20s_Econ: string (nullable = true)\n",
      " |-- BOWLING_T20s_SR: string (nullable = true)\n",
      " |-- BOWLING_T20s_4w: string (nullable = true)\n",
      " |-- BOWLING_T20s_5w: string (nullable = true)\n",
      " |-- BOWLING_T20s_10: string (nullable = true)\n",
      "\n"
     ]
    }
   ],
   "source": [
    "main_spark.printSchema()"
   ]
  },
  {
   "cell_type": "code",
   "execution_count": 105,
   "metadata": {},
   "outputs": [
    {
     "data": {
      "text/html": [
       "<div>\n",
       "<style scoped>\n",
       "    .dataframe tbody tr th:only-of-type {\n",
       "        vertical-align: middle;\n",
       "    }\n",
       "\n",
       "    .dataframe tbody tr th {\n",
       "        vertical-align: top;\n",
       "    }\n",
       "\n",
       "    .dataframe thead th {\n",
       "        text-align: right;\n",
       "    }\n",
       "</style>\n",
       "<table border=\"1\" class=\"dataframe\">\n",
       "  <thead>\n",
       "    <tr style=\"text-align: right;\">\n",
       "      <th></th>\n",
       "      <th>ID</th>\n",
       "      <th>NAME</th>\n",
       "      <th>COUNTRY</th>\n",
       "      <th>Full name</th>\n",
       "      <th>Born</th>\n",
       "      <th>Died</th>\n",
       "      <th>Current age</th>\n",
       "      <th>Major teams</th>\n",
       "      <th>Education</th>\n",
       "      <th>Height</th>\n",
       "      <th>...</th>\n",
       "      <th>BOWLING_T20s_Runs</th>\n",
       "      <th>BOWLING_T20s_Wkts</th>\n",
       "      <th>BOWLING_T20s_BBI</th>\n",
       "      <th>BOWLING_T20s_BBM</th>\n",
       "      <th>BOWLING_T20s_Ave</th>\n",
       "      <th>BOWLING_T20s_Econ</th>\n",
       "      <th>BOWLING_T20s_SR</th>\n",
       "      <th>BOWLING_T20s_4w</th>\n",
       "      <th>BOWLING_T20s_5w</th>\n",
       "      <th>BOWLING_T20s_10</th>\n",
       "    </tr>\n",
       "  </thead>\n",
       "  <tbody>\n",
       "    <tr>\n",
       "      <th>0</th>\n",
       "      <td>8772</td>\n",
       "      <td>Henry Arkell</td>\n",
       "      <td>England</td>\n",
       "      <td>Henry John Denham Arkell</td>\n",
       "      <td>\\nJune 26, 1898, Edmonton, Middlesex</td>\n",
       "      <td>March 12, 1982, Oxford (aged 83 years 259 days)</td>\n",
       "      <td>nan</td>\n",
       "      <td>Northamptonshire</td>\n",
       "      <td>nan</td>\n",
       "      <td>nan</td>\n",
       "      <td>...</td>\n",
       "      <td>nan</td>\n",
       "      <td>nan</td>\n",
       "      <td>nan</td>\n",
       "      <td>nan</td>\n",
       "      <td>nan</td>\n",
       "      <td>nan</td>\n",
       "      <td>nan</td>\n",
       "      <td>nan</td>\n",
       "      <td>nan</td>\n",
       "      <td>nan</td>\n",
       "    </tr>\n",
       "    <tr>\n",
       "      <th>1</th>\n",
       "      <td>532565</td>\n",
       "      <td>Richard Nyren</td>\n",
       "      <td>England</td>\n",
       "      <td>Richard Nyren</td>\n",
       "      <td>\\nApril 25, 1734, Eartham, Sussex</td>\n",
       "      <td>April 25, 1797, Lee or Leigh, Kent (aged 63 ye...</td>\n",
       "      <td>nan</td>\n",
       "      <td>Hampshire XI</td>\n",
       "      <td>nan</td>\n",
       "      <td>nan</td>\n",
       "      <td>...</td>\n",
       "      <td>nan</td>\n",
       "      <td>nan</td>\n",
       "      <td>nan</td>\n",
       "      <td>nan</td>\n",
       "      <td>nan</td>\n",
       "      <td>nan</td>\n",
       "      <td>nan</td>\n",
       "      <td>nan</td>\n",
       "      <td>nan</td>\n",
       "      <td>nan</td>\n",
       "    </tr>\n",
       "    <tr>\n",
       "      <th>2</th>\n",
       "      <td>16856</td>\n",
       "      <td>Sydney Maartensz</td>\n",
       "      <td>England</td>\n",
       "      <td>Sydney Gratien Adair Maartensz</td>\n",
       "      <td>\\nApril 14, 1882, Colombo, Ceylon</td>\n",
       "      <td>September 10, 1967, Pyrford, Woking, Surrey (a...</td>\n",
       "      <td>nan</td>\n",
       "      <td>Hampshire</td>\n",
       "      <td>nan</td>\n",
       "      <td>nan</td>\n",
       "      <td>...</td>\n",
       "      <td>nan</td>\n",
       "      <td>nan</td>\n",
       "      <td>nan</td>\n",
       "      <td>nan</td>\n",
       "      <td>nan</td>\n",
       "      <td>nan</td>\n",
       "      <td>nan</td>\n",
       "      <td>nan</td>\n",
       "      <td>nan</td>\n",
       "      <td>nan</td>\n",
       "    </tr>\n",
       "    <tr>\n",
       "      <th>3</th>\n",
       "      <td>16715</td>\n",
       "      <td>Brian Lander</td>\n",
       "      <td>England</td>\n",
       "      <td>Brian Richard Lander</td>\n",
       "      <td>\\nJanuary 9, 1942, Bishop Auckland, Co Durham</td>\n",
       "      <td>nan</td>\n",
       "      <td>77 years 73 days</td>\n",
       "      <td>['Durham,', 'Minor Counties']</td>\n",
       "      <td>nan</td>\n",
       "      <td>nan</td>\n",
       "      <td>...</td>\n",
       "      <td>nan</td>\n",
       "      <td>nan</td>\n",
       "      <td>nan</td>\n",
       "      <td>nan</td>\n",
       "      <td>nan</td>\n",
       "      <td>nan</td>\n",
       "      <td>nan</td>\n",
       "      <td>nan</td>\n",
       "      <td>nan</td>\n",
       "      <td>nan</td>\n",
       "    </tr>\n",
       "    <tr>\n",
       "      <th>4</th>\n",
       "      <td>15989</td>\n",
       "      <td>Derek Kenderdine</td>\n",
       "      <td>England</td>\n",
       "      <td>Derek Charles Kenderdine</td>\n",
       "      <td>\\nOctober 28, 1897, Chislehurst, Kent</td>\n",
       "      <td>August 28, 1947, Cambridge (aged 49 years 304 ...</td>\n",
       "      <td>nan</td>\n",
       "      <td>Royal Navy</td>\n",
       "      <td>nan</td>\n",
       "      <td>nan</td>\n",
       "      <td>...</td>\n",
       "      <td>nan</td>\n",
       "      <td>nan</td>\n",
       "      <td>nan</td>\n",
       "      <td>nan</td>\n",
       "      <td>nan</td>\n",
       "      <td>nan</td>\n",
       "      <td>nan</td>\n",
       "      <td>nan</td>\n",
       "      <td>nan</td>\n",
       "      <td>nan</td>\n",
       "    </tr>\n",
       "  </tbody>\n",
       "</table>\n",
       "<p>5 rows × 181 columns</p>\n",
       "</div>"
      ],
      "text/plain": [
       "       ID              NAME  COUNTRY                       Full name  \\\n",
       "0    8772      Henry Arkell  England        Henry John Denham Arkell   \n",
       "1  532565     Richard Nyren  England                   Richard Nyren   \n",
       "2   16856  Sydney Maartensz  England  Sydney Gratien Adair Maartensz   \n",
       "3   16715      Brian Lander  England            Brian Richard Lander   \n",
       "4   15989  Derek Kenderdine  England        Derek Charles Kenderdine   \n",
       "\n",
       "                                             Born  \\\n",
       "0           \\nJune 26, 1898, Edmonton, Middlesex    \n",
       "1              \\nApril 25, 1734, Eartham, Sussex    \n",
       "2              \\nApril 14, 1882, Colombo, Ceylon    \n",
       "3  \\nJanuary 9, 1942, Bishop Auckland, Co Durham    \n",
       "4          \\nOctober 28, 1897, Chislehurst, Kent    \n",
       "\n",
       "                                                Died       Current age  \\\n",
       "0   March 12, 1982, Oxford (aged 83 years 259 days)                nan   \n",
       "1  April 25, 1797, Lee or Leigh, Kent (aged 63 ye...               nan   \n",
       "2  September 10, 1967, Pyrford, Woking, Surrey (a...               nan   \n",
       "3                                                nan  77 years 73 days   \n",
       "4  August 28, 1947, Cambridge (aged 49 years 304 ...               nan   \n",
       "\n",
       "                     Major teams Education Height  ...  BOWLING_T20s_Runs  \\\n",
       "0               Northamptonshire       nan    nan  ...                nan   \n",
       "1                   Hampshire XI       nan    nan  ...                nan   \n",
       "2                      Hampshire       nan    nan  ...                nan   \n",
       "3  ['Durham,', 'Minor Counties']       nan    nan  ...                nan   \n",
       "4                     Royal Navy       nan    nan  ...                nan   \n",
       "\n",
       "  BOWLING_T20s_Wkts BOWLING_T20s_BBI BOWLING_T20s_BBM BOWLING_T20s_Ave  \\\n",
       "0               nan              nan              nan              nan   \n",
       "1               nan              nan              nan              nan   \n",
       "2               nan              nan              nan              nan   \n",
       "3               nan              nan              nan              nan   \n",
       "4               nan              nan              nan              nan   \n",
       "\n",
       "  BOWLING_T20s_Econ BOWLING_T20s_SR BOWLING_T20s_4w BOWLING_T20s_5w  \\\n",
       "0               nan             nan             nan             nan   \n",
       "1               nan             nan             nan             nan   \n",
       "2               nan             nan             nan             nan   \n",
       "3               nan             nan             nan             nan   \n",
       "4               nan             nan             nan             nan   \n",
       "\n",
       "   BOWLING_T20s_10  \n",
       "0              nan  \n",
       "1              nan  \n",
       "2              nan  \n",
       "3              nan  \n",
       "4              nan  \n",
       "\n",
       "[5 rows x 181 columns]"
      ]
     },
     "execution_count": 105,
     "metadata": {},
     "output_type": "execute_result"
    }
   ],
   "source": [
    "main.head()"
   ]
  },
  {
   "cell_type": "code",
   "execution_count": null,
   "metadata": {},
   "outputs": [
    {
     "data": {
      "text/plain": [
       "['ID',\n",
       " 'NAME',\n",
       " 'COUNTRY',\n",
       " 'Full name',\n",
       " 'Born',\n",
       " 'Died',\n",
       " 'Current age',\n",
       " 'Major teams',\n",
       " 'Education',\n",
       " 'Height',\n",
       " 'Nickname',\n",
       " 'Playing role',\n",
       " 'Batting style',\n",
       " 'Bowling style',\n",
       " 'Other',\n",
       " 'Relation',\n",
       " 'In a nutshell',\n",
       " 'DESCRIPTION',\n",
       " 'AWARDS',\n",
       " 'BATTING_Tests_Mat',\n",
       " 'BATTING_Tests_Inns',\n",
       " 'BATTING_Tests_NO',\n",
       " 'BATTING_Tests_Runs',\n",
       " 'BATTING_Tests_HS',\n",
       " 'BATTING_Tests_Ave',\n",
       " 'BATTING_Tests_BF',\n",
       " 'BATTING_Tests_SR',\n",
       " 'BATTING_Tests_100',\n",
       " 'BATTING_Tests_50',\n",
       " 'BATTING_Tests_4s',\n",
       " 'BATTING_Tests_6s',\n",
       " 'BATTING_Tests_Ct',\n",
       " 'BATTING_Tests_St',\n",
       " 'BATTING_ODIs_Mat',\n",
       " 'BATTING_ODIs_Inns',\n",
       " 'BATTING_ODIs_NO',\n",
       " 'BATTING_ODIs_Runs',\n",
       " 'BATTING_ODIs_HS',\n",
       " 'BATTING_ODIs_Ave',\n",
       " 'BATTING_ODIs_BF',\n",
       " 'BATTING_ODIs_SR',\n",
       " 'BATTING_ODIs_100',\n",
       " 'BATTING_ODIs_50',\n",
       " 'BATTING_ODIs_4s',\n",
       " 'BATTING_ODIs_6s',\n",
       " 'BATTING_ODIs_Ct',\n",
       " 'BATTING_ODIs_St',\n",
       " 'BATTING_T20Is_Mat',\n",
       " 'BATTING_T20Is_Inns',\n",
       " 'BATTING_T20Is_NO',\n",
       " 'BATTING_T20Is_Runs',\n",
       " 'BATTING_T20Is_HS',\n",
       " 'BATTING_T20Is_Ave',\n",
       " 'BATTING_T20Is_BF',\n",
       " 'BATTING_T20Is_SR',\n",
       " 'BATTING_T20Is_100',\n",
       " 'BATTING_T20Is_50',\n",
       " 'BATTING_T20Is_4s',\n",
       " 'BATTING_T20Is_6s',\n",
       " 'BATTING_T20Is_Ct',\n",
       " 'BATTING_T20Is_St',\n",
       " 'BATTING_First-class_Mat',\n",
       " 'BATTING_First-class_Inns',\n",
       " 'BATTING_First-class_NO',\n",
       " 'BATTING_First-class_Runs',\n",
       " 'BATTING_First-class_HS',\n",
       " 'BATTING_First-class_Ave',\n",
       " 'BATTING_First-class_BF',\n",
       " 'BATTING_First-class_SR',\n",
       " 'BATTING_First-class_100',\n",
       " 'BATTING_First-class_50',\n",
       " 'BATTING_First-class_4s',\n",
       " 'BATTING_First-class_6s',\n",
       " 'BATTING_First-class_Ct',\n",
       " 'BATTING_First-class_St',\n",
       " 'BATTING_List A_Mat',\n",
       " 'BATTING_List A_Inns',\n",
       " 'BATTING_List A_NO',\n",
       " 'BATTING_List A_Runs',\n",
       " 'BATTING_List A_HS',\n",
       " 'BATTING_List A_Ave',\n",
       " 'BATTING_List A_BF',\n",
       " 'BATTING_List A_SR',\n",
       " 'BATTING_List A_100',\n",
       " 'BATTING_List A_50',\n",
       " 'BATTING_List A_4s',\n",
       " 'BATTING_List A_6s',\n",
       " 'BATTING_List A_Ct',\n",
       " 'BATTING_List A_St',\n",
       " 'BATTING_T20s_Mat',\n",
       " 'BATTING_T20s_Inns',\n",
       " 'BATTING_T20s_NO',\n",
       " 'BATTING_T20s_Runs',\n",
       " 'BATTING_T20s_HS',\n",
       " 'BATTING_T20s_Ave',\n",
       " 'BATTING_T20s_BF',\n",
       " 'BATTING_T20s_SR',\n",
       " 'BATTING_T20s_100',\n",
       " 'BATTING_T20s_50',\n",
       " 'BATTING_T20s_4s',\n",
       " 'BATTING_T20s_6s',\n",
       " 'BATTING_T20s_Ct',\n",
       " 'BATTING_T20s_St',\n",
       " 'BOWLING_Tests_Mat',\n",
       " 'BOWLING_Tests_Inns',\n",
       " 'BOWLING_Tests_Balls',\n",
       " 'BOWLING_Tests_Runs',\n",
       " 'BOWLING_Tests_Wkts',\n",
       " 'BOWLING_Tests_BBI',\n",
       " 'BOWLING_Tests_BBM',\n",
       " 'BOWLING_Tests_Ave',\n",
       " 'BOWLING_Tests_Econ',\n",
       " 'BOWLING_Tests_SR',\n",
       " 'BOWLING_Tests_4w',\n",
       " 'BOWLING_Tests_5w',\n",
       " 'BOWLING_Tests_10',\n",
       " 'BOWLING_ODIs_Mat',\n",
       " 'BOWLING_ODIs_Inns',\n",
       " 'BOWLING_ODIs_Balls',\n",
       " 'BOWLING_ODIs_Runs',\n",
       " 'BOWLING_ODIs_Wkts',\n",
       " 'BOWLING_ODIs_BBI',\n",
       " 'BOWLING_ODIs_BBM',\n",
       " 'BOWLING_ODIs_Ave',\n",
       " 'BOWLING_ODIs_Econ',\n",
       " 'BOWLING_ODIs_SR',\n",
       " 'BOWLING_ODIs_4w',\n",
       " 'BOWLING_ODIs_5w',\n",
       " 'BOWLING_ODIs_10',\n",
       " 'BOWLING_T20Is_Mat',\n",
       " 'BOWLING_T20Is_Inns',\n",
       " 'BOWLING_T20Is_Balls',\n",
       " 'BOWLING_T20Is_Runs',\n",
       " 'BOWLING_T20Is_Wkts',\n",
       " 'BOWLING_T20Is_BBI',\n",
       " 'BOWLING_T20Is_BBM',\n",
       " 'BOWLING_T20Is_Ave',\n",
       " 'BOWLING_T20Is_Econ',\n",
       " 'BOWLING_T20Is_SR',\n",
       " 'BOWLING_T20Is_4w',\n",
       " 'BOWLING_T20Is_5w',\n",
       " 'BOWLING_T20Is_10',\n",
       " 'BOWLING_First-class_Mat',\n",
       " 'BOWLING_First-class_Inns',\n",
       " 'BOWLING_First-class_Balls',\n",
       " 'BOWLING_First-class_Runs',\n",
       " 'BOWLING_First-class_Wkts',\n",
       " 'BOWLING_First-class_BBI',\n",
       " 'BOWLING_First-class_BBM',\n",
       " 'BOWLING_First-class_Ave',\n",
       " 'BOWLING_First-class_Econ',\n",
       " 'BOWLING_First-class_SR',\n",
       " 'BOWLING_First-class_4w',\n",
       " 'BOWLING_First-class_5w',\n",
       " 'BOWLING_First-class_10',\n",
       " 'BOWLING_List A_Mat',\n",
       " 'BOWLING_List A_Inns',\n",
       " 'BOWLING_List A_Balls',\n",
       " 'BOWLING_List A_Runs',\n",
       " 'BOWLING_List A_Wkts',\n",
       " 'BOWLING_List A_BBI',\n",
       " 'BOWLING_List A_BBM',\n",
       " 'BOWLING_List A_Ave',\n",
       " 'BOWLING_List A_Econ',\n",
       " 'BOWLING_List A_SR',\n",
       " 'BOWLING_List A_4w',\n",
       " 'BOWLING_List A_5w',\n",
       " 'BOWLING_List A_10',\n",
       " 'BOWLING_T20s_Mat',\n",
       " 'BOWLING_T20s_Inns',\n",
       " 'BOWLING_T20s_Balls',\n",
       " 'BOWLING_T20s_Runs',\n",
       " 'BOWLING_T20s_Wkts',\n",
       " 'BOWLING_T20s_BBI',\n",
       " 'BOWLING_T20s_BBM',\n",
       " 'BOWLING_T20s_Ave',\n",
       " 'BOWLING_T20s_Econ',\n",
       " 'BOWLING_T20s_SR',\n",
       " 'BOWLING_T20s_4w',\n",
       " 'BOWLING_T20s_5w',\n",
       " 'BOWLING_T20s_10']"
      ]
     },
     "execution_count": 8,
     "metadata": {},
     "output_type": "execute_result"
    }
   ],
   "source": [
    "main.columns.tolist()"
   ]
  },
  {
   "cell_type": "code",
   "execution_count": null,
   "metadata": {},
   "outputs": [
    {
     "data": {
      "text/plain": [
       "0"
      ]
     },
     "execution_count": 9,
     "metadata": {},
     "output_type": "execute_result"
    }
   ],
   "source": [
    "main['In a nutshell'].isnull().sum()"
   ]
  },
  {
   "cell_type": "markdown",
   "metadata": {},
   "source": [
    "## Dropping those columns which have a high propotion of NULL Values"
   ]
  },
  {
   "cell_type": "markdown",
   "metadata": {},
   "source": [
    "#### Pyspark"
   ]
  },
  {
   "cell_type": "code",
   "execution_count": null,
   "metadata": {},
   "outputs": [],
   "source": [
    "null_instances=main.isnull().sum()"
   ]
  },
  {
   "cell_type": "code",
   "execution_count": null,
   "metadata": {},
   "outputs": [],
   "source": [
    "null_instances_spark=main_spark.select([count(when(isnan(c) | col(c).isNull(), c)).alias(c) for c in main_spark.columns])"
   ]
  },
  {
   "cell_type": "code",
   "execution_count": null,
   "metadata": {},
   "outputs": [
    {
     "name": "stdout",
     "output_type": "stream",
     "text": [
      "+---+----+-------+---------+----+-----+-----------+-----------+---------+------+--------+------------+-------------+-------------+-----+--------+-------------+-----------+------+-----------------+------------------+----------------+------------------+----------------+-----------------+----------------+----------------+-----------------+----------------+----------------+----------------+----------------+----------------+----------------+-----------------+---------------+-----------------+---------------+----------------+---------------+---------------+----------------+---------------+---------------+---------------+---------------+---------------+-----------------+------------------+----------------+------------------+----------------+-----------------+----------------+----------------+-----------------+----------------+----------------+----------------+----------------+----------------+-----------------------+------------------------+----------------------+------------------------+----------------------+-----------------------+----------------------+----------------------+-----------------------+----------------------+----------------------+----------------------+----------------------+----------------------+------------------+-------------------+-----------------+-------------------+-----------------+------------------+-----------------+-----------------+------------------+-----------------+-----------------+-----------------+-----------------+-----------------+----------------+-----------------+---------------+-----------------+---------------+----------------+---------------+---------------+----------------+---------------+---------------+---------------+---------------+---------------+-----------------+------------------+-------------------+------------------+------------------+-----------------+-----------------+-----------------+------------------+----------------+----------------+----------------+----------------+----------------+-----------------+------------------+-----------------+-----------------+----------------+----------------+----------------+-----------------+---------------+---------------+---------------+---------------+-----------------+------------------+-------------------+------------------+------------------+-----------------+-----------------+-----------------+------------------+----------------+----------------+----------------+----------------+-----------------------+------------------------+-------------------------+------------------------+------------------------+-----------------------+-----------------------+-----------------------+------------------------+----------------------+----------------------+----------------------+----------------------+------------------+-------------------+--------------------+-------------------+-------------------+------------------+------------------+------------------+-------------------+-----------------+-----------------+-----------------+-----------------+----------------+-----------------+------------------+-----------------+-----------------+----------------+----------------+----------------+-----------------+---------------+---------------+---------------+---------------+\n",
      "| ID|NAME|COUNTRY|Full name|Born| Died|Current age|Major teams|Education|Height|Nickname|Playing role|Batting style|Bowling style|Other|Relation|In a nutshell|DESCRIPTION|AWARDS|BATTING_Tests_Mat|BATTING_Tests_Inns|BATTING_Tests_NO|BATTING_Tests_Runs|BATTING_Tests_HS|BATTING_Tests_Ave|BATTING_Tests_BF|BATTING_Tests_SR|BATTING_Tests_100|BATTING_Tests_50|BATTING_Tests_4s|BATTING_Tests_6s|BATTING_Tests_Ct|BATTING_Tests_St|BATTING_ODIs_Mat|BATTING_ODIs_Inns|BATTING_ODIs_NO|BATTING_ODIs_Runs|BATTING_ODIs_HS|BATTING_ODIs_Ave|BATTING_ODIs_BF|BATTING_ODIs_SR|BATTING_ODIs_100|BATTING_ODIs_50|BATTING_ODIs_4s|BATTING_ODIs_6s|BATTING_ODIs_Ct|BATTING_ODIs_St|BATTING_T20Is_Mat|BATTING_T20Is_Inns|BATTING_T20Is_NO|BATTING_T20Is_Runs|BATTING_T20Is_HS|BATTING_T20Is_Ave|BATTING_T20Is_BF|BATTING_T20Is_SR|BATTING_T20Is_100|BATTING_T20Is_50|BATTING_T20Is_4s|BATTING_T20Is_6s|BATTING_T20Is_Ct|BATTING_T20Is_St|BATTING_First-class_Mat|BATTING_First-class_Inns|BATTING_First-class_NO|BATTING_First-class_Runs|BATTING_First-class_HS|BATTING_First-class_Ave|BATTING_First-class_BF|BATTING_First-class_SR|BATTING_First-class_100|BATTING_First-class_50|BATTING_First-class_4s|BATTING_First-class_6s|BATTING_First-class_Ct|BATTING_First-class_St|BATTING_List A_Mat|BATTING_List A_Inns|BATTING_List A_NO|BATTING_List A_Runs|BATTING_List A_HS|BATTING_List A_Ave|BATTING_List A_BF|BATTING_List A_SR|BATTING_List A_100|BATTING_List A_50|BATTING_List A_4s|BATTING_List A_6s|BATTING_List A_Ct|BATTING_List A_St|BATTING_T20s_Mat|BATTING_T20s_Inns|BATTING_T20s_NO|BATTING_T20s_Runs|BATTING_T20s_HS|BATTING_T20s_Ave|BATTING_T20s_BF|BATTING_T20s_SR|BATTING_T20s_100|BATTING_T20s_50|BATTING_T20s_4s|BATTING_T20s_6s|BATTING_T20s_Ct|BATTING_T20s_St|BOWLING_Tests_Mat|BOWLING_Tests_Inns|BOWLING_Tests_Balls|BOWLING_Tests_Runs|BOWLING_Tests_Wkts|BOWLING_Tests_BBI|BOWLING_Tests_BBM|BOWLING_Tests_Ave|BOWLING_Tests_Econ|BOWLING_Tests_SR|BOWLING_Tests_4w|BOWLING_Tests_5w|BOWLING_Tests_10|BOWLING_ODIs_Mat|BOWLING_ODIs_Inns|BOWLING_ODIs_Balls|BOWLING_ODIs_Runs|BOWLING_ODIs_Wkts|BOWLING_ODIs_BBI|BOWLING_ODIs_BBM|BOWLING_ODIs_Ave|BOWLING_ODIs_Econ|BOWLING_ODIs_SR|BOWLING_ODIs_4w|BOWLING_ODIs_5w|BOWLING_ODIs_10|BOWLING_T20Is_Mat|BOWLING_T20Is_Inns|BOWLING_T20Is_Balls|BOWLING_T20Is_Runs|BOWLING_T20Is_Wkts|BOWLING_T20Is_BBI|BOWLING_T20Is_BBM|BOWLING_T20Is_Ave|BOWLING_T20Is_Econ|BOWLING_T20Is_SR|BOWLING_T20Is_4w|BOWLING_T20Is_5w|BOWLING_T20Is_10|BOWLING_First-class_Mat|BOWLING_First-class_Inns|BOWLING_First-class_Balls|BOWLING_First-class_Runs|BOWLING_First-class_Wkts|BOWLING_First-class_BBI|BOWLING_First-class_BBM|BOWLING_First-class_Ave|BOWLING_First-class_Econ|BOWLING_First-class_SR|BOWLING_First-class_4w|BOWLING_First-class_5w|BOWLING_First-class_10|BOWLING_List A_Mat|BOWLING_List A_Inns|BOWLING_List A_Balls|BOWLING_List A_Runs|BOWLING_List A_Wkts|BOWLING_List A_BBI|BOWLING_List A_BBM|BOWLING_List A_Ave|BOWLING_List A_Econ|BOWLING_List A_SR|BOWLING_List A_4w|BOWLING_List A_5w|BOWLING_List A_10|BOWLING_T20s_Mat|BOWLING_T20s_Inns|BOWLING_T20s_Balls|BOWLING_T20s_Runs|BOWLING_T20s_Wkts|BOWLING_T20s_BBI|BOWLING_T20s_BBM|BOWLING_T20s_Ave|BOWLING_T20s_Econ|BOWLING_T20s_SR|BOWLING_T20s_4w|BOWLING_T20s_5w|BOWLING_T20s_10|\n",
      "+---+----+-------+---------+----+-----+-----------+-----------+---------+------+--------+------------+-------------+-------------+-----+--------+-------------+-----------+------+-----------------+------------------+----------------+------------------+----------------+-----------------+----------------+----------------+-----------------+----------------+----------------+----------------+----------------+----------------+----------------+-----------------+---------------+-----------------+---------------+----------------+---------------+---------------+----------------+---------------+---------------+---------------+---------------+---------------+-----------------+------------------+----------------+------------------+----------------+-----------------+----------------+----------------+-----------------+----------------+----------------+----------------+----------------+----------------+-----------------------+------------------------+----------------------+------------------------+----------------------+-----------------------+----------------------+----------------------+-----------------------+----------------------+----------------------+----------------------+----------------------+----------------------+------------------+-------------------+-----------------+-------------------+-----------------+------------------+-----------------+-----------------+------------------+-----------------+-----------------+-----------------+-----------------+-----------------+----------------+-----------------+---------------+-----------------+---------------+----------------+---------------+---------------+----------------+---------------+---------------+---------------+---------------+---------------+-----------------+------------------+-------------------+------------------+------------------+-----------------+-----------------+-----------------+------------------+----------------+----------------+----------------+----------------+----------------+-----------------+------------------+-----------------+-----------------+----------------+----------------+----------------+-----------------+---------------+---------------+---------------+---------------+-----------------+------------------+-------------------+------------------+------------------+-----------------+-----------------+-----------------+------------------+----------------+----------------+----------------+----------------+-----------------------+------------------------+-------------------------+------------------------+------------------------+-----------------------+-----------------------+-----------------------+------------------------+----------------------+----------------------+----------------------+----------------------+------------------+-------------------+--------------------+-------------------+-------------------+------------------+------------------+------------------+-------------------+-----------------+-----------------+-----------------+-----------------+----------------+-----------------+------------------+-----------------+-----------------+----------------+----------------+----------------+-----------------+---------------+---------------+---------------+---------------+\n",
      "|  0|   2|      0|        2|   0|73208|      41892|       6271|    84010| 88536|   90308|       86590|        33056|        46223|83664|   85608|        90283|          0|     0|            86656|             86656|           86656|             86656|           86656|            86656|           88625|           88625|            86656|           86656|           88299|           87110|           86656|           86656|           86652|            86652|          86652|            86652|          86652|           86652|          87240|          87240|           86652|          86652|          87421|          87400|          86652|          86652|            88157|             88157|           88157|             88157|           88157|            88157|           88173|           88173|            88157|           88157|           88173|           88173|           88157|           88157|                  44678|                   44678|                 44678|                   44678|                 44678|                  44678|                 81635|                 81635|                  44678|                 46991|                 80227|                 80220|                 44678|                 44678|             70577|              70577|            70577|              70577|            70577|             70577|            81454|            81454|             70577|            70577|            81709|            81710|            70577|            70577|           82880|            82880|          82880|            82880|          82880|           82880|          82900|          82900|           82880|          82880|          82900|          82900|          82880|          82880|            86656|             86656|              86656|             86656|             86656|            86656|            86656|            86656|             86656|           86656|           86656|           86656|           86656|           86652|            86652|             86652|            86652|            86652|           86652|           86652|           86652|            86652|          86652|          86652|          86652|          86652|            88157|             88157|              88157|             88157|             88157|            88157|            88157|            88157|             88157|           88157|           88157|           88157|           88157|                  44678|                   82218|                    53550|                   44923|                   44678|                  44678|                  64837|                  45108|                   53698|                 51619|                 63629|                 44678|                 44678|             70577|              82948|               70588|              70577|              70577|             70577|             70577|             70578|              70605|            70614|            70577|            70577|            70577|           82880|            82880|             82880|            82880|            82880|           82880|           82880|           82880|            82880|          82880|          82880|          82880|          82880|\n",
      "+---+----+-------+---------+----+-----+-----------+-----------+---------+------+--------+------------+-------------+-------------+-----+--------+-------------+-----------+------+-----------------+------------------+----------------+------------------+----------------+-----------------+----------------+----------------+-----------------+----------------+----------------+----------------+----------------+----------------+----------------+-----------------+---------------+-----------------+---------------+----------------+---------------+---------------+----------------+---------------+---------------+---------------+---------------+---------------+-----------------+------------------+----------------+------------------+----------------+-----------------+----------------+----------------+-----------------+----------------+----------------+----------------+----------------+----------------+-----------------------+------------------------+----------------------+------------------------+----------------------+-----------------------+----------------------+----------------------+-----------------------+----------------------+----------------------+----------------------+----------------------+----------------------+------------------+-------------------+-----------------+-------------------+-----------------+------------------+-----------------+-----------------+------------------+-----------------+-----------------+-----------------+-----------------+-----------------+----------------+-----------------+---------------+-----------------+---------------+----------------+---------------+---------------+----------------+---------------+---------------+---------------+---------------+---------------+-----------------+------------------+-------------------+------------------+------------------+-----------------+-----------------+-----------------+------------------+----------------+----------------+----------------+----------------+----------------+-----------------+------------------+-----------------+-----------------+----------------+----------------+----------------+-----------------+---------------+---------------+---------------+---------------+-----------------+------------------+-------------------+------------------+------------------+-----------------+-----------------+-----------------+------------------+----------------+----------------+----------------+----------------+-----------------------+------------------------+-------------------------+------------------------+------------------------+-----------------------+-----------------------+-----------------------+------------------------+----------------------+----------------------+----------------------+----------------------+------------------+-------------------+--------------------+-------------------+-------------------+------------------+------------------+------------------+-------------------+-----------------+-----------------+-----------------+-----------------+----------------+-----------------+------------------+-----------------+-----------------+----------------+----------------+----------------+-----------------+---------------+---------------+---------------+---------------+\n",
      "\n"
     ]
    }
   ],
   "source": [
    "null_instances_spark.show(1)"
   ]
  },
  {
   "cell_type": "code",
   "execution_count": null,
   "metadata": {},
   "outputs": [],
   "source": [
    "null_instances_spark_rdd=null_instances_spark.rdd"
   ]
  },
  {
   "cell_type": "code",
   "execution_count": null,
   "metadata": {},
   "outputs": [
    {
     "data": {
      "text/plain": [
       "[Row(ID=0, NAME=2, COUNTRY=0, Full name=2, Born=0, Died=73208, Current age=41892, Major teams=6271, Education=84010, Height=88536, Nickname=90308, Playing role=86590, Batting style=33056, Bowling style=46223, Other=83664, Relation=85608, In a nutshell=90283, DESCRIPTION=0, AWARDS=0, BATTING_Tests_Mat=86656, BATTING_Tests_Inns=86656, BATTING_Tests_NO=86656, BATTING_Tests_Runs=86656, BATTING_Tests_HS=86656, BATTING_Tests_Ave=86656, BATTING_Tests_BF=88625, BATTING_Tests_SR=88625, BATTING_Tests_100=86656, BATTING_Tests_50=86656, BATTING_Tests_4s=88299, BATTING_Tests_6s=87110, BATTING_Tests_Ct=86656, BATTING_Tests_St=86656, BATTING_ODIs_Mat=86652, BATTING_ODIs_Inns=86652, BATTING_ODIs_NO=86652, BATTING_ODIs_Runs=86652, BATTING_ODIs_HS=86652, BATTING_ODIs_Ave=86652, BATTING_ODIs_BF=87240, BATTING_ODIs_SR=87240, BATTING_ODIs_100=86652, BATTING_ODIs_50=86652, BATTING_ODIs_4s=87421, BATTING_ODIs_6s=87400, BATTING_ODIs_Ct=86652, BATTING_ODIs_St=86652, BATTING_T20Is_Mat=88157, BATTING_T20Is_Inns=88157, BATTING_T20Is_NO=88157, BATTING_T20Is_Runs=88157, BATTING_T20Is_HS=88157, BATTING_T20Is_Ave=88157, BATTING_T20Is_BF=88173, BATTING_T20Is_SR=88173, BATTING_T20Is_100=88157, BATTING_T20Is_50=88157, BATTING_T20Is_4s=88173, BATTING_T20Is_6s=88173, BATTING_T20Is_Ct=88157, BATTING_T20Is_St=88157, BATTING_First-class_Mat=44678, BATTING_First-class_Inns=44678, BATTING_First-class_NO=44678, BATTING_First-class_Runs=44678, BATTING_First-class_HS=44678, BATTING_First-class_Ave=44678, BATTING_First-class_BF=81635, BATTING_First-class_SR=81635, BATTING_First-class_100=44678, BATTING_First-class_50=46991, BATTING_First-class_4s=80227, BATTING_First-class_6s=80220, BATTING_First-class_Ct=44678, BATTING_First-class_St=44678, BATTING_List A_Mat=70577, BATTING_List A_Inns=70577, BATTING_List A_NO=70577, BATTING_List A_Runs=70577, BATTING_List A_HS=70577, BATTING_List A_Ave=70577, BATTING_List A_BF=81454, BATTING_List A_SR=81454, BATTING_List A_100=70577, BATTING_List A_50=70577, BATTING_List A_4s=81709, BATTING_List A_6s=81710, BATTING_List A_Ct=70577, BATTING_List A_St=70577, BATTING_T20s_Mat=82880, BATTING_T20s_Inns=82880, BATTING_T20s_NO=82880, BATTING_T20s_Runs=82880, BATTING_T20s_HS=82880, BATTING_T20s_Ave=82880, BATTING_T20s_BF=82900, BATTING_T20s_SR=82900, BATTING_T20s_100=82880, BATTING_T20s_50=82880, BATTING_T20s_4s=82900, BATTING_T20s_6s=82900, BATTING_T20s_Ct=82880, BATTING_T20s_St=82880, BOWLING_Tests_Mat=86656, BOWLING_Tests_Inns=86656, BOWLING_Tests_Balls=86656, BOWLING_Tests_Runs=86656, BOWLING_Tests_Wkts=86656, BOWLING_Tests_BBI=86656, BOWLING_Tests_BBM=86656, BOWLING_Tests_Ave=86656, BOWLING_Tests_Econ=86656, BOWLING_Tests_SR=86656, BOWLING_Tests_4w=86656, BOWLING_Tests_5w=86656, BOWLING_Tests_10=86656, BOWLING_ODIs_Mat=86652, BOWLING_ODIs_Inns=86652, BOWLING_ODIs_Balls=86652, BOWLING_ODIs_Runs=86652, BOWLING_ODIs_Wkts=86652, BOWLING_ODIs_BBI=86652, BOWLING_ODIs_BBM=86652, BOWLING_ODIs_Ave=86652, BOWLING_ODIs_Econ=86652, BOWLING_ODIs_SR=86652, BOWLING_ODIs_4w=86652, BOWLING_ODIs_5w=86652, BOWLING_ODIs_10=86652, BOWLING_T20Is_Mat=88157, BOWLING_T20Is_Inns=88157, BOWLING_T20Is_Balls=88157, BOWLING_T20Is_Runs=88157, BOWLING_T20Is_Wkts=88157, BOWLING_T20Is_BBI=88157, BOWLING_T20Is_BBM=88157, BOWLING_T20Is_Ave=88157, BOWLING_T20Is_Econ=88157, BOWLING_T20Is_SR=88157, BOWLING_T20Is_4w=88157, BOWLING_T20Is_5w=88157, BOWLING_T20Is_10=88157, BOWLING_First-class_Mat=44678, BOWLING_First-class_Inns=82218, BOWLING_First-class_Balls=53550, BOWLING_First-class_Runs=44923, BOWLING_First-class_Wkts=44678, BOWLING_First-class_BBI=44678, BOWLING_First-class_BBM=64837, BOWLING_First-class_Ave=45108, BOWLING_First-class_Econ=53698, BOWLING_First-class_SR=51619, BOWLING_First-class_4w=63629, BOWLING_First-class_5w=44678, BOWLING_First-class_10=44678, BOWLING_List A_Mat=70577, BOWLING_List A_Inns=82948, BOWLING_List A_Balls=70588, BOWLING_List A_Runs=70577, BOWLING_List A_Wkts=70577, BOWLING_List A_BBI=70577, BOWLING_List A_BBM=70577, BOWLING_List A_Ave=70578, BOWLING_List A_Econ=70605, BOWLING_List A_SR=70614, BOWLING_List A_4w=70577, BOWLING_List A_5w=70577, BOWLING_List A_10=70577, BOWLING_T20s_Mat=82880, BOWLING_T20s_Inns=82880, BOWLING_T20s_Balls=82880, BOWLING_T20s_Runs=82880, BOWLING_T20s_Wkts=82880, BOWLING_T20s_BBI=82880, BOWLING_T20s_BBM=82880, BOWLING_T20s_Ave=82880, BOWLING_T20s_Econ=82880, BOWLING_T20s_SR=82880, BOWLING_T20s_4w=82880, BOWLING_T20s_5w=82880, BOWLING_T20s_10=82880)]"
      ]
     },
     "execution_count": 14,
     "metadata": {},
     "output_type": "execute_result"
    }
   ],
   "source": [
    "null_instances_spark_rdd.collect()"
   ]
  },
  {
   "cell_type": "code",
   "execution_count": null,
   "metadata": {},
   "outputs": [],
   "source": [
    "def col_func(x):\n",
    "    list_=[]\n",
    "    for col in list_columns:\n",
    "        propotion_null=x[col]/count_rows\n",
    "        if propotion_null<0.9:\n",
    "            list_.append(col)\n",
    "    return list_\n",
    "        "
   ]
  },
  {
   "cell_type": "code",
   "execution_count": null,
   "id": "6ea18c79",
   "metadata": {},
   "outputs": [],
   "source": [
    "list_columns=main_spark.columns\n",
    "count_rows=main_spark.count()"
   ]
  },
  {
   "cell_type": "code",
   "execution_count": null,
   "id": "f5103d0e",
   "metadata": {},
   "outputs": [
    {
     "data": {
      "text/plain": [
       "90308"
      ]
     },
     "execution_count": 17,
     "metadata": {},
     "output_type": "execute_result"
    }
   ],
   "source": [
    "count_rows"
   ]
  },
  {
   "cell_type": "code",
   "execution_count": null,
   "metadata": {
    "scrolled": false
   },
   "outputs": [],
   "source": [
    "columns_needed=null_instances_spark_rdd.map(col_func).collect()"
   ]
  },
  {
   "cell_type": "code",
   "execution_count": null,
   "metadata": {},
   "outputs": [],
   "source": [
    "null_instances=null_instances.map(lambda x:x/main.shape[0])"
   ]
  },
  {
   "cell_type": "code",
   "execution_count": null,
   "metadata": {},
   "outputs": [
    {
     "data": {
      "text/plain": [
       "Index(['Nickname', 'BATTING_Tests_Mat', 'BATTING_ODIs_Mat',\n",
       "       'BATTING_T20Is_Mat', 'BATTING_T20s_Mat', 'BOWLING_Tests_Mat',\n",
       "       'BOWLING_ODIs_Mat', 'BOWLING_T20Is_Mat', 'BOWLING_T20s_Mat'],\n",
       "      dtype='object')"
      ]
     },
     "execution_count": 20,
     "metadata": {},
     "output_type": "execute_result"
    }
   ],
   "source": [
    "null_instances[null_instances>0.90].index"
   ]
  },
  {
   "cell_type": "code",
   "execution_count": null,
   "metadata": {},
   "outputs": [],
   "source": [
    "main_spark=main_spark.drop('Education', 'Height', 'Nickname', 'Playing role', 'Other', 'Relation',\n",
    "       'In a nutshell')"
   ]
  },
  {
   "cell_type": "markdown",
   "metadata": {},
   "source": [
    "#### Pandas"
   ]
  },
  {
   "cell_type": "code",
   "execution_count": null,
   "metadata": {},
   "outputs": [],
   "source": [
    "main.drop(['Education', 'Height', 'Nickname', 'Playing role', 'Other', 'Relation',\n",
    "       'In a nutshell'],1,inplace=True)"
   ]
  },
  {
   "cell_type": "code",
   "execution_count": null,
   "metadata": {},
   "outputs": [],
   "source": [
    "main[\"Born\"]=main[\"Born\"].str.replace(\"\\n\",\"\")"
   ]
  },
  {
   "cell_type": "markdown",
   "metadata": {},
   "source": [
    "## Forming the Date Birth Column which have Year+Date the player was born"
   ]
  },
  {
   "cell_type": "markdown",
   "metadata": {},
   "source": [
    "#### Pyspark"
   ]
  },
  {
   "cell_type": "code",
   "execution_count": 32,
   "metadata": {},
   "outputs": [],
   "source": [
    "split_col = split(main_spark['Born'], ',')"
   ]
  },
  {
   "cell_type": "code",
   "execution_count": 33,
   "metadata": {},
   "outputs": [],
   "source": [
    "main_spark = main_spark.withColumn('NAME1', split_col.getItem(0))\n",
    "main_spark = main_spark.withColumn('NAME2', split_col.getItem(1))"
   ]
  },
  {
   "cell_type": "code",
   "execution_count": 34,
   "metadata": {},
   "outputs": [
    {
     "name": "stdout",
     "output_type": "stream",
     "text": [
      "+---------------+--------+\n",
      "|          NAME1|   NAME2|\n",
      "+---------------+--------+\n",
      "|      \\nJune 26|    1898|\n",
      "|     \\nApril 25|    1734|\n",
      "|     \\nApril 14|    1882|\n",
      "|    \\nJanuary 9|    1942|\n",
      "|   \\nOctober 28|    1897|\n",
      "|     \\nMarch 24|    1979|\n",
      "|      \\nJuly 17|   1999 |\n",
      "|   \\nDecember 6|    1993|\n",
      "|  \\nFebruary 26|    1929|\n",
      "|   \\nJanuary 21|   2003 |\n",
      "|\\ndate unknown |    null|\n",
      "|\\ndate unknown |    null|\n",
      "|     \\nApril 23|    1986|\n",
      "|    \\nJanuary 8|    1999|\n",
      "|\\ndate unknown |    null|\n",
      "|\\ndate unknown |    null|\n",
      "|     \\nMarch 27|    1991|\n",
      "|    \\nOctober 1|    1987|\n",
      "|         \\n1947| Mombasa|\n",
      "|        \\n1975 |    null|\n",
      "+---------------+--------+\n",
      "only showing top 20 rows\n",
      "\n"
     ]
    }
   ],
   "source": [
    "main_spark.select(\"NAME1\",\"NAME2\").show()"
   ]
  },
  {
   "cell_type": "code",
   "execution_count": 35,
   "metadata": {},
   "outputs": [],
   "source": [
    "main_spark=main_spark.na.fill('',[\"NAME2\"])"
   ]
  },
  {
   "cell_type": "code",
   "execution_count": 36,
   "metadata": {},
   "outputs": [],
   "source": [
    "def fill_Date_birth_spark(x):\n",
    "    name_2=x[\"NAME2\"]\n",
    "    name_1=x['NAME1']\n",
    "    \n",
    "    name_2=name_2.strip()\n",
    "    name_1=name_1.strip()\n",
    "    \n",
    "    if not name_2.isnumeric():\n",
    "        return name_1\n",
    "    else:\n",
    "        return name_1+\"-\"+name_2\n",
    "   "
   ]
  },
  {
   "cell_type": "code",
   "execution_count": 37,
   "metadata": {},
   "outputs": [],
   "source": [
    "main_spark_rdd=main_spark.rdd"
   ]
  },
  {
   "cell_type": "code",
   "execution_count": 38,
   "metadata": {},
   "outputs": [],
   "source": [
    "main_spark_rdd_names_join=main_spark_rdd.map(fill_Date_birth_spark)"
   ]
  },
  {
   "cell_type": "code",
   "execution_count": 39,
   "metadata": {},
   "outputs": [],
   "source": [
    "list_rdd_born=main_spark_rdd_names_join.collect()"
   ]
  },
  {
   "cell_type": "code",
   "execution_count": 40,
   "metadata": {},
   "outputs": [],
   "source": [
    "main_spark = main_spark.repartition(1).withColumn(\n",
    "    \"Date_Birth\", \n",
    "    udf(lambda id: list_rdd_born[id])(monotonically_increasing_id()))"
   ]
  },
  {
   "cell_type": "code",
   "execution_count": 41,
   "metadata": {},
   "outputs": [],
   "source": [
    "main_spark=main_spark.drop(\"NAME1\",\"NAME2\")"
   ]
  },
  {
   "cell_type": "code",
   "execution_count": 42,
   "metadata": {},
   "outputs": [
    {
     "name": "stdout",
     "output_type": "stream",
     "text": [
      "+----------------+\n",
      "|      Date_Birth|\n",
      "+----------------+\n",
      "|    June 26-1898|\n",
      "|   April 25-1734|\n",
      "|   April 14-1882|\n",
      "|  January 9-1942|\n",
      "| October 28-1897|\n",
      "|   March 24-1979|\n",
      "|    July 17-1999|\n",
      "| December 6-1993|\n",
      "|February 26-1929|\n",
      "| January 21-2003|\n",
      "|    date unknown|\n",
      "|    date unknown|\n",
      "|   April 23-1986|\n",
      "|  January 8-1999|\n",
      "|    date unknown|\n",
      "|    date unknown|\n",
      "|   March 27-1991|\n",
      "|  October 1-1987|\n",
      "|            1947|\n",
      "|            1975|\n",
      "+----------------+\n",
      "only showing top 20 rows\n",
      "\n"
     ]
    }
   ],
   "source": [
    "main_spark.select(\"Date_Birth\").show()"
   ]
  },
  {
   "cell_type": "markdown",
   "metadata": {},
   "source": [
    "#### Pandas"
   ]
  },
  {
   "cell_type": "code",
   "execution_count": 4,
   "metadata": {},
   "outputs": [],
   "source": [
    "date_splitted=main[\"Born\"].str.split(\",\",expand=True)\n",
    "date_splitted.iloc[:,1]=date_splitted.iloc[:,1].fillna('')"
   ]
  },
  {
   "cell_type": "code",
   "execution_count": 5,
   "metadata": {},
   "outputs": [],
   "source": [
    "def fill_date_birth(x):\n",
    "    x[1]=x[1].strip()\n",
    "    if not x[1].isnumeric():\n",
    "        return x[0]\n",
    "    else:\n",
    "        return x[0]+\"-\"+x[1]\n",
    "\n",
    "main[\"Date_Birth\"]=date_splitted.apply(fill_date_birth,axis=1)"
   ]
  },
  {
   "cell_type": "markdown",
   "metadata": {},
   "source": [
    "### What to do with players whose date is not known"
   ]
  },
  {
   "cell_type": "markdown",
   "metadata": {},
   "source": [
    "#### PySpark"
   ]
  },
  {
   "cell_type": "code",
   "execution_count": 43,
   "id": "8488e208",
   "metadata": {},
   "outputs": [],
   "source": [
    "main_spark = main_spark.withColumn('Date_Birth', trim(col('Date_Birth')))"
   ]
  },
  {
   "cell_type": "code",
   "execution_count": 44,
   "id": "3b697e3e",
   "metadata": {},
   "outputs": [],
   "source": [
    "mode_date_birth_spark=main_spark.filter(~main_spark.Date_Birth.contains('unknown')).groupby('Date_Birth').count().orderBy('count',ascending=False).first()[0]"
   ]
  },
  {
   "cell_type": "code",
   "execution_count": 45,
   "id": "44650078",
   "metadata": {},
   "outputs": [],
   "source": [
    "main_spark=main_spark.withColumn('Date_Birth', when(main_spark.Date_Birth.rlike('known|Known|circa|Details|Hong|Cheema|circ|Pakistan|Goa|Kamrup|date unknown'),mode_date_birth_spark).otherwise(\n",
    "    main_spark['Date_Birth']\n",
    "))\n"
   ]
  },
  {
   "cell_type": "code",
   "execution_count": 46,
   "id": "440cbf7f",
   "metadata": {},
   "outputs": [
    {
     "name": "stdout",
     "output_type": "stream",
     "text": [
      "+----------------+\n",
      "|      Date_Birth|\n",
      "+----------------+\n",
      "|    June/26/1898|\n",
      "|   April/25/1734|\n",
      "|   April/14/1882|\n",
      "|  January/9/1942|\n",
      "| October/28/1897|\n",
      "|   March/24/1979|\n",
      "|    July/17/1999|\n",
      "| December/6/1993|\n",
      "|February/26/1929|\n",
      "| January/21/2003|\n",
      "|February/24/1975|\n",
      "|February/24/1975|\n",
      "|   April/23/1986|\n",
      "|  January/8/1999|\n",
      "|February/24/1975|\n",
      "|February/24/1975|\n",
      "|   March/27/1991|\n",
      "|  October/1/1987|\n",
      "|            1947|\n",
      "|            1975|\n",
      "+----------------+\n",
      "only showing top 20 rows\n",
      "\n"
     ]
    }
   ],
   "source": [
    "main_spark=main_spark.withColumn('Date_Birth', regexp_replace('Date_Birth', ' ', '/')) \n",
    "main_spark=main_spark.withColumn('Date_Birth', regexp_replace('Date_Birth', '-', '/')) \n",
    "main_spark.select('Date_Birth').show()"
   ]
  },
  {
   "cell_type": "code",
   "execution_count": 47,
   "id": "acd1ad91",
   "metadata": {},
   "outputs": [],
   "source": [
    "def date_birth_func_spark(x):\n",
    "    month_to_numeric={\n",
    "        \"January\":\"01\",\n",
    "        \"February\":\"02\",\n",
    "        \"March\":\"03\",\n",
    "        \"April\":\"04\",\n",
    "        \"May\":\"05\",\n",
    "        \"June\":\"06\",\n",
    "        \"July\":\"07\",\n",
    "        \"August\":\"08\",\n",
    "        \"September\":\"09\",\n",
    "        \"October\":\"10\",\n",
    "        \"November\":\"11\",\n",
    "        \"December\":\"12\",\n",
    "        \"Q1\":\"1\" \n",
    "    }\n",
    "    \n",
    "    date_instance=x.split(\"/\")\n",
    "    if '' in date_instance:\n",
    "        date_instance[date_instance.index('')]='1994'\n",
    "    if '0000' in date_instance:\n",
    "        date_instance[date_instance.index('0000')]='1994'\n",
    "    if len(date_instance)==1:\n",
    "        return datetime.strptime(\"01/01/\"+date_instance[0],'%m/%d/%Y')\n",
    "    else:\n",
    "        if date_instance[0] in month_to_numeric.keys():\n",
    "            date_instance[0]=month_to_numeric[date_instance[0]]\n",
    "        return datetime.strptime(\"/\".join(date_instance),'%m/%d/%Y')"
   ]
  },
  {
   "cell_type": "code",
   "execution_count": 49,
   "id": "11e6f79e",
   "metadata": {},
   "outputs": [],
   "source": [
    "udf_function = udf(lambda x: date_birth_func_spark(x),DateType())\n",
    "main_spark=main_spark.withColumn('Date_Birth',udf_function(col('Date_Birth')))"
   ]
  },
  {
   "cell_type": "markdown",
   "metadata": {},
   "source": [
    "#### Pandas"
   ]
  },
  {
   "cell_type": "code",
   "execution_count": 6,
   "metadata": {},
   "outputs": [],
   "source": [
    "main[\"Date_Birth\"]=main[\"Date_Birth\"].str.strip()"
   ]
  },
  {
   "cell_type": "code",
   "execution_count": 7,
   "metadata": {},
   "outputs": [],
   "source": [
    "mode_date_birth=main.loc[~(main[\"Date_Birth\"].str.contains('unknown')),'Date_Birth'].mode().values.tolist()[0]"
   ]
  },
  {
   "cell_type": "code",
   "execution_count": 8,
   "metadata": {},
   "outputs": [],
   "source": [
    "main.loc[(main[\"Date_Birth\"].str.contains('known|Known|circa|Details|Hong|Cheema|circ|Pakistan|Goa|Kamrup|Mansa|Matale|Badulla|Balapitiya|Kiribathgoda|Colombo|Westminster|Polonnaruwa')),'Date_Birth']=\"January 1-\"+mode_date_birth"
   ]
  },
  {
   "cell_type": "code",
   "execution_count": 9,
   "metadata": {},
   "outputs": [],
   "source": [
    "main[\"Date_Birth\"]=main[\"Date_Birth\"].str.replace(\" \",\"/\")\n",
    "main[\"Date_Birth\"]=main[\"Date_Birth\"].str.replace(\"-\",\"/\")"
   ]
  },
  {
   "cell_type": "code",
   "execution_count": 10,
   "metadata": {},
   "outputs": [],
   "source": [
    "final_list=[]\n",
    "def date_birth_func(x):\n",
    "    month_to_numeric={\n",
    "        \"January\":\"01\",\n",
    "        \"February\":\"02\",\n",
    "        \"March\":\"03\",\n",
    "        \"April\":\"04\",\n",
    "        \"May\":\"05\",\n",
    "        \"June\":\"06\",\n",
    "        \"July\":\"07\",\n",
    "        \"August\":\"08\",\n",
    "        \"September\":\"09\",\n",
    "        \"October\":\"10\",\n",
    "        \"November\":\"11\",\n",
    "        \"December\":\"12\",\n",
    "        \"Q1\":\"1\" \n",
    "    }\n",
    "    if x=='':\n",
    "        return datetime.strptime(\"01/01/\"+mode_date_birth, '%m/%d/%Y')\n",
    "    date_instance=x.split(\"/\")\n",
    "    try:\n",
    "        if '' in date_instance:\n",
    "            date_instance[date_instance.index('')]=mode_date_birth\n",
    "            return datetime.strptime(\"/\".join(date_instance), '%m/%d/%Y')\n",
    "        if '0000' in date_instance:\n",
    "            date_instance[date_instance.index('0000')]=mode_date_birth\n",
    "        if len(date_instance)==1:\n",
    "            return datetime.strptime(\"01/01/\"+date_instance[0], '%m/%d/%Y')\n",
    "        elif len(date_instance)==2:\n",
    "            date_instance[0]=month_to_numeric[date_instance[0]]\n",
    "            return datetime.strptime(date_instance[0]+\"/01/\"+date_instance[1], '%m/%d/%Y')\n",
    "        else:\n",
    "            if date_instance[0] in month_to_numeric.keys():\n",
    "                date_instance[0]=month_to_numeric[date_instance[0]]\n",
    "            return datetime.strptime(\"/\".join(date_instance), '%m/%d/%Y')\n",
    "    except:\n",
    "        final_list.append(x)\n",
    "   \n",
    "        \n",
    "    \n",
    "    \n",
    "   \n",
    "    \n",
    "    "
   ]
  },
  {
   "cell_type": "code",
   "execution_count": 11,
   "metadata": {
    "scrolled": false
   },
   "outputs": [],
   "source": [
    "main[\"Born\"]=main[\"Date_Birth\"].map(date_birth_func)"
   ]
  },
  {
   "cell_type": "code",
   "execution_count": 12,
   "id": "7677636b",
   "metadata": {},
   "outputs": [],
   "source": [
    "main.drop('Date_Birth',axis=1,inplace=True)"
   ]
  },
  {
   "cell_type": "markdown",
   "metadata": {},
   "source": [
    "## Forming the Date Death Column which have Year+Date the player was born"
   ]
  },
  {
   "cell_type": "markdown",
   "id": "e1aeabae",
   "metadata": {},
   "source": [
    "#### Pyspark"
   ]
  },
  {
   "cell_type": "code",
   "execution_count": 51,
   "id": "1412cd83",
   "metadata": {},
   "outputs": [],
   "source": [
    "split_col = split(main_spark['Died'], ',')"
   ]
  },
  {
   "cell_type": "code",
   "execution_count": 52,
   "id": "e68a3bd9",
   "metadata": {},
   "outputs": [],
   "source": [
    "main_spark = main_spark.withColumn('NAME1', split_col.getItem(0))\n",
    "main_spark = main_spark.withColumn('NAME2', split_col.getItem(1))"
   ]
  },
  {
   "cell_type": "code",
   "execution_count": 53,
   "id": "dfb20f16",
   "metadata": {},
   "outputs": [],
   "source": [
    "main_spark=main_spark.fillna('',subset=['NAME2'])"
   ]
  },
  {
   "cell_type": "code",
   "execution_count": 54,
   "id": "de45e70d",
   "metadata": {},
   "outputs": [],
   "source": [
    "custom_func_name1_name2=udf(lambda x,y:x+\"-\"+y)"
   ]
  },
  {
   "cell_type": "code",
   "execution_count": 55,
   "id": "8f2faa1f",
   "metadata": {},
   "outputs": [],
   "source": [
    "main_spark=main_spark.withColumn('Died',custom_func_name1_name2(col('NAME1'),col('NAME2')))"
   ]
  },
  {
   "cell_type": "code",
   "execution_count": 56,
   "id": "5a4ee89a",
   "metadata": {},
   "outputs": [],
   "source": [
    "main_spark=main_spark.drop('NAME1','NAME2')"
   ]
  },
  {
   "cell_type": "code",
   "execution_count": 57,
   "id": "45c57896",
   "metadata": {},
   "outputs": [],
   "source": [
    "mode_date_died_spark=main_spark.filter(~main_spark.Died.rlike('nan|unknown|Presumed Dead|Known|Unknown')).groupby('Died').count().orderBy('count',ascending=False).first()[0]"
   ]
  },
  {
   "cell_type": "code",
   "execution_count": 58,
   "id": "1a167b2c",
   "metadata": {},
   "outputs": [
    {
     "data": {
      "text/plain": [
       "'September 10- 1967'"
      ]
     },
     "execution_count": 58,
     "metadata": {},
     "output_type": "execute_result"
    }
   ],
   "source": [
    "mode_date_died_spark"
   ]
  },
  {
   "cell_type": "code",
   "execution_count": 59,
   "id": "0a20c968",
   "metadata": {},
   "outputs": [],
   "source": [
    "global mode_year_spark\n",
    "mode_year_spark=mode_date_died_spark.split('- ')[-1]"
   ]
  },
  {
   "cell_type": "code",
   "execution_count": 60,
   "id": "3cee5589",
   "metadata": {},
   "outputs": [],
   "source": [
    "main_spark=main_spark.withColumn('Died', when(main_spark.Died.rlike('unknown|Presumed Dead|Known|Unknown|0000|aged|Duncton|Leicester|Tasmania'),mode_date_died_spark).otherwise(\n",
    "    main_spark['Died']\n",
    "))"
   ]
  },
  {
   "cell_type": "code",
   "execution_count": 61,
   "id": "b453f874",
   "metadata": {},
   "outputs": [
    {
     "name": "stdout",
     "output_type": "stream",
     "text": [
      "+------------------+\n",
      "|              Died|\n",
      "+------------------+\n",
      "|    March 12- 1982|\n",
      "|    April 25- 1797|\n",
      "|September 10- 1967|\n",
      "|              nan-|\n",
      "|   August 28- 1947|\n",
      "|              nan-|\n",
      "|              nan-|\n",
      "|              nan-|\n",
      "|              nan-|\n",
      "|              nan-|\n",
      "|              nan-|\n",
      "|              nan-|\n",
      "|              nan-|\n",
      "|              nan-|\n",
      "|              nan-|\n",
      "|              nan-|\n",
      "|              nan-|\n",
      "|              nan-|\n",
      "|              nan-|\n",
      "|              nan-|\n",
      "+------------------+\n",
      "only showing top 20 rows\n",
      "\n"
     ]
    }
   ],
   "source": [
    "main_spark.select('Died').show()"
   ]
  },
  {
   "cell_type": "code",
   "execution_count": 62,
   "id": "8746ea29",
   "metadata": {},
   "outputs": [],
   "source": [
    "main_spark=main_spark.withColumn('Died', regexp_replace('Died', '- ', '/')) \n",
    "main_spark=main_spark.withColumn('Died', regexp_replace('Died', ' ', '/')) \n",
    "main_spark=main_spark.withColumn('Died', regexp_replace('Died', 'nan/', 'nan')) \n"
   ]
  },
  {
   "cell_type": "code",
   "execution_count": 63,
   "id": "527e0695",
   "metadata": {},
   "outputs": [],
   "source": [
    "def date_death_func_spark(x):\n",
    "    month_to_numeric={\n",
    "        \"January\":\"01\",\n",
    "        \"February\":\"02\",\n",
    "        \"March\":\"03\",\n",
    "        \"April\":\"04\",\n",
    "        \"May\":\"05\",\n",
    "        \"June\":\"06\",\n",
    "        \"July\":\"07\",\n",
    "        \"August\":\"08\",\n",
    "        \"September\":\"09\",\n",
    "        \"October\":\"10\",\n",
    "        \"November\":\"11\",\n",
    "        \"December\":\"12\",\n",
    "        \"Q1\":\"1\" ,\n",
    "        'Q2':'4'\n",
    "    }  \n",
    "   \n",
    "    if x=='nan':\n",
    "        return 'nan'\n",
    "    date_list=x.split('/')[:3]\n",
    "    all_numeric=True\n",
    "    index_to_pop=[]\n",
    "    for index,instance in enumerate(date_list):\n",
    "        if not instance.isnumeric() and instance not in month_to_numeric.keys():\n",
    "            all_numeric=False\n",
    "        else:    \n",
    "            index_to_pop.append(index)\n",
    "    if all_numeric:\n",
    "        date_list[0]=month_to_numeric[date_list[0]]\n",
    "        return datetime.strptime('/'.join(date_list),'%m/%d/%Y')\n",
    "        \n",
    "    else:\n",
    "\n",
    "        new_date_list=[]\n",
    "        for index in index_to_pop:\n",
    "            new_date_list.append(date_list[index])\n",
    "        if len(new_date_list)==1:\n",
    "            return datetime.strptime('01/'+'01/'+new_date_list[0],'%m/%d/%Y')\n",
    "        elif len(new_date_list)==2 and new_date_list[0] in month_to_numeric.keys():\n",
    "            new_date_list[0]=month_to_numeric[new_date_list[0]]\n",
    "            return datetime.strptime(new_date_list[0]+'/01/'+new_date_list[1],'%m/%d/%Y')\n",
    "        else:\n",
    "            return datetime.strptime('01/'+'01/'+mode_year_spark,'%m/%d/%Y')\n",
    "                \n",
    "    \n",
    "        \n",
    "            \n",
    "    \n",
    "      "
   ]
  },
  {
   "cell_type": "code",
   "execution_count": 64,
   "id": "e47695b0",
   "metadata": {},
   "outputs": [],
   "source": [
    "death_udf=udf(lambda x:date_death_func_spark(x),DateType())\n",
    "main_spark=main_spark.withColumn('Died',death_udf(col('Died')))"
   ]
  },
  {
   "cell_type": "markdown",
   "id": "2ca0bac5",
   "metadata": {},
   "source": [
    "#### Pandas"
   ]
  },
  {
   "cell_type": "code",
   "execution_count": 13,
   "metadata": {},
   "outputs": [],
   "source": [
    "main['Died']=main['Died'].map(lambda x:\"-\".join(x.split(',')[:2]))"
   ]
  },
  {
   "cell_type": "code",
   "execution_count": 14,
   "id": "a2f6382b",
   "metadata": {},
   "outputs": [],
   "source": [
    "mode_died=main.loc[~(main['Died'].str.contains('nan|unknown|Presumed Dead|Known|Unknown')),'Died'].mode().values.tolist()[0]"
   ]
  },
  {
   "cell_type": "code",
   "execution_count": 15,
   "id": "ccd60afe",
   "metadata": {},
   "outputs": [],
   "source": [
    "mode_year=mode_died.split('- ')[-1]"
   ]
  },
  {
   "cell_type": "code",
   "execution_count": 16,
   "id": "e37a490e",
   "metadata": {},
   "outputs": [],
   "source": [
    "main.loc[(main['Died'].str.contains('unknown|Presumed Dead|Known|Unknown|0000|aged|Duncton|Leicester|Tasmania')),'Died']=mode_died"
   ]
  },
  {
   "cell_type": "code",
   "execution_count": 17,
   "id": "3ece09a7",
   "metadata": {},
   "outputs": [],
   "source": [
    "main['Died']=main['Died'].str.replace('- ','/').str.replace(' ','/')"
   ]
  },
  {
   "cell_type": "code",
   "execution_count": 18,
   "id": "5e1ad739",
   "metadata": {},
   "outputs": [],
   "source": [
    "def date_death_func(x):\n",
    "    month_to_numeric={\n",
    "        \"January\":\"01\",\n",
    "        \"February\":\"02\",\n",
    "        \"March\":\"03\",\n",
    "        \"April\":\"04\",\n",
    "        \"May\":\"05\",\n",
    "        \"June\":\"06\",\n",
    "        \"July\":\"07\",\n",
    "        \"August\":\"08\",\n",
    "        \"September\":\"09\",\n",
    "        \"October\":\"10\",\n",
    "        \"November\":\"11\",\n",
    "        \"December\":\"12\",\n",
    "        \"Q1\":\"1\" ,\n",
    "        'Q2':'4'\n",
    "    }  \n",
    "   \n",
    "    if x=='nan':\n",
    "        return 'nan'\n",
    "    date_list=x.split('/')[:3]\n",
    "    all_numeric=True\n",
    "    index_to_pop=[]\n",
    "    for index,instance in enumerate(date_list):\n",
    "        if not instance.isnumeric() and instance not in month_to_numeric.keys():\n",
    "            all_numeric=False\n",
    "        else:    \n",
    "            index_to_pop.append(index)\n",
    "    if all_numeric:\n",
    "        date_list[0]=month_to_numeric[date_list[0]]\n",
    "        return datetime.strptime('/'.join(date_list), '%m/%d/%Y')\n",
    "        \n",
    "    else:\n",
    "\n",
    "        new_date_list=[]\n",
    "        for index in index_to_pop:\n",
    "            new_date_list.append(date_list[index])\n",
    "        if len(new_date_list)==1:\n",
    "            return datetime.strptime('01/'+'01/'+new_date_list[0], '%m/%d/%Y')\n",
    "        elif len(new_date_list)==2 and new_date_list[0] in month_to_numeric.keys():\n",
    "            new_date_list[0]=month_to_numeric[new_date_list[0]]\n",
    "            return datetime.strptime(new_date_list[0]+'/01/'+new_date_list[1], '%m/%d/%Y')\n",
    "        else:\n",
    "            return datetime.strptime('01/'+'01/'+mode_year, '%m/%d/%Y')\n",
    "                \n",
    "    \n",
    "        \n",
    "            \n",
    "    \n",
    "      "
   ]
  },
  {
   "cell_type": "code",
   "execution_count": 19,
   "id": "af135e2c",
   "metadata": {},
   "outputs": [],
   "source": [
    "main['Died']=main['Died'].map(date_death_func)"
   ]
  },
  {
   "cell_type": "markdown",
   "id": "4578fa5d",
   "metadata": {},
   "source": [
    "## Forming the Age Column\n",
    "    -  Age=Death-Birth (IF died)\n",
    "    -  Age=Today()- Birth (IF Alive)"
   ]
  },
  {
   "cell_type": "markdown",
   "id": "d0e47a70",
   "metadata": {},
   "source": [
    "#### PySpark"
   ]
  },
  {
   "cell_type": "code",
   "execution_count": 66,
   "id": "a7d920a8",
   "metadata": {},
   "outputs": [],
   "source": [
    "main_spark=main_spark.withColumn('Age',col('Current age'))"
   ]
  },
  {
   "cell_type": "code",
   "execution_count": 67,
   "id": "52c992bc",
   "metadata": {},
   "outputs": [],
   "source": [
    "main_spark=main_spark.withColumnRenamed(\"Current age\",\"Current_age\")"
   ]
  },
  {
   "cell_type": "code",
   "execution_count": 71,
   "id": "cbf8ff07",
   "metadata": {},
   "outputs": [],
   "source": [
    "case_1_func=udf(lambda x:(datetime.now()-x).days/365)"
   ]
  },
  {
   "cell_type": "code",
   "execution_count": 73,
   "id": "3b28e06d",
   "metadata": {},
   "outputs": [],
   "source": [
    "main_spark=main_spark.withColumn(\"Age\",when(~main_spark.Age.contains('nan'),case_1_func(col('Date_Birth'))).otherwise(main_spark['Age']))"
   ]
  },
  {
   "cell_type": "code",
   "execution_count": 74,
   "id": "8b13b8ce",
   "metadata": {},
   "outputs": [],
   "source": [
    "Case_2_func=udf(lambda x,y :(x-y).days/365)"
   ]
  },
  {
   "cell_type": "code",
   "execution_count": 80,
   "id": "05a1e29f",
   "metadata": {},
   "outputs": [
    {
     "name": "stdout",
     "output_type": "stream",
     "text": [
      "+------------------+\n",
      "|               Age|\n",
      "+------------------+\n",
      "| 83.76438356164384|\n",
      "| 63.04383561643836|\n",
      "| 85.46301369863014|\n",
      "| 80.22191780821917|\n",
      "|49.863013698630134|\n",
      "| 42.99452054794521|\n",
      "|22.665753424657535|\n",
      "|28.279452054794522|\n",
      "|  93.0986301369863|\n",
      "|19.147945205479452|\n",
      "|-8.153424657534247|\n",
      "|-8.153424657534247|\n",
      "| 35.90684931506849|\n",
      "|23.186301369863013|\n",
      "|-8.153424657534247|\n",
      "|-8.153424657534247|\n",
      "| 30.97808219178082|\n",
      "|34.465753424657535|\n",
      "| 75.24109589041096|\n",
      "|47.221917808219175|\n",
      "+------------------+\n",
      "only showing top 20 rows\n",
      "\n"
     ]
    }
   ],
   "source": [
    "main_spark=main_spark.withColumn(\"Age\",when(main_spark.Age.contains('nan') & ~main_spark.Died.isNull() ,Case_2_func(col('Died'),col('Date_Birth'))).otherwise(main_spark['Age']))"
   ]
  },
  {
   "cell_type": "code",
   "execution_count": null,
   "id": "70aa231e",
   "metadata": {},
   "outputs": [],
   "source": [
    "### Implement Case 3,4,5,6, From Pandas"
   ]
  },
  {
   "cell_type": "markdown",
   "id": "d65d8b72",
   "metadata": {},
   "source": [
    "#### Pandas"
   ]
  },
  {
   "cell_type": "code",
   "execution_count": 37,
   "id": "e91ec8ad",
   "metadata": {},
   "outputs": [],
   "source": [
    "main['Age']=main['Current age']"
   ]
  },
  {
   "cell_type": "code",
   "execution_count": 38,
   "id": "cdee8322",
   "metadata": {},
   "outputs": [],
   "source": [
    "main.loc[(main['Current age']!='nan'),'Age']=main.loc[(main['Current age']!='nan'),:].apply(lambda x:(datetime.today()-x['Born']).days/365,axis=1)#### Case-1 Those who are still alive, what is their updated age?"
   ]
  },
  {
   "cell_type": "code",
   "execution_count": 40,
   "id": "e2b49966",
   "metadata": {},
   "outputs": [],
   "source": [
    "main.loc[(main['Current age']=='nan') & ~(main['Died'].isnull()) ,'Age']=main.loc[(main['Current age']=='nan') & ~(main['Died'].isnull()) ,:].apply(lambda x:(x['Died']-x['Born']).days/365,axis=1)### Case-2 Those who have died and their dead date is known"
   ]
  },
  {
   "cell_type": "code",
   "execution_count": 41,
   "id": "c69189f9",
   "metadata": {},
   "outputs": [],
   "source": [
    "main.loc[(main['Current age']=='nan') & (main['Died'].isnull()) ,'Age']=main.loc[(main['Current age']=='nan') & (main['Died'].isnull()) ,:].apply(lambda x:(datetime.today()-x['Born']).days/365,axis=1)## Case Those who are alive but their current age is nan"
   ]
  },
  {
   "cell_type": "code",
   "execution_count": 49,
   "id": "d97737e3",
   "metadata": {},
   "outputs": [],
   "source": [
    "main.loc[(main['Age']<0),'Died']=None #### This is happening because some of died values were imputed from the mode which might have the cause the died column to be less than Birth therefore making them null makes sense"
   ]
  },
  {
   "cell_type": "code",
   "execution_count": 52,
   "id": "f04c507e",
   "metadata": {},
   "outputs": [],
   "source": [
    "main.loc[(main['Age']<0)&(main['Died']).isnull(),'Age']=main.loc[(main['Age']<0)&(main['Died']).isnull(),:].apply(lambda x:(datetime.today()-x['Born']).days/365,axis=1)##### Those whose age is negative due to death mode imputation--assumption is that they are still alive."
   ]
  },
  {
   "cell_type": "code",
   "execution_count": 57,
   "id": "1889e502",
   "metadata": {},
   "outputs": [],
   "source": [
    "main.loc[(main['Age']>150),'Age']=150 ### No one can live that long :D "
   ]
  },
  {
   "cell_type": "code",
   "execution_count": 60,
   "id": "48a786dd",
   "metadata": {},
   "outputs": [],
   "source": [
    "main.drop('Current age',axis=1,inplace=True)"
   ]
  },
  {
   "cell_type": "code",
   "execution_count": 61,
   "id": "26c1ef0c",
   "metadata": {},
   "outputs": [
    {
     "data": {
      "text/html": [
       "<div>\n",
       "<style scoped>\n",
       "    .dataframe tbody tr th:only-of-type {\n",
       "        vertical-align: middle;\n",
       "    }\n",
       "\n",
       "    .dataframe tbody tr th {\n",
       "        vertical-align: top;\n",
       "    }\n",
       "\n",
       "    .dataframe thead th {\n",
       "        text-align: right;\n",
       "    }\n",
       "</style>\n",
       "<table border=\"1\" class=\"dataframe\">\n",
       "  <thead>\n",
       "    <tr style=\"text-align: right;\">\n",
       "      <th></th>\n",
       "      <th>ID</th>\n",
       "      <th>NAME</th>\n",
       "      <th>COUNTRY</th>\n",
       "      <th>Full name</th>\n",
       "      <th>Born</th>\n",
       "      <th>Died</th>\n",
       "      <th>Major teams</th>\n",
       "      <th>Education</th>\n",
       "      <th>Height</th>\n",
       "      <th>Nickname</th>\n",
       "      <th>...</th>\n",
       "      <th>BOWLING_T20s_Wkts</th>\n",
       "      <th>BOWLING_T20s_BBI</th>\n",
       "      <th>BOWLING_T20s_BBM</th>\n",
       "      <th>BOWLING_T20s_Ave</th>\n",
       "      <th>BOWLING_T20s_Econ</th>\n",
       "      <th>BOWLING_T20s_SR</th>\n",
       "      <th>BOWLING_T20s_4w</th>\n",
       "      <th>BOWLING_T20s_5w</th>\n",
       "      <th>BOWLING_T20s_10</th>\n",
       "      <th>Age</th>\n",
       "    </tr>\n",
       "  </thead>\n",
       "  <tbody>\n",
       "    <tr>\n",
       "      <th>0</th>\n",
       "      <td>8772</td>\n",
       "      <td>Henry Arkell</td>\n",
       "      <td>England</td>\n",
       "      <td>Henry John Denham Arkell</td>\n",
       "      <td>1898-06-26</td>\n",
       "      <td>1982-03-12</td>\n",
       "      <td>Northamptonshire</td>\n",
       "      <td>nan</td>\n",
       "      <td>nan</td>\n",
       "      <td>NaN</td>\n",
       "      <td>...</td>\n",
       "      <td>nan</td>\n",
       "      <td>nan</td>\n",
       "      <td>nan</td>\n",
       "      <td>nan</td>\n",
       "      <td>nan</td>\n",
       "      <td>nan</td>\n",
       "      <td>nan</td>\n",
       "      <td>nan</td>\n",
       "      <td>nan</td>\n",
       "      <td>83.7644</td>\n",
       "    </tr>\n",
       "    <tr>\n",
       "      <th>1</th>\n",
       "      <td>532565</td>\n",
       "      <td>Richard Nyren</td>\n",
       "      <td>England</td>\n",
       "      <td>Richard Nyren</td>\n",
       "      <td>1734-04-25</td>\n",
       "      <td>1797-04-25</td>\n",
       "      <td>Hampshire XI</td>\n",
       "      <td>nan</td>\n",
       "      <td>nan</td>\n",
       "      <td>NaN</td>\n",
       "      <td>...</td>\n",
       "      <td>nan</td>\n",
       "      <td>nan</td>\n",
       "      <td>nan</td>\n",
       "      <td>nan</td>\n",
       "      <td>nan</td>\n",
       "      <td>nan</td>\n",
       "      <td>nan</td>\n",
       "      <td>nan</td>\n",
       "      <td>nan</td>\n",
       "      <td>63.0438</td>\n",
       "    </tr>\n",
       "    <tr>\n",
       "      <th>2</th>\n",
       "      <td>16856</td>\n",
       "      <td>Sydney Maartensz</td>\n",
       "      <td>England</td>\n",
       "      <td>Sydney Gratien Adair Maartensz</td>\n",
       "      <td>1882-04-14</td>\n",
       "      <td>1967-09-10</td>\n",
       "      <td>Hampshire</td>\n",
       "      <td>nan</td>\n",
       "      <td>nan</td>\n",
       "      <td>NaN</td>\n",
       "      <td>...</td>\n",
       "      <td>nan</td>\n",
       "      <td>nan</td>\n",
       "      <td>nan</td>\n",
       "      <td>nan</td>\n",
       "      <td>nan</td>\n",
       "      <td>nan</td>\n",
       "      <td>nan</td>\n",
       "      <td>nan</td>\n",
       "      <td>nan</td>\n",
       "      <td>85.463</td>\n",
       "    </tr>\n",
       "    <tr>\n",
       "      <th>3</th>\n",
       "      <td>16715</td>\n",
       "      <td>Brian Lander</td>\n",
       "      <td>England</td>\n",
       "      <td>Brian Richard Lander</td>\n",
       "      <td>1942-01-09</td>\n",
       "      <td>NaT</td>\n",
       "      <td>['Durham,', 'Minor Counties']</td>\n",
       "      <td>nan</td>\n",
       "      <td>nan</td>\n",
       "      <td>NaN</td>\n",
       "      <td>...</td>\n",
       "      <td>nan</td>\n",
       "      <td>nan</td>\n",
       "      <td>nan</td>\n",
       "      <td>nan</td>\n",
       "      <td>nan</td>\n",
       "      <td>nan</td>\n",
       "      <td>nan</td>\n",
       "      <td>nan</td>\n",
       "      <td>nan</td>\n",
       "      <td>80.2137</td>\n",
       "    </tr>\n",
       "    <tr>\n",
       "      <th>4</th>\n",
       "      <td>15989</td>\n",
       "      <td>Derek Kenderdine</td>\n",
       "      <td>England</td>\n",
       "      <td>Derek Charles Kenderdine</td>\n",
       "      <td>1897-10-28</td>\n",
       "      <td>1947-08-28</td>\n",
       "      <td>Royal Navy</td>\n",
       "      <td>nan</td>\n",
       "      <td>nan</td>\n",
       "      <td>NaN</td>\n",
       "      <td>...</td>\n",
       "      <td>nan</td>\n",
       "      <td>nan</td>\n",
       "      <td>nan</td>\n",
       "      <td>nan</td>\n",
       "      <td>nan</td>\n",
       "      <td>nan</td>\n",
       "      <td>nan</td>\n",
       "      <td>nan</td>\n",
       "      <td>nan</td>\n",
       "      <td>49.863</td>\n",
       "    </tr>\n",
       "    <tr>\n",
       "      <th>...</th>\n",
       "      <td>...</td>\n",
       "      <td>...</td>\n",
       "      <td>...</td>\n",
       "      <td>...</td>\n",
       "      <td>...</td>\n",
       "      <td>...</td>\n",
       "      <td>...</td>\n",
       "      <td>...</td>\n",
       "      <td>...</td>\n",
       "      <td>...</td>\n",
       "      <td>...</td>\n",
       "      <td>...</td>\n",
       "      <td>...</td>\n",
       "      <td>...</td>\n",
       "      <td>...</td>\n",
       "      <td>...</td>\n",
       "      <td>...</td>\n",
       "      <td>...</td>\n",
       "      <td>...</td>\n",
       "      <td>...</td>\n",
       "      <td>...</td>\n",
       "    </tr>\n",
       "    <tr>\n",
       "      <th>90303</th>\n",
       "      <td>19777</td>\n",
       "      <td>Keith Robinson</td>\n",
       "      <td>England</td>\n",
       "      <td>Keith Robinson</td>\n",
       "      <td>1933-12-17</td>\n",
       "      <td>NaT</td>\n",
       "      <td>Combined Services</td>\n",
       "      <td>nan</td>\n",
       "      <td>nan</td>\n",
       "      <td>NaN</td>\n",
       "      <td>...</td>\n",
       "      <td>nan</td>\n",
       "      <td>nan</td>\n",
       "      <td>nan</td>\n",
       "      <td>nan</td>\n",
       "      <td>nan</td>\n",
       "      <td>nan</td>\n",
       "      <td>nan</td>\n",
       "      <td>nan</td>\n",
       "      <td>nan</td>\n",
       "      <td>88.2822</td>\n",
       "    </tr>\n",
       "    <tr>\n",
       "      <th>90304</th>\n",
       "      <td>14843</td>\n",
       "      <td>Trevitt Hine-Haycock</td>\n",
       "      <td>England</td>\n",
       "      <td>Trevitt Reginald Hine-Haycock</td>\n",
       "      <td>1861-12-03</td>\n",
       "      <td>1953-11-02</td>\n",
       "      <td>['Kent,', 'Oxford University']</td>\n",
       "      <td>nan</td>\n",
       "      <td>nan</td>\n",
       "      <td>NaN</td>\n",
       "      <td>...</td>\n",
       "      <td>nan</td>\n",
       "      <td>nan</td>\n",
       "      <td>nan</td>\n",
       "      <td>nan</td>\n",
       "      <td>nan</td>\n",
       "      <td>nan</td>\n",
       "      <td>nan</td>\n",
       "      <td>nan</td>\n",
       "      <td>nan</td>\n",
       "      <td>91.9753</td>\n",
       "    </tr>\n",
       "    <tr>\n",
       "      <th>90305</th>\n",
       "      <td>15025</td>\n",
       "      <td>John Hughes</td>\n",
       "      <td>England</td>\n",
       "      <td>John Hughes</td>\n",
       "      <td>1825-07-02</td>\n",
       "      <td>1907-01-29</td>\n",
       "      <td>South of England</td>\n",
       "      <td>nan</td>\n",
       "      <td>nan</td>\n",
       "      <td>NaN</td>\n",
       "      <td>...</td>\n",
       "      <td>nan</td>\n",
       "      <td>nan</td>\n",
       "      <td>nan</td>\n",
       "      <td>nan</td>\n",
       "      <td>nan</td>\n",
       "      <td>nan</td>\n",
       "      <td>nan</td>\n",
       "      <td>nan</td>\n",
       "      <td>nan</td>\n",
       "      <td>81.6301</td>\n",
       "    </tr>\n",
       "    <tr>\n",
       "      <th>90306</th>\n",
       "      <td>11167</td>\n",
       "      <td>John Clayton</td>\n",
       "      <td>England</td>\n",
       "      <td>John Morton Clayton</td>\n",
       "      <td>1857-11-17</td>\n",
       "      <td>1938-04-01</td>\n",
       "      <td>Derbyshire</td>\n",
       "      <td>nan</td>\n",
       "      <td>nan</td>\n",
       "      <td>NaN</td>\n",
       "      <td>...</td>\n",
       "      <td>nan</td>\n",
       "      <td>nan</td>\n",
       "      <td>nan</td>\n",
       "      <td>nan</td>\n",
       "      <td>nan</td>\n",
       "      <td>nan</td>\n",
       "      <td>nan</td>\n",
       "      <td>nan</td>\n",
       "      <td>nan</td>\n",
       "      <td>80.4219</td>\n",
       "    </tr>\n",
       "    <tr>\n",
       "      <th>90307</th>\n",
       "      <td>565677</td>\n",
       "      <td>H Clewitt</td>\n",
       "      <td>England</td>\n",
       "      <td>H Clewitt</td>\n",
       "      <td>1994-01-01</td>\n",
       "      <td>NaT</td>\n",
       "      <td>Lincolnshire</td>\n",
       "      <td>nan</td>\n",
       "      <td>nan</td>\n",
       "      <td>NaN</td>\n",
       "      <td>...</td>\n",
       "      <td>nan</td>\n",
       "      <td>nan</td>\n",
       "      <td>nan</td>\n",
       "      <td>nan</td>\n",
       "      <td>nan</td>\n",
       "      <td>nan</td>\n",
       "      <td>nan</td>\n",
       "      <td>nan</td>\n",
       "      <td>nan</td>\n",
       "      <td>28.2</td>\n",
       "    </tr>\n",
       "  </tbody>\n",
       "</table>\n",
       "<p>90308 rows × 181 columns</p>\n",
       "</div>"
      ],
      "text/plain": [
       "           ID                  NAME  COUNTRY                       Full name  \\\n",
       "0        8772          Henry Arkell  England        Henry John Denham Arkell   \n",
       "1      532565         Richard Nyren  England                   Richard Nyren   \n",
       "2       16856      Sydney Maartensz  England  Sydney Gratien Adair Maartensz   \n",
       "3       16715          Brian Lander  England            Brian Richard Lander   \n",
       "4       15989      Derek Kenderdine  England        Derek Charles Kenderdine   \n",
       "...       ...                   ...      ...                             ...   \n",
       "90303   19777        Keith Robinson  England                  Keith Robinson   \n",
       "90304   14843  Trevitt Hine-Haycock  England   Trevitt Reginald Hine-Haycock   \n",
       "90305   15025           John Hughes  England                     John Hughes   \n",
       "90306   11167          John Clayton  England             John Morton Clayton   \n",
       "90307  565677             H Clewitt  England                       H Clewitt   \n",
       "\n",
       "            Born       Died                     Major teams Education Height  \\\n",
       "0     1898-06-26 1982-03-12                Northamptonshire       nan    nan   \n",
       "1     1734-04-25 1797-04-25                    Hampshire XI       nan    nan   \n",
       "2     1882-04-14 1967-09-10                       Hampshire       nan    nan   \n",
       "3     1942-01-09        NaT   ['Durham,', 'Minor Counties']       nan    nan   \n",
       "4     1897-10-28 1947-08-28                      Royal Navy       nan    nan   \n",
       "...          ...        ...                             ...       ...    ...   \n",
       "90303 1933-12-17        NaT               Combined Services       nan    nan   \n",
       "90304 1861-12-03 1953-11-02  ['Kent,', 'Oxford University']       nan    nan   \n",
       "90305 1825-07-02 1907-01-29                South of England       nan    nan   \n",
       "90306 1857-11-17 1938-04-01                      Derbyshire       nan    nan   \n",
       "90307 1994-01-01        NaT                    Lincolnshire       nan    nan   \n",
       "\n",
       "       Nickname  ... BOWLING_T20s_Wkts BOWLING_T20s_BBI BOWLING_T20s_BBM  \\\n",
       "0           NaN  ...               nan              nan              nan   \n",
       "1           NaN  ...               nan              nan              nan   \n",
       "2           NaN  ...               nan              nan              nan   \n",
       "3           NaN  ...               nan              nan              nan   \n",
       "4           NaN  ...               nan              nan              nan   \n",
       "...         ...  ...               ...              ...              ...   \n",
       "90303       NaN  ...               nan              nan              nan   \n",
       "90304       NaN  ...               nan              nan              nan   \n",
       "90305       NaN  ...               nan              nan              nan   \n",
       "90306       NaN  ...               nan              nan              nan   \n",
       "90307       NaN  ...               nan              nan              nan   \n",
       "\n",
       "      BOWLING_T20s_Ave BOWLING_T20s_Econ BOWLING_T20s_SR BOWLING_T20s_4w  \\\n",
       "0                  nan               nan             nan             nan   \n",
       "1                  nan               nan             nan             nan   \n",
       "2                  nan               nan             nan             nan   \n",
       "3                  nan               nan             nan             nan   \n",
       "4                  nan               nan             nan             nan   \n",
       "...                ...               ...             ...             ...   \n",
       "90303              nan               nan             nan             nan   \n",
       "90304              nan               nan             nan             nan   \n",
       "90305              nan               nan             nan             nan   \n",
       "90306              nan               nan             nan             nan   \n",
       "90307              nan               nan             nan             nan   \n",
       "\n",
       "      BOWLING_T20s_5w  BOWLING_T20s_10      Age  \n",
       "0                 nan              nan  83.7644  \n",
       "1                 nan              nan  63.0438  \n",
       "2                 nan              nan   85.463  \n",
       "3                 nan              nan  80.2137  \n",
       "4                 nan              nan   49.863  \n",
       "...               ...              ...      ...  \n",
       "90303             nan              nan  88.2822  \n",
       "90304             nan              nan  91.9753  \n",
       "90305             nan              nan  81.6301  \n",
       "90306             nan              nan  80.4219  \n",
       "90307             nan              nan     28.2  \n",
       "\n",
       "[90308 rows x 181 columns]"
      ]
     },
     "execution_count": 61,
     "metadata": {},
     "output_type": "execute_result"
    }
   ],
   "source": [
    "main"
   ]
  }
 ],
 "metadata": {
  "kernelspec": {
   "display_name": "Python 3",
   "language": "python",
   "name": "python3"
  },
  "language_info": {
   "codemirror_mode": {
    "name": "ipython",
    "version": 3
   },
   "file_extension": ".py",
   "mimetype": "text/x-python",
   "name": "python",
   "nbconvert_exporter": "python",
   "pygments_lexer": "ipython3",
   "version": "3.7.6"
  }
 },
 "nbformat": 4,
 "nbformat_minor": 5
}
