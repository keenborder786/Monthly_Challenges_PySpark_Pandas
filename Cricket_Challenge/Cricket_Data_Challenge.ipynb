{
 "cells": [
  {
   "cell_type": "code",
   "execution_count": 219,
   "metadata": {},
   "outputs": [],
   "source": [
    "import pandas as pd\n",
    "import math\n",
    "import findspark\n",
    "findspark.init()\n",
    "from pyspark.sql import SparkSession\n",
    "from pyspark.sql.functions import *\n",
    "from pyspark.sql.types import *\n",
    "from datetime import datetime"
   ]
  },
  {
   "cell_type": "markdown",
   "metadata": {},
   "source": [
    "### Relevant Data Set can be found on : https://data.world/raghav333/cricket-players-espn"
   ]
  },
  {
   "cell_type": "markdown",
   "metadata": {},
   "source": [
    "## Reading Data"
   ]
  },
  {
   "cell_type": "markdown",
   "metadata": {},
   "source": [
    "#### PySpark"
   ]
  },
  {
   "cell_type": "code",
   "execution_count": 220,
   "metadata": {},
   "outputs": [],
   "source": [
    "spark=SparkSession.builder.appName('temp').getOrCreate()"
   ]
  },
  {
   "cell_type": "markdown",
   "metadata": {},
   "source": [
    "#### Pandas"
   ]
  },
  {
   "cell_type": "code",
   "execution_count": 221,
   "metadata": {},
   "outputs": [
    {
     "name": "stderr",
     "output_type": "stream",
     "text": [
      "E:\\ProgramData\\Anaconda3\\lib\\site-packages\\IPython\\core\\interactiveshell.py:3063: DtypeWarning: Columns (9,16,20,21,22,24,25,26,27,28,29,30,31,32,45,46,59,60,73,74,87,88,90,91,92,95,96,97,98,99,100,101,102) have mixed types.Specify dtype option on import or set low_memory=False.\n",
      "  interactivity=interactivity, compiler=compiler, result=result)\n"
     ]
    }
   ],
   "source": [
    "main=pd.read_csv(\"cricket_data.csv\")"
   ]
  },
  {
   "cell_type": "markdown",
   "metadata": {},
   "source": [
    "#### Converting Pandas Dtype Object to String Dtype in order to use the same dateframe as Spark DataFrame"
   ]
  },
  {
   "cell_type": "code",
   "execution_count": 222,
   "metadata": {},
   "outputs": [],
   "source": [
    "cols_dtypes=main.dtypes.values.tolist()\n",
    "columns=main.columns.values.tolist()\n",
    "for index,_ in enumerate(cols_dtypes):\n",
    "    if str(cols_dtypes[index])==\"object\":\n",
    "        main[columns[index]]=main[columns[index]].astype(str)"
   ]
  },
  {
   "cell_type": "code",
   "execution_count": 223,
   "metadata": {},
   "outputs": [],
   "source": [
    "main_spark=spark.createDataFrame(main.sample(frac=0.01))"
   ]
  },
  {
   "cell_type": "code",
   "execution_count": 224,
   "metadata": {},
   "outputs": [
    {
     "name": "stdout",
     "output_type": "stream",
     "text": [
      "root\n",
      " |-- ID: long (nullable = true)\n",
      " |-- NAME: string (nullable = true)\n",
      " |-- COUNTRY: string (nullable = true)\n",
      " |-- Full name: string (nullable = true)\n",
      " |-- Born: string (nullable = true)\n",
      " |-- Died: string (nullable = true)\n",
      " |-- Current age: string (nullable = true)\n",
      " |-- Major teams: string (nullable = true)\n",
      " |-- Education: string (nullable = true)\n",
      " |-- Height: string (nullable = true)\n",
      " |-- Nickname: double (nullable = true)\n",
      " |-- Playing role: string (nullable = true)\n",
      " |-- Batting style: string (nullable = true)\n",
      " |-- Bowling style: string (nullable = true)\n",
      " |-- Other: string (nullable = true)\n",
      " |-- Relation: string (nullable = true)\n",
      " |-- In a nutshell: string (nullable = true)\n",
      " |-- DESCRIPTION: string (nullable = true)\n",
      " |-- AWARDS: string (nullable = true)\n",
      " |-- BATTING_Tests_Mat: double (nullable = true)\n",
      " |-- BATTING_Tests_Inns: string (nullable = true)\n",
      " |-- BATTING_Tests_NO: string (nullable = true)\n",
      " |-- BATTING_Tests_Runs: string (nullable = true)\n",
      " |-- BATTING_Tests_HS: string (nullable = true)\n",
      " |-- BATTING_Tests_Ave: string (nullable = true)\n",
      " |-- BATTING_Tests_BF: string (nullable = true)\n",
      " |-- BATTING_Tests_SR: string (nullable = true)\n",
      " |-- BATTING_Tests_100: string (nullable = true)\n",
      " |-- BATTING_Tests_50: string (nullable = true)\n",
      " |-- BATTING_Tests_4s: string (nullable = true)\n",
      " |-- BATTING_Tests_6s: string (nullable = true)\n",
      " |-- BATTING_Tests_Ct: string (nullable = true)\n",
      " |-- BATTING_Tests_St: string (nullable = true)\n",
      " |-- BATTING_ODIs_Mat: double (nullable = true)\n",
      " |-- BATTING_ODIs_Inns: string (nullable = true)\n",
      " |-- BATTING_ODIs_NO: string (nullable = true)\n",
      " |-- BATTING_ODIs_Runs: string (nullable = true)\n",
      " |-- BATTING_ODIs_HS: string (nullable = true)\n",
      " |-- BATTING_ODIs_Ave: string (nullable = true)\n",
      " |-- BATTING_ODIs_BF: string (nullable = true)\n",
      " |-- BATTING_ODIs_SR: string (nullable = true)\n",
      " |-- BATTING_ODIs_100: string (nullable = true)\n",
      " |-- BATTING_ODIs_50: string (nullable = true)\n",
      " |-- BATTING_ODIs_4s: string (nullable = true)\n",
      " |-- BATTING_ODIs_6s: string (nullable = true)\n",
      " |-- BATTING_ODIs_Ct: string (nullable = true)\n",
      " |-- BATTING_ODIs_St: string (nullable = true)\n",
      " |-- BATTING_T20Is_Mat: double (nullable = true)\n",
      " |-- BATTING_T20Is_Inns: string (nullable = true)\n",
      " |-- BATTING_T20Is_NO: string (nullable = true)\n",
      " |-- BATTING_T20Is_Runs: string (nullable = true)\n",
      " |-- BATTING_T20Is_HS: string (nullable = true)\n",
      " |-- BATTING_T20Is_Ave: string (nullable = true)\n",
      " |-- BATTING_T20Is_BF: string (nullable = true)\n",
      " |-- BATTING_T20Is_SR: string (nullable = true)\n",
      " |-- BATTING_T20Is_100: string (nullable = true)\n",
      " |-- BATTING_T20Is_50: string (nullable = true)\n",
      " |-- BATTING_T20Is_4s: string (nullable = true)\n",
      " |-- BATTING_T20Is_6s: string (nullable = true)\n",
      " |-- BATTING_T20Is_Ct: string (nullable = true)\n",
      " |-- BATTING_T20Is_St: string (nullable = true)\n",
      " |-- BATTING_First-class_Mat: double (nullable = true)\n",
      " |-- BATTING_First-class_Inns: string (nullable = true)\n",
      " |-- BATTING_First-class_NO: string (nullable = true)\n",
      " |-- BATTING_First-class_Runs: string (nullable = true)\n",
      " |-- BATTING_First-class_HS: string (nullable = true)\n",
      " |-- BATTING_First-class_Ave: string (nullable = true)\n",
      " |-- BATTING_First-class_BF: string (nullable = true)\n",
      " |-- BATTING_First-class_SR: string (nullable = true)\n",
      " |-- BATTING_First-class_100: string (nullable = true)\n",
      " |-- BATTING_First-class_50: string (nullable = true)\n",
      " |-- BATTING_First-class_4s: string (nullable = true)\n",
      " |-- BATTING_First-class_6s: string (nullable = true)\n",
      " |-- BATTING_First-class_Ct: string (nullable = true)\n",
      " |-- BATTING_First-class_St: string (nullable = true)\n",
      " |-- BATTING_List A_Mat: double (nullable = true)\n",
      " |-- BATTING_List A_Inns: string (nullable = true)\n",
      " |-- BATTING_List A_NO: string (nullable = true)\n",
      " |-- BATTING_List A_Runs: string (nullable = true)\n",
      " |-- BATTING_List A_HS: string (nullable = true)\n",
      " |-- BATTING_List A_Ave: string (nullable = true)\n",
      " |-- BATTING_List A_BF: string (nullable = true)\n",
      " |-- BATTING_List A_SR: string (nullable = true)\n",
      " |-- BATTING_List A_100: string (nullable = true)\n",
      " |-- BATTING_List A_50: string (nullable = true)\n",
      " |-- BATTING_List A_4s: string (nullable = true)\n",
      " |-- BATTING_List A_6s: string (nullable = true)\n",
      " |-- BATTING_List A_Ct: string (nullable = true)\n",
      " |-- BATTING_List A_St: string (nullable = true)\n",
      " |-- BATTING_T20s_Mat: double (nullable = true)\n",
      " |-- BATTING_T20s_Inns: string (nullable = true)\n",
      " |-- BATTING_T20s_NO: string (nullable = true)\n",
      " |-- BATTING_T20s_Runs: string (nullable = true)\n",
      " |-- BATTING_T20s_HS: string (nullable = true)\n",
      " |-- BATTING_T20s_Ave: string (nullable = true)\n",
      " |-- BATTING_T20s_BF: string (nullable = true)\n",
      " |-- BATTING_T20s_SR: string (nullable = true)\n",
      " |-- BATTING_T20s_100: string (nullable = true)\n",
      " |-- BATTING_T20s_50: string (nullable = true)\n",
      " |-- BATTING_T20s_4s: string (nullable = true)\n",
      " |-- BATTING_T20s_6s: string (nullable = true)\n",
      " |-- BATTING_T20s_Ct: string (nullable = true)\n",
      " |-- BATTING_T20s_St: string (nullable = true)\n",
      " |-- BOWLING_Tests_Mat: double (nullable = true)\n",
      " |-- BOWLING_Tests_Inns: string (nullable = true)\n",
      " |-- BOWLING_Tests_Balls: string (nullable = true)\n",
      " |-- BOWLING_Tests_Runs: string (nullable = true)\n",
      " |-- BOWLING_Tests_Wkts: string (nullable = true)\n",
      " |-- BOWLING_Tests_BBI: string (nullable = true)\n",
      " |-- BOWLING_Tests_BBM: string (nullable = true)\n",
      " |-- BOWLING_Tests_Ave: string (nullable = true)\n",
      " |-- BOWLING_Tests_Econ: string (nullable = true)\n",
      " |-- BOWLING_Tests_SR: string (nullable = true)\n",
      " |-- BOWLING_Tests_4w: string (nullable = true)\n",
      " |-- BOWLING_Tests_5w: string (nullable = true)\n",
      " |-- BOWLING_Tests_10: string (nullable = true)\n",
      " |-- BOWLING_ODIs_Mat: double (nullable = true)\n",
      " |-- BOWLING_ODIs_Inns: string (nullable = true)\n",
      " |-- BOWLING_ODIs_Balls: string (nullable = true)\n",
      " |-- BOWLING_ODIs_Runs: string (nullable = true)\n",
      " |-- BOWLING_ODIs_Wkts: string (nullable = true)\n",
      " |-- BOWLING_ODIs_BBI: string (nullable = true)\n",
      " |-- BOWLING_ODIs_BBM: string (nullable = true)\n",
      " |-- BOWLING_ODIs_Ave: string (nullable = true)\n",
      " |-- BOWLING_ODIs_Econ: string (nullable = true)\n",
      " |-- BOWLING_ODIs_SR: string (nullable = true)\n",
      " |-- BOWLING_ODIs_4w: string (nullable = true)\n",
      " |-- BOWLING_ODIs_5w: string (nullable = true)\n",
      " |-- BOWLING_ODIs_10: string (nullable = true)\n",
      " |-- BOWLING_T20Is_Mat: double (nullable = true)\n",
      " |-- BOWLING_T20Is_Inns: string (nullable = true)\n",
      " |-- BOWLING_T20Is_Balls: string (nullable = true)\n",
      " |-- BOWLING_T20Is_Runs: string (nullable = true)\n",
      " |-- BOWLING_T20Is_Wkts: string (nullable = true)\n",
      " |-- BOWLING_T20Is_BBI: string (nullable = true)\n",
      " |-- BOWLING_T20Is_BBM: string (nullable = true)\n",
      " |-- BOWLING_T20Is_Ave: string (nullable = true)\n",
      " |-- BOWLING_T20Is_Econ: string (nullable = true)\n",
      " |-- BOWLING_T20Is_SR: string (nullable = true)\n",
      " |-- BOWLING_T20Is_4w: string (nullable = true)\n",
      " |-- BOWLING_T20Is_5w: string (nullable = true)\n",
      " |-- BOWLING_T20Is_10: string (nullable = true)\n",
      " |-- BOWLING_First-class_Mat: double (nullable = true)\n",
      " |-- BOWLING_First-class_Inns: string (nullable = true)\n",
      " |-- BOWLING_First-class_Balls: string (nullable = true)\n",
      " |-- BOWLING_First-class_Runs: string (nullable = true)\n",
      " |-- BOWLING_First-class_Wkts: string (nullable = true)\n",
      " |-- BOWLING_First-class_BBI: string (nullable = true)\n",
      " |-- BOWLING_First-class_BBM: string (nullable = true)\n",
      " |-- BOWLING_First-class_Ave: string (nullable = true)\n",
      " |-- BOWLING_First-class_Econ: string (nullable = true)\n",
      " |-- BOWLING_First-class_SR: string (nullable = true)\n",
      " |-- BOWLING_First-class_4w: string (nullable = true)\n",
      " |-- BOWLING_First-class_5w: string (nullable = true)\n",
      " |-- BOWLING_First-class_10: string (nullable = true)\n",
      " |-- BOWLING_List A_Mat: double (nullable = true)\n",
      " |-- BOWLING_List A_Inns: string (nullable = true)\n",
      " |-- BOWLING_List A_Balls: string (nullable = true)\n",
      " |-- BOWLING_List A_Runs: string (nullable = true)\n",
      " |-- BOWLING_List A_Wkts: string (nullable = true)\n",
      " |-- BOWLING_List A_BBI: string (nullable = true)\n",
      " |-- BOWLING_List A_BBM: string (nullable = true)\n",
      " |-- BOWLING_List A_Ave: string (nullable = true)\n",
      " |-- BOWLING_List A_Econ: string (nullable = true)\n",
      " |-- BOWLING_List A_SR: string (nullable = true)\n",
      " |-- BOWLING_List A_4w: string (nullable = true)\n",
      " |-- BOWLING_List A_5w: string (nullable = true)\n",
      " |-- BOWLING_List A_10: string (nullable = true)\n",
      " |-- BOWLING_T20s_Mat: double (nullable = true)\n",
      " |-- BOWLING_T20s_Inns: string (nullable = true)\n",
      " |-- BOWLING_T20s_Balls: string (nullable = true)\n",
      " |-- BOWLING_T20s_Runs: string (nullable = true)\n",
      " |-- BOWLING_T20s_Wkts: string (nullable = true)\n",
      " |-- BOWLING_T20s_BBI: string (nullable = true)\n",
      " |-- BOWLING_T20s_BBM: string (nullable = true)\n",
      " |-- BOWLING_T20s_Ave: string (nullable = true)\n",
      " |-- BOWLING_T20s_Econ: string (nullable = true)\n",
      " |-- BOWLING_T20s_SR: string (nullable = true)\n",
      " |-- BOWLING_T20s_4w: string (nullable = true)\n",
      " |-- BOWLING_T20s_5w: string (nullable = true)\n",
      " |-- BOWLING_T20s_10: string (nullable = true)\n",
      "\n"
     ]
    }
   ],
   "source": [
    "main_spark.printSchema()"
   ]
  },
  {
   "cell_type": "code",
   "execution_count": 58,
   "metadata": {},
   "outputs": [
    {
     "data": {
      "text/html": [
       "<div>\n",
       "<style scoped>\n",
       "    .dataframe tbody tr th:only-of-type {\n",
       "        vertical-align: middle;\n",
       "    }\n",
       "\n",
       "    .dataframe tbody tr th {\n",
       "        vertical-align: top;\n",
       "    }\n",
       "\n",
       "    .dataframe thead th {\n",
       "        text-align: right;\n",
       "    }\n",
       "</style>\n",
       "<table border=\"1\" class=\"dataframe\">\n",
       "  <thead>\n",
       "    <tr style=\"text-align: right;\">\n",
       "      <th></th>\n",
       "      <th>ID</th>\n",
       "      <th>NAME</th>\n",
       "      <th>COUNTRY</th>\n",
       "      <th>Full name</th>\n",
       "      <th>Born</th>\n",
       "      <th>Died</th>\n",
       "      <th>Current age</th>\n",
       "      <th>Major teams</th>\n",
       "      <th>Education</th>\n",
       "      <th>Height</th>\n",
       "      <th>...</th>\n",
       "      <th>BOWLING_T20s_Runs</th>\n",
       "      <th>BOWLING_T20s_Wkts</th>\n",
       "      <th>BOWLING_T20s_BBI</th>\n",
       "      <th>BOWLING_T20s_BBM</th>\n",
       "      <th>BOWLING_T20s_Ave</th>\n",
       "      <th>BOWLING_T20s_Econ</th>\n",
       "      <th>BOWLING_T20s_SR</th>\n",
       "      <th>BOWLING_T20s_4w</th>\n",
       "      <th>BOWLING_T20s_5w</th>\n",
       "      <th>BOWLING_T20s_10</th>\n",
       "    </tr>\n",
       "  </thead>\n",
       "  <tbody>\n",
       "    <tr>\n",
       "      <th>0</th>\n",
       "      <td>8772</td>\n",
       "      <td>Henry Arkell</td>\n",
       "      <td>England</td>\n",
       "      <td>Henry John Denham Arkell</td>\n",
       "      <td>\\nJune 26, 1898, Edmonton, Middlesex</td>\n",
       "      <td>March 12, 1982, Oxford (aged 83 years 259 days)</td>\n",
       "      <td>nan</td>\n",
       "      <td>Northamptonshire</td>\n",
       "      <td>nan</td>\n",
       "      <td>nan</td>\n",
       "      <td>...</td>\n",
       "      <td>nan</td>\n",
       "      <td>nan</td>\n",
       "      <td>nan</td>\n",
       "      <td>nan</td>\n",
       "      <td>nan</td>\n",
       "      <td>nan</td>\n",
       "      <td>nan</td>\n",
       "      <td>nan</td>\n",
       "      <td>nan</td>\n",
       "      <td>nan</td>\n",
       "    </tr>\n",
       "    <tr>\n",
       "      <th>1</th>\n",
       "      <td>532565</td>\n",
       "      <td>Richard Nyren</td>\n",
       "      <td>England</td>\n",
       "      <td>Richard Nyren</td>\n",
       "      <td>\\nApril 25, 1734, Eartham, Sussex</td>\n",
       "      <td>April 25, 1797, Lee or Leigh, Kent (aged 63 ye...</td>\n",
       "      <td>nan</td>\n",
       "      <td>Hampshire XI</td>\n",
       "      <td>nan</td>\n",
       "      <td>nan</td>\n",
       "      <td>...</td>\n",
       "      <td>nan</td>\n",
       "      <td>nan</td>\n",
       "      <td>nan</td>\n",
       "      <td>nan</td>\n",
       "      <td>nan</td>\n",
       "      <td>nan</td>\n",
       "      <td>nan</td>\n",
       "      <td>nan</td>\n",
       "      <td>nan</td>\n",
       "      <td>nan</td>\n",
       "    </tr>\n",
       "    <tr>\n",
       "      <th>2</th>\n",
       "      <td>16856</td>\n",
       "      <td>Sydney Maartensz</td>\n",
       "      <td>England</td>\n",
       "      <td>Sydney Gratien Adair Maartensz</td>\n",
       "      <td>\\nApril 14, 1882, Colombo, Ceylon</td>\n",
       "      <td>September 10, 1967, Pyrford, Woking, Surrey (a...</td>\n",
       "      <td>nan</td>\n",
       "      <td>Hampshire</td>\n",
       "      <td>nan</td>\n",
       "      <td>nan</td>\n",
       "      <td>...</td>\n",
       "      <td>nan</td>\n",
       "      <td>nan</td>\n",
       "      <td>nan</td>\n",
       "      <td>nan</td>\n",
       "      <td>nan</td>\n",
       "      <td>nan</td>\n",
       "      <td>nan</td>\n",
       "      <td>nan</td>\n",
       "      <td>nan</td>\n",
       "      <td>nan</td>\n",
       "    </tr>\n",
       "    <tr>\n",
       "      <th>3</th>\n",
       "      <td>16715</td>\n",
       "      <td>Brian Lander</td>\n",
       "      <td>England</td>\n",
       "      <td>Brian Richard Lander</td>\n",
       "      <td>\\nJanuary 9, 1942, Bishop Auckland, Co Durham</td>\n",
       "      <td>nan</td>\n",
       "      <td>77 years 73 days</td>\n",
       "      <td>['Durham,', 'Minor Counties']</td>\n",
       "      <td>nan</td>\n",
       "      <td>nan</td>\n",
       "      <td>...</td>\n",
       "      <td>nan</td>\n",
       "      <td>nan</td>\n",
       "      <td>nan</td>\n",
       "      <td>nan</td>\n",
       "      <td>nan</td>\n",
       "      <td>nan</td>\n",
       "      <td>nan</td>\n",
       "      <td>nan</td>\n",
       "      <td>nan</td>\n",
       "      <td>nan</td>\n",
       "    </tr>\n",
       "    <tr>\n",
       "      <th>4</th>\n",
       "      <td>15989</td>\n",
       "      <td>Derek Kenderdine</td>\n",
       "      <td>England</td>\n",
       "      <td>Derek Charles Kenderdine</td>\n",
       "      <td>\\nOctober 28, 1897, Chislehurst, Kent</td>\n",
       "      <td>August 28, 1947, Cambridge (aged 49 years 304 ...</td>\n",
       "      <td>nan</td>\n",
       "      <td>Royal Navy</td>\n",
       "      <td>nan</td>\n",
       "      <td>nan</td>\n",
       "      <td>...</td>\n",
       "      <td>nan</td>\n",
       "      <td>nan</td>\n",
       "      <td>nan</td>\n",
       "      <td>nan</td>\n",
       "      <td>nan</td>\n",
       "      <td>nan</td>\n",
       "      <td>nan</td>\n",
       "      <td>nan</td>\n",
       "      <td>nan</td>\n",
       "      <td>nan</td>\n",
       "    </tr>\n",
       "  </tbody>\n",
       "</table>\n",
       "<p>5 rows × 181 columns</p>\n",
       "</div>"
      ],
      "text/plain": [
       "       ID              NAME  COUNTRY                       Full name  \\\n",
       "0    8772      Henry Arkell  England        Henry John Denham Arkell   \n",
       "1  532565     Richard Nyren  England                   Richard Nyren   \n",
       "2   16856  Sydney Maartensz  England  Sydney Gratien Adair Maartensz   \n",
       "3   16715      Brian Lander  England            Brian Richard Lander   \n",
       "4   15989  Derek Kenderdine  England        Derek Charles Kenderdine   \n",
       "\n",
       "                                             Born  \\\n",
       "0           \\nJune 26, 1898, Edmonton, Middlesex    \n",
       "1              \\nApril 25, 1734, Eartham, Sussex    \n",
       "2              \\nApril 14, 1882, Colombo, Ceylon    \n",
       "3  \\nJanuary 9, 1942, Bishop Auckland, Co Durham    \n",
       "4          \\nOctober 28, 1897, Chislehurst, Kent    \n",
       "\n",
       "                                                Died       Current age  \\\n",
       "0   March 12, 1982, Oxford (aged 83 years 259 days)                nan   \n",
       "1  April 25, 1797, Lee or Leigh, Kent (aged 63 ye...               nan   \n",
       "2  September 10, 1967, Pyrford, Woking, Surrey (a...               nan   \n",
       "3                                                nan  77 years 73 days   \n",
       "4  August 28, 1947, Cambridge (aged 49 years 304 ...               nan   \n",
       "\n",
       "                     Major teams Education Height  ...  BOWLING_T20s_Runs  \\\n",
       "0               Northamptonshire       nan    nan  ...                nan   \n",
       "1                   Hampshire XI       nan    nan  ...                nan   \n",
       "2                      Hampshire       nan    nan  ...                nan   \n",
       "3  ['Durham,', 'Minor Counties']       nan    nan  ...                nan   \n",
       "4                     Royal Navy       nan    nan  ...                nan   \n",
       "\n",
       "  BOWLING_T20s_Wkts BOWLING_T20s_BBI BOWLING_T20s_BBM BOWLING_T20s_Ave  \\\n",
       "0               nan              nan              nan              nan   \n",
       "1               nan              nan              nan              nan   \n",
       "2               nan              nan              nan              nan   \n",
       "3               nan              nan              nan              nan   \n",
       "4               nan              nan              nan              nan   \n",
       "\n",
       "  BOWLING_T20s_Econ BOWLING_T20s_SR BOWLING_T20s_4w BOWLING_T20s_5w  \\\n",
       "0               nan             nan             nan             nan   \n",
       "1               nan             nan             nan             nan   \n",
       "2               nan             nan             nan             nan   \n",
       "3               nan             nan             nan             nan   \n",
       "4               nan             nan             nan             nan   \n",
       "\n",
       "   BOWLING_T20s_10  \n",
       "0              nan  \n",
       "1              nan  \n",
       "2              nan  \n",
       "3              nan  \n",
       "4              nan  \n",
       "\n",
       "[5 rows x 181 columns]"
      ]
     },
     "execution_count": 58,
     "metadata": {},
     "output_type": "execute_result"
    }
   ],
   "source": [
    "main.head()"
   ]
  },
  {
   "cell_type": "code",
   "execution_count": 59,
   "metadata": {},
   "outputs": [
    {
     "data": {
      "text/plain": [
       "['ID',\n",
       " 'NAME',\n",
       " 'COUNTRY',\n",
       " 'Full name',\n",
       " 'Born',\n",
       " 'Died',\n",
       " 'Current age',\n",
       " 'Major teams',\n",
       " 'Education',\n",
       " 'Height',\n",
       " 'Nickname',\n",
       " 'Playing role',\n",
       " 'Batting style',\n",
       " 'Bowling style',\n",
       " 'Other',\n",
       " 'Relation',\n",
       " 'In a nutshell',\n",
       " 'DESCRIPTION',\n",
       " 'AWARDS',\n",
       " 'BATTING_Tests_Mat',\n",
       " 'BATTING_Tests_Inns',\n",
       " 'BATTING_Tests_NO',\n",
       " 'BATTING_Tests_Runs',\n",
       " 'BATTING_Tests_HS',\n",
       " 'BATTING_Tests_Ave',\n",
       " 'BATTING_Tests_BF',\n",
       " 'BATTING_Tests_SR',\n",
       " 'BATTING_Tests_100',\n",
       " 'BATTING_Tests_50',\n",
       " 'BATTING_Tests_4s',\n",
       " 'BATTING_Tests_6s',\n",
       " 'BATTING_Tests_Ct',\n",
       " 'BATTING_Tests_St',\n",
       " 'BATTING_ODIs_Mat',\n",
       " 'BATTING_ODIs_Inns',\n",
       " 'BATTING_ODIs_NO',\n",
       " 'BATTING_ODIs_Runs',\n",
       " 'BATTING_ODIs_HS',\n",
       " 'BATTING_ODIs_Ave',\n",
       " 'BATTING_ODIs_BF',\n",
       " 'BATTING_ODIs_SR',\n",
       " 'BATTING_ODIs_100',\n",
       " 'BATTING_ODIs_50',\n",
       " 'BATTING_ODIs_4s',\n",
       " 'BATTING_ODIs_6s',\n",
       " 'BATTING_ODIs_Ct',\n",
       " 'BATTING_ODIs_St',\n",
       " 'BATTING_T20Is_Mat',\n",
       " 'BATTING_T20Is_Inns',\n",
       " 'BATTING_T20Is_NO',\n",
       " 'BATTING_T20Is_Runs',\n",
       " 'BATTING_T20Is_HS',\n",
       " 'BATTING_T20Is_Ave',\n",
       " 'BATTING_T20Is_BF',\n",
       " 'BATTING_T20Is_SR',\n",
       " 'BATTING_T20Is_100',\n",
       " 'BATTING_T20Is_50',\n",
       " 'BATTING_T20Is_4s',\n",
       " 'BATTING_T20Is_6s',\n",
       " 'BATTING_T20Is_Ct',\n",
       " 'BATTING_T20Is_St',\n",
       " 'BATTING_First-class_Mat',\n",
       " 'BATTING_First-class_Inns',\n",
       " 'BATTING_First-class_NO',\n",
       " 'BATTING_First-class_Runs',\n",
       " 'BATTING_First-class_HS',\n",
       " 'BATTING_First-class_Ave',\n",
       " 'BATTING_First-class_BF',\n",
       " 'BATTING_First-class_SR',\n",
       " 'BATTING_First-class_100',\n",
       " 'BATTING_First-class_50',\n",
       " 'BATTING_First-class_4s',\n",
       " 'BATTING_First-class_6s',\n",
       " 'BATTING_First-class_Ct',\n",
       " 'BATTING_First-class_St',\n",
       " 'BATTING_List A_Mat',\n",
       " 'BATTING_List A_Inns',\n",
       " 'BATTING_List A_NO',\n",
       " 'BATTING_List A_Runs',\n",
       " 'BATTING_List A_HS',\n",
       " 'BATTING_List A_Ave',\n",
       " 'BATTING_List A_BF',\n",
       " 'BATTING_List A_SR',\n",
       " 'BATTING_List A_100',\n",
       " 'BATTING_List A_50',\n",
       " 'BATTING_List A_4s',\n",
       " 'BATTING_List A_6s',\n",
       " 'BATTING_List A_Ct',\n",
       " 'BATTING_List A_St',\n",
       " 'BATTING_T20s_Mat',\n",
       " 'BATTING_T20s_Inns',\n",
       " 'BATTING_T20s_NO',\n",
       " 'BATTING_T20s_Runs',\n",
       " 'BATTING_T20s_HS',\n",
       " 'BATTING_T20s_Ave',\n",
       " 'BATTING_T20s_BF',\n",
       " 'BATTING_T20s_SR',\n",
       " 'BATTING_T20s_100',\n",
       " 'BATTING_T20s_50',\n",
       " 'BATTING_T20s_4s',\n",
       " 'BATTING_T20s_6s',\n",
       " 'BATTING_T20s_Ct',\n",
       " 'BATTING_T20s_St',\n",
       " 'BOWLING_Tests_Mat',\n",
       " 'BOWLING_Tests_Inns',\n",
       " 'BOWLING_Tests_Balls',\n",
       " 'BOWLING_Tests_Runs',\n",
       " 'BOWLING_Tests_Wkts',\n",
       " 'BOWLING_Tests_BBI',\n",
       " 'BOWLING_Tests_BBM',\n",
       " 'BOWLING_Tests_Ave',\n",
       " 'BOWLING_Tests_Econ',\n",
       " 'BOWLING_Tests_SR',\n",
       " 'BOWLING_Tests_4w',\n",
       " 'BOWLING_Tests_5w',\n",
       " 'BOWLING_Tests_10',\n",
       " 'BOWLING_ODIs_Mat',\n",
       " 'BOWLING_ODIs_Inns',\n",
       " 'BOWLING_ODIs_Balls',\n",
       " 'BOWLING_ODIs_Runs',\n",
       " 'BOWLING_ODIs_Wkts',\n",
       " 'BOWLING_ODIs_BBI',\n",
       " 'BOWLING_ODIs_BBM',\n",
       " 'BOWLING_ODIs_Ave',\n",
       " 'BOWLING_ODIs_Econ',\n",
       " 'BOWLING_ODIs_SR',\n",
       " 'BOWLING_ODIs_4w',\n",
       " 'BOWLING_ODIs_5w',\n",
       " 'BOWLING_ODIs_10',\n",
       " 'BOWLING_T20Is_Mat',\n",
       " 'BOWLING_T20Is_Inns',\n",
       " 'BOWLING_T20Is_Balls',\n",
       " 'BOWLING_T20Is_Runs',\n",
       " 'BOWLING_T20Is_Wkts',\n",
       " 'BOWLING_T20Is_BBI',\n",
       " 'BOWLING_T20Is_BBM',\n",
       " 'BOWLING_T20Is_Ave',\n",
       " 'BOWLING_T20Is_Econ',\n",
       " 'BOWLING_T20Is_SR',\n",
       " 'BOWLING_T20Is_4w',\n",
       " 'BOWLING_T20Is_5w',\n",
       " 'BOWLING_T20Is_10',\n",
       " 'BOWLING_First-class_Mat',\n",
       " 'BOWLING_First-class_Inns',\n",
       " 'BOWLING_First-class_Balls',\n",
       " 'BOWLING_First-class_Runs',\n",
       " 'BOWLING_First-class_Wkts',\n",
       " 'BOWLING_First-class_BBI',\n",
       " 'BOWLING_First-class_BBM',\n",
       " 'BOWLING_First-class_Ave',\n",
       " 'BOWLING_First-class_Econ',\n",
       " 'BOWLING_First-class_SR',\n",
       " 'BOWLING_First-class_4w',\n",
       " 'BOWLING_First-class_5w',\n",
       " 'BOWLING_First-class_10',\n",
       " 'BOWLING_List A_Mat',\n",
       " 'BOWLING_List A_Inns',\n",
       " 'BOWLING_List A_Balls',\n",
       " 'BOWLING_List A_Runs',\n",
       " 'BOWLING_List A_Wkts',\n",
       " 'BOWLING_List A_BBI',\n",
       " 'BOWLING_List A_BBM',\n",
       " 'BOWLING_List A_Ave',\n",
       " 'BOWLING_List A_Econ',\n",
       " 'BOWLING_List A_SR',\n",
       " 'BOWLING_List A_4w',\n",
       " 'BOWLING_List A_5w',\n",
       " 'BOWLING_List A_10',\n",
       " 'BOWLING_T20s_Mat',\n",
       " 'BOWLING_T20s_Inns',\n",
       " 'BOWLING_T20s_Balls',\n",
       " 'BOWLING_T20s_Runs',\n",
       " 'BOWLING_T20s_Wkts',\n",
       " 'BOWLING_T20s_BBI',\n",
       " 'BOWLING_T20s_BBM',\n",
       " 'BOWLING_T20s_Ave',\n",
       " 'BOWLING_T20s_Econ',\n",
       " 'BOWLING_T20s_SR',\n",
       " 'BOWLING_T20s_4w',\n",
       " 'BOWLING_T20s_5w',\n",
       " 'BOWLING_T20s_10']"
      ]
     },
     "execution_count": 59,
     "metadata": {},
     "output_type": "execute_result"
    }
   ],
   "source": [
    "main.columns.tolist()"
   ]
  },
  {
   "cell_type": "code",
   "execution_count": 60,
   "metadata": {},
   "outputs": [
    {
     "data": {
      "text/plain": [
       "0"
      ]
     },
     "execution_count": 60,
     "metadata": {},
     "output_type": "execute_result"
    }
   ],
   "source": [
    "main['In a nutshell'].isnull().sum()"
   ]
  },
  {
   "cell_type": "code",
   "execution_count": null,
   "id": "d5d7abf9",
   "metadata": {},
   "outputs": [],
   "source": []
  },
  {
   "cell_type": "markdown",
   "metadata": {},
   "source": [
    "## Dropping those columns which have a high propotion of NULL Values"
   ]
  },
  {
   "cell_type": "markdown",
   "metadata": {},
   "source": [
    "#### Pyspark"
   ]
  },
  {
   "cell_type": "code",
   "execution_count": 61,
   "metadata": {},
   "outputs": [],
   "source": [
    "null_instances=main.isnull().sum()"
   ]
  },
  {
   "cell_type": "code",
   "execution_count": 62,
   "metadata": {},
   "outputs": [],
   "source": [
    "null_instances_spark=main_spark.select([count(when(isnan(c) | col(c).isNull(), c)).alias(c) for c in main_spark.columns])"
   ]
  },
  {
   "cell_type": "code",
   "execution_count": 63,
   "metadata": {},
   "outputs": [
    {
     "name": "stdout",
     "output_type": "stream",
     "text": [
      "+---+----+-------+---------+----+-----+-----------+-----------+---------+------+--------+------------+-------------+-------------+-----+--------+-------------+-----------+------+-----------------+------------------+----------------+------------------+----------------+-----------------+----------------+----------------+-----------------+----------------+----------------+----------------+----------------+----------------+----------------+-----------------+---------------+-----------------+---------------+----------------+---------------+---------------+----------------+---------------+---------------+---------------+---------------+---------------+-----------------+------------------+----------------+------------------+----------------+-----------------+----------------+----------------+-----------------+----------------+----------------+----------------+----------------+----------------+-----------------------+------------------------+----------------------+------------------------+----------------------+-----------------------+----------------------+----------------------+-----------------------+----------------------+----------------------+----------------------+----------------------+----------------------+------------------+-------------------+-----------------+-------------------+-----------------+------------------+-----------------+-----------------+------------------+-----------------+-----------------+-----------------+-----------------+-----------------+----------------+-----------------+---------------+-----------------+---------------+----------------+---------------+---------------+----------------+---------------+---------------+---------------+---------------+---------------+-----------------+------------------+-------------------+------------------+------------------+-----------------+-----------------+-----------------+------------------+----------------+----------------+----------------+----------------+----------------+-----------------+------------------+-----------------+-----------------+----------------+----------------+----------------+-----------------+---------------+---------------+---------------+---------------+-----------------+------------------+-------------------+------------------+------------------+-----------------+-----------------+-----------------+------------------+----------------+----------------+----------------+----------------+-----------------------+------------------------+-------------------------+------------------------+------------------------+-----------------------+-----------------------+-----------------------+------------------------+----------------------+----------------------+----------------------+----------------------+------------------+-------------------+--------------------+-------------------+-------------------+------------------+------------------+------------------+-------------------+-----------------+-----------------+-----------------+-----------------+----------------+-----------------+------------------+-----------------+-----------------+----------------+----------------+----------------+-----------------+---------------+---------------+---------------+---------------+\n",
      "| ID|NAME|COUNTRY|Full name|Born| Died|Current age|Major teams|Education|Height|Nickname|Playing role|Batting style|Bowling style|Other|Relation|In a nutshell|DESCRIPTION|AWARDS|BATTING_Tests_Mat|BATTING_Tests_Inns|BATTING_Tests_NO|BATTING_Tests_Runs|BATTING_Tests_HS|BATTING_Tests_Ave|BATTING_Tests_BF|BATTING_Tests_SR|BATTING_Tests_100|BATTING_Tests_50|BATTING_Tests_4s|BATTING_Tests_6s|BATTING_Tests_Ct|BATTING_Tests_St|BATTING_ODIs_Mat|BATTING_ODIs_Inns|BATTING_ODIs_NO|BATTING_ODIs_Runs|BATTING_ODIs_HS|BATTING_ODIs_Ave|BATTING_ODIs_BF|BATTING_ODIs_SR|BATTING_ODIs_100|BATTING_ODIs_50|BATTING_ODIs_4s|BATTING_ODIs_6s|BATTING_ODIs_Ct|BATTING_ODIs_St|BATTING_T20Is_Mat|BATTING_T20Is_Inns|BATTING_T20Is_NO|BATTING_T20Is_Runs|BATTING_T20Is_HS|BATTING_T20Is_Ave|BATTING_T20Is_BF|BATTING_T20Is_SR|BATTING_T20Is_100|BATTING_T20Is_50|BATTING_T20Is_4s|BATTING_T20Is_6s|BATTING_T20Is_Ct|BATTING_T20Is_St|BATTING_First-class_Mat|BATTING_First-class_Inns|BATTING_First-class_NO|BATTING_First-class_Runs|BATTING_First-class_HS|BATTING_First-class_Ave|BATTING_First-class_BF|BATTING_First-class_SR|BATTING_First-class_100|BATTING_First-class_50|BATTING_First-class_4s|BATTING_First-class_6s|BATTING_First-class_Ct|BATTING_First-class_St|BATTING_List A_Mat|BATTING_List A_Inns|BATTING_List A_NO|BATTING_List A_Runs|BATTING_List A_HS|BATTING_List A_Ave|BATTING_List A_BF|BATTING_List A_SR|BATTING_List A_100|BATTING_List A_50|BATTING_List A_4s|BATTING_List A_6s|BATTING_List A_Ct|BATTING_List A_St|BATTING_T20s_Mat|BATTING_T20s_Inns|BATTING_T20s_NO|BATTING_T20s_Runs|BATTING_T20s_HS|BATTING_T20s_Ave|BATTING_T20s_BF|BATTING_T20s_SR|BATTING_T20s_100|BATTING_T20s_50|BATTING_T20s_4s|BATTING_T20s_6s|BATTING_T20s_Ct|BATTING_T20s_St|BOWLING_Tests_Mat|BOWLING_Tests_Inns|BOWLING_Tests_Balls|BOWLING_Tests_Runs|BOWLING_Tests_Wkts|BOWLING_Tests_BBI|BOWLING_Tests_BBM|BOWLING_Tests_Ave|BOWLING_Tests_Econ|BOWLING_Tests_SR|BOWLING_Tests_4w|BOWLING_Tests_5w|BOWLING_Tests_10|BOWLING_ODIs_Mat|BOWLING_ODIs_Inns|BOWLING_ODIs_Balls|BOWLING_ODIs_Runs|BOWLING_ODIs_Wkts|BOWLING_ODIs_BBI|BOWLING_ODIs_BBM|BOWLING_ODIs_Ave|BOWLING_ODIs_Econ|BOWLING_ODIs_SR|BOWLING_ODIs_4w|BOWLING_ODIs_5w|BOWLING_ODIs_10|BOWLING_T20Is_Mat|BOWLING_T20Is_Inns|BOWLING_T20Is_Balls|BOWLING_T20Is_Runs|BOWLING_T20Is_Wkts|BOWLING_T20Is_BBI|BOWLING_T20Is_BBM|BOWLING_T20Is_Ave|BOWLING_T20Is_Econ|BOWLING_T20Is_SR|BOWLING_T20Is_4w|BOWLING_T20Is_5w|BOWLING_T20Is_10|BOWLING_First-class_Mat|BOWLING_First-class_Inns|BOWLING_First-class_Balls|BOWLING_First-class_Runs|BOWLING_First-class_Wkts|BOWLING_First-class_BBI|BOWLING_First-class_BBM|BOWLING_First-class_Ave|BOWLING_First-class_Econ|BOWLING_First-class_SR|BOWLING_First-class_4w|BOWLING_First-class_5w|BOWLING_First-class_10|BOWLING_List A_Mat|BOWLING_List A_Inns|BOWLING_List A_Balls|BOWLING_List A_Runs|BOWLING_List A_Wkts|BOWLING_List A_BBI|BOWLING_List A_BBM|BOWLING_List A_Ave|BOWLING_List A_Econ|BOWLING_List A_SR|BOWLING_List A_4w|BOWLING_List A_5w|BOWLING_List A_10|BOWLING_T20s_Mat|BOWLING_T20s_Inns|BOWLING_T20s_Balls|BOWLING_T20s_Runs|BOWLING_T20s_Wkts|BOWLING_T20s_BBI|BOWLING_T20s_BBM|BOWLING_T20s_Ave|BOWLING_T20s_Econ|BOWLING_T20s_SR|BOWLING_T20s_4w|BOWLING_T20s_5w|BOWLING_T20s_10|\n",
      "+---+----+-------+---------+----+-----+-----------+-----------+---------+------+--------+------------+-------------+-------------+-----+--------+-------------+-----------+------+-----------------+------------------+----------------+------------------+----------------+-----------------+----------------+----------------+-----------------+----------------+----------------+----------------+----------------+----------------+----------------+-----------------+---------------+-----------------+---------------+----------------+---------------+---------------+----------------+---------------+---------------+---------------+---------------+---------------+-----------------+------------------+----------------+------------------+----------------+-----------------+----------------+----------------+-----------------+----------------+----------------+----------------+----------------+----------------+-----------------------+------------------------+----------------------+------------------------+----------------------+-----------------------+----------------------+----------------------+-----------------------+----------------------+----------------------+----------------------+----------------------+----------------------+------------------+-------------------+-----------------+-------------------+-----------------+------------------+-----------------+-----------------+------------------+-----------------+-----------------+-----------------+-----------------+-----------------+----------------+-----------------+---------------+-----------------+---------------+----------------+---------------+---------------+----------------+---------------+---------------+---------------+---------------+---------------+-----------------+------------------+-------------------+------------------+------------------+-----------------+-----------------+-----------------+------------------+----------------+----------------+----------------+----------------+----------------+-----------------+------------------+-----------------+-----------------+----------------+----------------+----------------+-----------------+---------------+---------------+---------------+---------------+-----------------+------------------+-------------------+------------------+------------------+-----------------+-----------------+-----------------+------------------+----------------+----------------+----------------+----------------+-----------------------+------------------------+-------------------------+------------------------+------------------------+-----------------------+-----------------------+-----------------------+------------------------+----------------------+----------------------+----------------------+----------------------+------------------+-------------------+--------------------+-------------------+-------------------+------------------+------------------+------------------+-------------------+-----------------+-----------------+-----------------+-----------------+----------------+-----------------+------------------+-----------------+-----------------+----------------+----------------+----------------+-----------------+---------------+---------------+---------------+---------------+\n",
      "|  0|   1|      0|        1|   0|18328|      10494|       1542|    20979| 22099|   22577|       21672|         8238|        11551|20971|   21432|        22565|          0|     0|            21689|             21689|           21689|             21689|           21689|            21689|           22175|           22175|            21689|           21689|           22081|           21800|           21689|           21689|           21659|            21659|          21659|            21659|          21659|           21659|          21801|          21801|           21659|          21659|          21852|          21846|          21659|          21659|            22047|             22047|           22047|             22047|           22047|            22047|           22050|           22050|            22047|           22047|           22050|           22050|           22047|           22047|                  11257|                   11257|                 11257|                   11257|                 11257|                  11257|                 20464|                 20464|                  11257|                 11816|                 20087|                 20085|                 11257|                 11257|             17641|              17641|            17641|              17641|            17641|             17641|            20381|            20381|             17641|            17641|            20440|            20440|            17641|            17641|           20738|            20738|          20738|            20738|          20738|           20738|          20743|          20743|           20738|          20738|          20743|          20743|          20738|          20738|            21689|             21689|              21689|             21689|             21689|            21689|            21689|            21689|             21689|           21689|           21689|           21689|           21689|           21659|            21659|             21659|            21659|            21659|           21659|           21659|           21659|            21659|          21659|          21659|          21659|          21659|            22047|             22047|              22047|             22047|             22047|            22047|            22047|            22047|             22047|           22047|           22047|           22047|           22047|                  11257|                   20610|                    13404|                   11310|                   11257|                  11257|                  16210|                  11357|                   13442|                 12911|                 15899|                 11257|                 11257|             17641|              20749|               17645|              17641|              17641|             17641|             17641|             17641|              17650|            17652|            17641|            17641|            17641|           20738|            20738|             20738|            20738|            20738|           20738|           20738|           20738|            20738|          20738|          20738|          20738|          20738|\n",
      "+---+----+-------+---------+----+-----+-----------+-----------+---------+------+--------+------------+-------------+-------------+-----+--------+-------------+-----------+------+-----------------+------------------+----------------+------------------+----------------+-----------------+----------------+----------------+-----------------+----------------+----------------+----------------+----------------+----------------+----------------+-----------------+---------------+-----------------+---------------+----------------+---------------+---------------+----------------+---------------+---------------+---------------+---------------+---------------+-----------------+------------------+----------------+------------------+----------------+-----------------+----------------+----------------+-----------------+----------------+----------------+----------------+----------------+----------------+-----------------------+------------------------+----------------------+------------------------+----------------------+-----------------------+----------------------+----------------------+-----------------------+----------------------+----------------------+----------------------+----------------------+----------------------+------------------+-------------------+-----------------+-------------------+-----------------+------------------+-----------------+-----------------+------------------+-----------------+-----------------+-----------------+-----------------+-----------------+----------------+-----------------+---------------+-----------------+---------------+----------------+---------------+---------------+----------------+---------------+---------------+---------------+---------------+---------------+-----------------+------------------+-------------------+------------------+------------------+-----------------+-----------------+-----------------+------------------+----------------+----------------+----------------+----------------+----------------+-----------------+------------------+-----------------+-----------------+----------------+----------------+----------------+-----------------+---------------+---------------+---------------+---------------+-----------------+------------------+-------------------+------------------+------------------+-----------------+-----------------+-----------------+------------------+----------------+----------------+----------------+----------------+-----------------------+------------------------+-------------------------+------------------------+------------------------+-----------------------+-----------------------+-----------------------+------------------------+----------------------+----------------------+----------------------+----------------------+------------------+-------------------+--------------------+-------------------+-------------------+------------------+------------------+------------------+-------------------+-----------------+-----------------+-----------------+-----------------+----------------+-----------------+------------------+-----------------+-----------------+----------------+----------------+----------------+-----------------+---------------+---------------+---------------+---------------+\n",
      "\n"
     ]
    }
   ],
   "source": [
    "null_instances_spark.show(1)"
   ]
  },
  {
   "cell_type": "code",
   "execution_count": 64,
   "metadata": {},
   "outputs": [],
   "source": [
    "null_instances_spark_rdd=null_instances_spark.rdd"
   ]
  },
  {
   "cell_type": "code",
   "execution_count": 65,
   "metadata": {},
   "outputs": [
    {
     "data": {
      "text/plain": [
       "[Row(ID=0, NAME=1, COUNTRY=0, Full name=1, Born=0, Died=18328, Current age=10494, Major teams=1542, Education=20979, Height=22099, Nickname=22577, Playing role=21672, Batting style=8238, Bowling style=11551, Other=20971, Relation=21432, In a nutshell=22565, DESCRIPTION=0, AWARDS=0, BATTING_Tests_Mat=21689, BATTING_Tests_Inns=21689, BATTING_Tests_NO=21689, BATTING_Tests_Runs=21689, BATTING_Tests_HS=21689, BATTING_Tests_Ave=21689, BATTING_Tests_BF=22175, BATTING_Tests_SR=22175, BATTING_Tests_100=21689, BATTING_Tests_50=21689, BATTING_Tests_4s=22081, BATTING_Tests_6s=21800, BATTING_Tests_Ct=21689, BATTING_Tests_St=21689, BATTING_ODIs_Mat=21659, BATTING_ODIs_Inns=21659, BATTING_ODIs_NO=21659, BATTING_ODIs_Runs=21659, BATTING_ODIs_HS=21659, BATTING_ODIs_Ave=21659, BATTING_ODIs_BF=21801, BATTING_ODIs_SR=21801, BATTING_ODIs_100=21659, BATTING_ODIs_50=21659, BATTING_ODIs_4s=21852, BATTING_ODIs_6s=21846, BATTING_ODIs_Ct=21659, BATTING_ODIs_St=21659, BATTING_T20Is_Mat=22047, BATTING_T20Is_Inns=22047, BATTING_T20Is_NO=22047, BATTING_T20Is_Runs=22047, BATTING_T20Is_HS=22047, BATTING_T20Is_Ave=22047, BATTING_T20Is_BF=22050, BATTING_T20Is_SR=22050, BATTING_T20Is_100=22047, BATTING_T20Is_50=22047, BATTING_T20Is_4s=22050, BATTING_T20Is_6s=22050, BATTING_T20Is_Ct=22047, BATTING_T20Is_St=22047, BATTING_First-class_Mat=11257, BATTING_First-class_Inns=11257, BATTING_First-class_NO=11257, BATTING_First-class_Runs=11257, BATTING_First-class_HS=11257, BATTING_First-class_Ave=11257, BATTING_First-class_BF=20464, BATTING_First-class_SR=20464, BATTING_First-class_100=11257, BATTING_First-class_50=11816, BATTING_First-class_4s=20087, BATTING_First-class_6s=20085, BATTING_First-class_Ct=11257, BATTING_First-class_St=11257, BATTING_List A_Mat=17641, BATTING_List A_Inns=17641, BATTING_List A_NO=17641, BATTING_List A_Runs=17641, BATTING_List A_HS=17641, BATTING_List A_Ave=17641, BATTING_List A_BF=20381, BATTING_List A_SR=20381, BATTING_List A_100=17641, BATTING_List A_50=17641, BATTING_List A_4s=20440, BATTING_List A_6s=20440, BATTING_List A_Ct=17641, BATTING_List A_St=17641, BATTING_T20s_Mat=20738, BATTING_T20s_Inns=20738, BATTING_T20s_NO=20738, BATTING_T20s_Runs=20738, BATTING_T20s_HS=20738, BATTING_T20s_Ave=20738, BATTING_T20s_BF=20743, BATTING_T20s_SR=20743, BATTING_T20s_100=20738, BATTING_T20s_50=20738, BATTING_T20s_4s=20743, BATTING_T20s_6s=20743, BATTING_T20s_Ct=20738, BATTING_T20s_St=20738, BOWLING_Tests_Mat=21689, BOWLING_Tests_Inns=21689, BOWLING_Tests_Balls=21689, BOWLING_Tests_Runs=21689, BOWLING_Tests_Wkts=21689, BOWLING_Tests_BBI=21689, BOWLING_Tests_BBM=21689, BOWLING_Tests_Ave=21689, BOWLING_Tests_Econ=21689, BOWLING_Tests_SR=21689, BOWLING_Tests_4w=21689, BOWLING_Tests_5w=21689, BOWLING_Tests_10=21689, BOWLING_ODIs_Mat=21659, BOWLING_ODIs_Inns=21659, BOWLING_ODIs_Balls=21659, BOWLING_ODIs_Runs=21659, BOWLING_ODIs_Wkts=21659, BOWLING_ODIs_BBI=21659, BOWLING_ODIs_BBM=21659, BOWLING_ODIs_Ave=21659, BOWLING_ODIs_Econ=21659, BOWLING_ODIs_SR=21659, BOWLING_ODIs_4w=21659, BOWLING_ODIs_5w=21659, BOWLING_ODIs_10=21659, BOWLING_T20Is_Mat=22047, BOWLING_T20Is_Inns=22047, BOWLING_T20Is_Balls=22047, BOWLING_T20Is_Runs=22047, BOWLING_T20Is_Wkts=22047, BOWLING_T20Is_BBI=22047, BOWLING_T20Is_BBM=22047, BOWLING_T20Is_Ave=22047, BOWLING_T20Is_Econ=22047, BOWLING_T20Is_SR=22047, BOWLING_T20Is_4w=22047, BOWLING_T20Is_5w=22047, BOWLING_T20Is_10=22047, BOWLING_First-class_Mat=11257, BOWLING_First-class_Inns=20610, BOWLING_First-class_Balls=13404, BOWLING_First-class_Runs=11310, BOWLING_First-class_Wkts=11257, BOWLING_First-class_BBI=11257, BOWLING_First-class_BBM=16210, BOWLING_First-class_Ave=11357, BOWLING_First-class_Econ=13442, BOWLING_First-class_SR=12911, BOWLING_First-class_4w=15899, BOWLING_First-class_5w=11257, BOWLING_First-class_10=11257, BOWLING_List A_Mat=17641, BOWLING_List A_Inns=20749, BOWLING_List A_Balls=17645, BOWLING_List A_Runs=17641, BOWLING_List A_Wkts=17641, BOWLING_List A_BBI=17641, BOWLING_List A_BBM=17641, BOWLING_List A_Ave=17641, BOWLING_List A_Econ=17650, BOWLING_List A_SR=17652, BOWLING_List A_4w=17641, BOWLING_List A_5w=17641, BOWLING_List A_10=17641, BOWLING_T20s_Mat=20738, BOWLING_T20s_Inns=20738, BOWLING_T20s_Balls=20738, BOWLING_T20s_Runs=20738, BOWLING_T20s_Wkts=20738, BOWLING_T20s_BBI=20738, BOWLING_T20s_BBM=20738, BOWLING_T20s_Ave=20738, BOWLING_T20s_Econ=20738, BOWLING_T20s_SR=20738, BOWLING_T20s_4w=20738, BOWLING_T20s_5w=20738, BOWLING_T20s_10=20738)]"
      ]
     },
     "execution_count": 65,
     "metadata": {},
     "output_type": "execute_result"
    }
   ],
   "source": [
    "null_instances_spark_rdd.collect()"
   ]
  },
  {
   "cell_type": "code",
   "execution_count": 66,
   "metadata": {},
   "outputs": [],
   "source": [
    "def col_func(x):\n",
    "    list_=[]\n",
    "    for col in list_columns:\n",
    "        propotion_null=x[col]/count_rows\n",
    "        if propotion_null<0.9:\n",
    "            list_.append(col)\n",
    "    return list_\n",
    "        "
   ]
  },
  {
   "cell_type": "code",
   "execution_count": 67,
   "id": "6ea18c79",
   "metadata": {},
   "outputs": [],
   "source": [
    "list_columns=main_spark.columns\n",
    "count_rows=main_spark.count()"
   ]
  },
  {
   "cell_type": "code",
   "execution_count": 68,
   "id": "f5103d0e",
   "metadata": {},
   "outputs": [
    {
     "data": {
      "text/plain": [
       "22577"
      ]
     },
     "execution_count": 68,
     "metadata": {},
     "output_type": "execute_result"
    }
   ],
   "source": [
    "count_rows"
   ]
  },
  {
   "cell_type": "code",
   "execution_count": 69,
   "metadata": {
    "scrolled": false
   },
   "outputs": [],
   "source": [
    "columns_needed=null_instances_spark_rdd.map(col_func).collect()"
   ]
  },
  {
   "cell_type": "code",
   "execution_count": 70,
   "metadata": {},
   "outputs": [],
   "source": [
    "null_instances=null_instances.map(lambda x:x/main.shape[0])"
   ]
  },
  {
   "cell_type": "code",
   "execution_count": 71,
   "metadata": {},
   "outputs": [
    {
     "data": {
      "text/plain": [
       "Index(['Nickname', 'BATTING_Tests_Mat', 'BATTING_ODIs_Mat',\n",
       "       'BATTING_T20Is_Mat', 'BATTING_T20s_Mat', 'BOWLING_Tests_Mat',\n",
       "       'BOWLING_ODIs_Mat', 'BOWLING_T20Is_Mat', 'BOWLING_T20s_Mat'],\n",
       "      dtype='object')"
      ]
     },
     "execution_count": 71,
     "metadata": {},
     "output_type": "execute_result"
    }
   ],
   "source": [
    "null_instances[null_instances>0.90].index"
   ]
  },
  {
   "cell_type": "code",
   "execution_count": 72,
   "metadata": {},
   "outputs": [],
   "source": [
    "main_spark=main_spark.drop('Education', 'Height', 'Nickname', 'Playing role', 'Other', 'Relation',\n",
    "       'In a nutshell')"
   ]
  },
  {
   "cell_type": "markdown",
   "metadata": {},
   "source": [
    "#### Pandas"
   ]
  },
  {
   "cell_type": "code",
   "execution_count": 73,
   "metadata": {},
   "outputs": [],
   "source": [
    "main.drop(['Education', 'Height', 'Nickname', 'Playing role', 'Other', 'Relation',\n",
    "       'In a nutshell'],1,inplace=True)"
   ]
  },
  {
   "cell_type": "code",
   "execution_count": 74,
   "metadata": {},
   "outputs": [],
   "source": [
    "main[\"Born\"]=main[\"Born\"].str.replace(\"\\n\",\"\")"
   ]
  },
  {
   "cell_type": "markdown",
   "metadata": {},
   "source": [
    "## Forming the Date Birth Column which have Year+Date the player was born"
   ]
  },
  {
   "cell_type": "markdown",
   "metadata": {},
   "source": [
    "#### Pyspark"
   ]
  },
  {
   "cell_type": "code",
   "execution_count": 66,
   "metadata": {},
   "outputs": [],
   "source": [
    "split_col = split(main_spark['Born'], ',')"
   ]
  },
  {
   "cell_type": "code",
   "execution_count": 67,
   "metadata": {},
   "outputs": [],
   "source": [
    "main_spark = main_spark.withColumn('NAME1', split_col.getItem(0))\n",
    "main_spark = main_spark.withColumn('NAME2', split_col.getItem(1))"
   ]
  },
  {
   "cell_type": "code",
   "execution_count": 68,
   "metadata": {},
   "outputs": [
    {
     "name": "stdout",
     "output_type": "stream",
     "text": [
      "+---------------+--------+\n",
      "|          NAME1|   NAME2|\n",
      "+---------------+--------+\n",
      "|      \\nJune 26|    1898|\n",
      "|     \\nApril 25|    1734|\n",
      "|     \\nApril 14|    1882|\n",
      "|    \\nJanuary 9|    1942|\n",
      "|   \\nOctober 28|    1897|\n",
      "|     \\nMarch 24|    1979|\n",
      "|      \\nJuly 17|   1999 |\n",
      "|   \\nDecember 6|    1993|\n",
      "|  \\nFebruary 26|    1929|\n",
      "|   \\nJanuary 21|   2003 |\n",
      "|\\ndate unknown |    null|\n",
      "|\\ndate unknown |    null|\n",
      "|     \\nApril 23|    1986|\n",
      "|    \\nJanuary 8|    1999|\n",
      "|\\ndate unknown |    null|\n",
      "|\\ndate unknown |    null|\n",
      "|     \\nMarch 27|    1991|\n",
      "|    \\nOctober 1|    1987|\n",
      "|         \\n1947| Mombasa|\n",
      "|        \\n1975 |    null|\n",
      "+---------------+--------+\n",
      "only showing top 20 rows\n",
      "\n"
     ]
    }
   ],
   "source": [
    "main_spark.select(\"NAME1\",\"NAME2\").show()"
   ]
  },
  {
   "cell_type": "code",
   "execution_count": 69,
   "metadata": {},
   "outputs": [],
   "source": [
    "main_spark=main_spark.na.fill('',[\"NAME2\"])"
   ]
  },
  {
   "cell_type": "code",
   "execution_count": 70,
   "metadata": {},
   "outputs": [],
   "source": [
    "def fill_Date_birth_spark(x):\n",
    "    name_2=x[\"NAME2\"]\n",
    "    name_1=x['NAME1']\n",
    "    \n",
    "    name_2=name_2.strip()\n",
    "    name_1=name_1.strip()\n",
    "    \n",
    "    if not name_2.isnumeric():\n",
    "        return name_1\n",
    "    else:\n",
    "        return name_1+\"-\"+name_2\n",
    "   "
   ]
  },
  {
   "cell_type": "code",
   "execution_count": 71,
   "metadata": {},
   "outputs": [],
   "source": [
    "main_spark_rdd=main_spark.rdd"
   ]
  },
  {
   "cell_type": "code",
   "execution_count": 72,
   "metadata": {},
   "outputs": [],
   "source": [
    "main_spark_rdd_names_join=main_spark_rdd.map(fill_Date_birth_spark)"
   ]
  },
  {
   "cell_type": "code",
   "execution_count": 73,
   "metadata": {},
   "outputs": [],
   "source": [
    "list_rdd_born=main_spark_rdd_names_join.collect()"
   ]
  },
  {
   "cell_type": "code",
   "execution_count": 74,
   "metadata": {},
   "outputs": [],
   "source": [
    "main_spark = main_spark.repartition(1).withColumn(\n",
    "    \"Date_Birth\", \n",
    "    udf(lambda id: list_rdd_born[id])(monotonically_increasing_id()))"
   ]
  },
  {
   "cell_type": "code",
   "execution_count": 75,
   "metadata": {},
   "outputs": [],
   "source": [
    "main_spark=main_spark.drop(\"NAME1\",\"NAME2\")"
   ]
  },
  {
   "cell_type": "code",
   "execution_count": 76,
   "metadata": {},
   "outputs": [
    {
     "name": "stdout",
     "output_type": "stream",
     "text": [
      "+----------------+\n",
      "|      Date_Birth|\n",
      "+----------------+\n",
      "|    June 26-1898|\n",
      "|   April 25-1734|\n",
      "|   April 14-1882|\n",
      "|  January 9-1942|\n",
      "| October 28-1897|\n",
      "|   March 24-1979|\n",
      "|    July 17-1999|\n",
      "| December 6-1993|\n",
      "|February 26-1929|\n",
      "| January 21-2003|\n",
      "|    date unknown|\n",
      "|    date unknown|\n",
      "|   April 23-1986|\n",
      "|  January 8-1999|\n",
      "|    date unknown|\n",
      "|    date unknown|\n",
      "|   March 27-1991|\n",
      "|  October 1-1987|\n",
      "|            1947|\n",
      "|            1975|\n",
      "+----------------+\n",
      "only showing top 20 rows\n",
      "\n"
     ]
    }
   ],
   "source": [
    "main_spark.select(\"Date_Birth\").show()"
   ]
  },
  {
   "cell_type": "markdown",
   "metadata": {},
   "source": [
    "#### Pandas"
   ]
  },
  {
   "cell_type": "code",
   "execution_count": 77,
   "metadata": {},
   "outputs": [],
   "source": [
    "date_splitted=main[\"Born\"].str.split(\",\",expand=True)\n",
    "date_splitted.iloc[:,1]=date_splitted.iloc[:,1].fillna('')"
   ]
  },
  {
   "cell_type": "code",
   "execution_count": 5,
   "metadata": {},
   "outputs": [],
   "source": [
    "def fill_date_birth(x):\n",
    "    x[1]=x[1].strip()\n",
    "    if not x[1].isnumeric():\n",
    "        return x[0]\n",
    "    else:\n",
    "        return x[0]+\"-\"+x[1]\n",
    "\n",
    "main[\"Date_Birth\"]=date_splitted.apply(fill_date_birth,axis=1)"
   ]
  },
  {
   "cell_type": "markdown",
   "metadata": {},
   "source": [
    "### What to do with players whose date is not known"
   ]
  },
  {
   "cell_type": "markdown",
   "metadata": {},
   "source": [
    "#### PySpark"
   ]
  },
  {
   "cell_type": "code",
   "execution_count": 78,
   "id": "8488e208",
   "metadata": {},
   "outputs": [],
   "source": [
    "main_spark = main_spark.withColumn('Date_Birth', trim(col('Date_Birth')))"
   ]
  },
  {
   "cell_type": "code",
   "execution_count": 79,
   "id": "3b697e3e",
   "metadata": {},
   "outputs": [],
   "source": [
    "mode_date_birth_spark=main_spark.filter(~main_spark.Date_Birth.contains('unknown')).groupby('Date_Birth').count().orderBy('count',ascending=False).first()[0]"
   ]
  },
  {
   "cell_type": "code",
   "execution_count": 80,
   "id": "44650078",
   "metadata": {},
   "outputs": [],
   "source": [
    "main_spark=main_spark.withColumn('Date_Birth', when(main_spark.Date_Birth.rlike('known|Known|circa|Details|Hong|Cheema|circ|Pakistan|Goa|Kamrup|date unknown'),mode_date_birth_spark).otherwise(\n",
    "    main_spark['Date_Birth']\n",
    "))\n"
   ]
  },
  {
   "cell_type": "code",
   "execution_count": 81,
   "id": "440cbf7f",
   "metadata": {},
   "outputs": [
    {
     "name": "stdout",
     "output_type": "stream",
     "text": [
      "+----------------+\n",
      "|      Date_Birth|\n",
      "+----------------+\n",
      "|    June/26/1898|\n",
      "|   April/25/1734|\n",
      "|   April/14/1882|\n",
      "|  January/9/1942|\n",
      "| October/28/1897|\n",
      "|   March/24/1979|\n",
      "|    July/17/1999|\n",
      "| December/6/1993|\n",
      "|February/26/1929|\n",
      "| January/21/2003|\n",
      "|February/24/1975|\n",
      "|February/24/1975|\n",
      "|   April/23/1986|\n",
      "|  January/8/1999|\n",
      "|February/24/1975|\n",
      "|February/24/1975|\n",
      "|   March/27/1991|\n",
      "|  October/1/1987|\n",
      "|            1947|\n",
      "|            1975|\n",
      "+----------------+\n",
      "only showing top 20 rows\n",
      "\n"
     ]
    }
   ],
   "source": [
    "main_spark=main_spark.withColumn('Date_Birth', regexp_replace('Date_Birth', ' ', '/')) \n",
    "main_spark=main_spark.withColumn('Date_Birth', regexp_replace('Date_Birth', '-', '/')) \n",
    "main_spark.select('Date_Birth').show()"
   ]
  },
  {
   "cell_type": "code",
   "execution_count": 82,
   "id": "acd1ad91",
   "metadata": {},
   "outputs": [],
   "source": [
    "def date_birth_func_spark(x):\n",
    "    month_to_numeric={\n",
    "        \"January\":\"01\",\n",
    "        \"February\":\"02\",\n",
    "        \"March\":\"03\",\n",
    "        \"April\":\"04\",\n",
    "        \"May\":\"05\",\n",
    "        \"June\":\"06\",\n",
    "        \"July\":\"07\",\n",
    "        \"August\":\"08\",\n",
    "        \"September\":\"09\",\n",
    "        \"October\":\"10\",\n",
    "        \"November\":\"11\",\n",
    "        \"December\":\"12\",\n",
    "        \"Q1\":\"1\" \n",
    "    }\n",
    "    \n",
    "    date_instance=x.split(\"/\")\n",
    "    if '' in date_instance:\n",
    "        date_instance[date_instance.index('')]='1994'\n",
    "    if '0000' in date_instance:\n",
    "        date_instance[date_instance.index('0000')]='1994'\n",
    "    if len(date_instance)==1:\n",
    "        return datetime.strptime(\"01/01/\"+date_instance[0],'%m/%d/%Y')\n",
    "    else:\n",
    "        if date_instance[0] in month_to_numeric.keys():\n",
    "            date_instance[0]=month_to_numeric[date_instance[0]]\n",
    "        return datetime.strptime(\"/\".join(date_instance),'%m/%d/%Y')"
   ]
  },
  {
   "cell_type": "code",
   "execution_count": 83,
   "id": "11e6f79e",
   "metadata": {},
   "outputs": [],
   "source": [
    "udf_function = udf(lambda x: date_birth_func_spark(x),DateType())\n",
    "main_spark=main_spark.withColumn('Date_Birth',udf_function(col('Date_Birth')))"
   ]
  },
  {
   "cell_type": "markdown",
   "metadata": {},
   "source": [
    "#### Pandas"
   ]
  },
  {
   "cell_type": "code",
   "execution_count": 6,
   "metadata": {},
   "outputs": [],
   "source": [
    "main[\"Date_Birth\"]=main[\"Date_Birth\"].str.strip()"
   ]
  },
  {
   "cell_type": "code",
   "execution_count": 7,
   "metadata": {},
   "outputs": [],
   "source": [
    "mode_date_birth=main.loc[~(main[\"Date_Birth\"].str.contains('unknown')),'Date_Birth'].mode().values.tolist()[0]"
   ]
  },
  {
   "cell_type": "code",
   "execution_count": 8,
   "metadata": {},
   "outputs": [],
   "source": [
    "main.loc[(main[\"Date_Birth\"].str.contains('known|Known|circa|Details|Hong|Cheema|circ|Pakistan|Goa|Kamrup|Mansa|Matale|Badulla|Balapitiya|Kiribathgoda|Colombo|Westminster|Polonnaruwa')),'Date_Birth']=\"January 1-\"+mode_date_birth"
   ]
  },
  {
   "cell_type": "code",
   "execution_count": 9,
   "metadata": {},
   "outputs": [],
   "source": [
    "main[\"Date_Birth\"]=main[\"Date_Birth\"].str.replace(\" \",\"/\")\n",
    "main[\"Date_Birth\"]=main[\"Date_Birth\"].str.replace(\"-\",\"/\")"
   ]
  },
  {
   "cell_type": "code",
   "execution_count": 10,
   "metadata": {},
   "outputs": [],
   "source": [
    "final_list=[]\n",
    "def date_birth_func(x):\n",
    "    month_to_numeric={\n",
    "        \"January\":\"01\",\n",
    "        \"February\":\"02\",\n",
    "        \"March\":\"03\",\n",
    "        \"April\":\"04\",\n",
    "        \"May\":\"05\",\n",
    "        \"June\":\"06\",\n",
    "        \"July\":\"07\",\n",
    "        \"August\":\"08\",\n",
    "        \"September\":\"09\",\n",
    "        \"October\":\"10\",\n",
    "        \"November\":\"11\",\n",
    "        \"December\":\"12\",\n",
    "        \"Q1\":\"1\" \n",
    "    }\n",
    "    if x=='':\n",
    "        return datetime.strptime(\"01/01/\"+mode_date_birth, '%m/%d/%Y')\n",
    "    date_instance=x.split(\"/\")\n",
    "    try:\n",
    "        if '' in date_instance:\n",
    "            date_instance[date_instance.index('')]=mode_date_birth\n",
    "            return datetime.strptime(\"/\".join(date_instance), '%m/%d/%Y')\n",
    "        if '0000' in date_instance:\n",
    "            date_instance[date_instance.index('0000')]=mode_date_birth\n",
    "        if len(date_instance)==1:\n",
    "            return datetime.strptime(\"01/01/\"+date_instance[0], '%m/%d/%Y')\n",
    "        elif len(date_instance)==2:\n",
    "            date_instance[0]=month_to_numeric[date_instance[0]]\n",
    "            return datetime.strptime(date_instance[0]+\"/01/\"+date_instance[1], '%m/%d/%Y')\n",
    "        else:\n",
    "            if date_instance[0] in month_to_numeric.keys():\n",
    "                date_instance[0]=month_to_numeric[date_instance[0]]\n",
    "            return datetime.strptime(\"/\".join(date_instance), '%m/%d/%Y')\n",
    "    except:\n",
    "        final_list.append(x)\n",
    "   \n",
    "        \n",
    "    \n",
    "    \n",
    "   \n",
    "    \n",
    "    "
   ]
  },
  {
   "cell_type": "code",
   "execution_count": 11,
   "metadata": {
    "scrolled": false
   },
   "outputs": [],
   "source": [
    "main[\"Born\"]=main[\"Date_Birth\"].map(date_birth_func)"
   ]
  },
  {
   "cell_type": "code",
   "execution_count": 12,
   "id": "7677636b",
   "metadata": {},
   "outputs": [],
   "source": [
    "main.drop('Date_Birth',axis=1,inplace=True)"
   ]
  },
  {
   "cell_type": "markdown",
   "metadata": {},
   "source": [
    "## Forming the Date Death Column which have Year+Date the player was born"
   ]
  },
  {
   "cell_type": "markdown",
   "id": "e1aeabae",
   "metadata": {},
   "source": [
    "#### Pyspark"
   ]
  },
  {
   "cell_type": "code",
   "execution_count": 84,
   "id": "1412cd83",
   "metadata": {},
   "outputs": [],
   "source": [
    "split_col = split(main_spark['Died'], ',')"
   ]
  },
  {
   "cell_type": "code",
   "execution_count": 85,
   "id": "e68a3bd9",
   "metadata": {},
   "outputs": [],
   "source": [
    "main_spark = main_spark.withColumn('NAME1', split_col.getItem(0))\n",
    "main_spark = main_spark.withColumn('NAME2', split_col.getItem(1))"
   ]
  },
  {
   "cell_type": "code",
   "execution_count": 86,
   "id": "dfb20f16",
   "metadata": {},
   "outputs": [],
   "source": [
    "main_spark=main_spark.fillna('',subset=['NAME2'])"
   ]
  },
  {
   "cell_type": "code",
   "execution_count": 87,
   "id": "de45e70d",
   "metadata": {},
   "outputs": [],
   "source": [
    "custom_func_name1_name2=udf(lambda x,y:x+\"-\"+y)"
   ]
  },
  {
   "cell_type": "code",
   "execution_count": 88,
   "id": "8f2faa1f",
   "metadata": {},
   "outputs": [],
   "source": [
    "main_spark=main_spark.withColumn('Died',custom_func_name1_name2(col('NAME1'),col('NAME2')))"
   ]
  },
  {
   "cell_type": "code",
   "execution_count": 89,
   "id": "5a4ee89a",
   "metadata": {},
   "outputs": [],
   "source": [
    "main_spark=main_spark.drop('NAME1','NAME2')"
   ]
  },
  {
   "cell_type": "code",
   "execution_count": 90,
   "id": "45c57896",
   "metadata": {},
   "outputs": [],
   "source": [
    "mode_date_died_spark=main_spark.filter(~main_spark.Died.rlike('nan|unknown|Presumed Dead|Known|Unknown')).groupby('Died').count().orderBy('count',ascending=False).first()[0]"
   ]
  },
  {
   "cell_type": "code",
   "execution_count": 91,
   "id": "1a167b2c",
   "metadata": {},
   "outputs": [
    {
     "data": {
      "text/plain": [
       "'September 10- 1967'"
      ]
     },
     "execution_count": 91,
     "metadata": {},
     "output_type": "execute_result"
    }
   ],
   "source": [
    "mode_date_died_spark"
   ]
  },
  {
   "cell_type": "code",
   "execution_count": 92,
   "id": "0a20c968",
   "metadata": {},
   "outputs": [],
   "source": [
    "global mode_year_spark\n",
    "mode_year_spark=mode_date_died_spark.split('- ')[-1]"
   ]
  },
  {
   "cell_type": "code",
   "execution_count": 93,
   "id": "3cee5589",
   "metadata": {},
   "outputs": [],
   "source": [
    "main_spark=main_spark.withColumn('Died', when(main_spark.Died.rlike('unknown|Presumed Dead|Known|Unknown|0000|aged|Duncton|Leicester|Tasmania'),mode_date_died_spark).otherwise(\n",
    "    main_spark['Died']\n",
    "))"
   ]
  },
  {
   "cell_type": "code",
   "execution_count": 94,
   "id": "b453f874",
   "metadata": {},
   "outputs": [
    {
     "name": "stdout",
     "output_type": "stream",
     "text": [
      "+------------------+\n",
      "|              Died|\n",
      "+------------------+\n",
      "|    March 12- 1982|\n",
      "|    April 25- 1797|\n",
      "|September 10- 1967|\n",
      "|              nan-|\n",
      "|   August 28- 1947|\n",
      "|              nan-|\n",
      "|              nan-|\n",
      "|              nan-|\n",
      "|              nan-|\n",
      "|              nan-|\n",
      "|              nan-|\n",
      "|              nan-|\n",
      "|              nan-|\n",
      "|              nan-|\n",
      "|              nan-|\n",
      "|              nan-|\n",
      "|              nan-|\n",
      "|              nan-|\n",
      "|              nan-|\n",
      "|              nan-|\n",
      "+------------------+\n",
      "only showing top 20 rows\n",
      "\n"
     ]
    }
   ],
   "source": [
    "main_spark.select('Died').show()"
   ]
  },
  {
   "cell_type": "code",
   "execution_count": 95,
   "id": "8746ea29",
   "metadata": {},
   "outputs": [],
   "source": [
    "main_spark=main_spark.withColumn('Died', regexp_replace('Died', '- ', '/')) \n",
    "main_spark=main_spark.withColumn('Died', regexp_replace('Died', ' ', '/')) \n",
    "main_spark=main_spark.withColumn('Died', regexp_replace('Died', 'nan/', 'nan')) \n"
   ]
  },
  {
   "cell_type": "code",
   "execution_count": 96,
   "id": "527e0695",
   "metadata": {},
   "outputs": [],
   "source": [
    "def date_death_func_spark(x):\n",
    "    month_to_numeric={\n",
    "        \"January\":\"01\",\n",
    "        \"February\":\"02\",\n",
    "        \"March\":\"03\",\n",
    "        \"April\":\"04\",\n",
    "        \"May\":\"05\",\n",
    "        \"June\":\"06\",\n",
    "        \"July\":\"07\",\n",
    "        \"August\":\"08\",\n",
    "        \"September\":\"09\",\n",
    "        \"October\":\"10\",\n",
    "        \"November\":\"11\",\n",
    "        \"December\":\"12\",\n",
    "        \"Q1\":\"1\" ,\n",
    "        'Q2':'4'\n",
    "    }  \n",
    "   \n",
    "    if x=='nan':\n",
    "        return 'nan'\n",
    "    date_list=x.split('/')[:3]\n",
    "    all_numeric=True\n",
    "    index_to_pop=[]\n",
    "    for index,instance in enumerate(date_list):\n",
    "        if not instance.isnumeric() and instance not in month_to_numeric.keys():\n",
    "            all_numeric=False\n",
    "        else:    \n",
    "            index_to_pop.append(index)\n",
    "    if all_numeric:\n",
    "        date_list[0]=month_to_numeric[date_list[0]]\n",
    "        return datetime.strptime('/'.join(date_list),'%m/%d/%Y')\n",
    "        \n",
    "    else:\n",
    "\n",
    "        new_date_list=[]\n",
    "        for index in index_to_pop:\n",
    "            new_date_list.append(date_list[index])\n",
    "        if len(new_date_list)==1:\n",
    "            return datetime.strptime('01/'+'01/'+new_date_list[0],'%m/%d/%Y')\n",
    "        elif len(new_date_list)==2 and new_date_list[0] in month_to_numeric.keys():\n",
    "            new_date_list[0]=month_to_numeric[new_date_list[0]]\n",
    "            return datetime.strptime(new_date_list[0]+'/01/'+new_date_list[1],'%m/%d/%Y')\n",
    "        else:\n",
    "            return datetime.strptime('01/'+'01/'+mode_year_spark,'%m/%d/%Y')\n",
    "                \n",
    "    \n",
    "        \n",
    "            \n",
    "    \n",
    "      "
   ]
  },
  {
   "cell_type": "code",
   "execution_count": 97,
   "id": "e47695b0",
   "metadata": {},
   "outputs": [],
   "source": [
    "death_udf=udf(lambda x:date_death_func_spark(x),DateType())\n",
    "main_spark=main_spark.withColumn('Died',death_udf(col('Died')))"
   ]
  },
  {
   "cell_type": "markdown",
   "id": "2ca0bac5",
   "metadata": {},
   "source": [
    "#### Pandas"
   ]
  },
  {
   "cell_type": "code",
   "execution_count": 13,
   "metadata": {},
   "outputs": [],
   "source": [
    "main['Died']=main['Died'].map(lambda x:\"-\".join(x.split(',')[:2]))"
   ]
  },
  {
   "cell_type": "code",
   "execution_count": 14,
   "id": "a2f6382b",
   "metadata": {},
   "outputs": [],
   "source": [
    "mode_died=main.loc[~(main['Died'].str.contains('nan|unknown|Presumed Dead|Known|Unknown')),'Died'].mode().values.tolist()[0]"
   ]
  },
  {
   "cell_type": "code",
   "execution_count": 15,
   "id": "ccd60afe",
   "metadata": {},
   "outputs": [],
   "source": [
    "mode_year=mode_died.split('- ')[-1]"
   ]
  },
  {
   "cell_type": "code",
   "execution_count": 16,
   "id": "e37a490e",
   "metadata": {},
   "outputs": [],
   "source": [
    "main.loc[(main['Died'].str.contains('unknown|Presumed Dead|Known|Unknown|0000|aged|Duncton|Leicester|Tasmania')),'Died']=mode_died"
   ]
  },
  {
   "cell_type": "code",
   "execution_count": 17,
   "id": "3ece09a7",
   "metadata": {},
   "outputs": [],
   "source": [
    "main['Died']=main['Died'].str.replace('- ','/').str.replace(' ','/')"
   ]
  },
  {
   "cell_type": "code",
   "execution_count": 18,
   "id": "5e1ad739",
   "metadata": {},
   "outputs": [],
   "source": [
    "def date_death_func(x):\n",
    "    month_to_numeric={\n",
    "        \"January\":\"01\",\n",
    "        \"February\":\"02\",\n",
    "        \"March\":\"03\",\n",
    "        \"April\":\"04\",\n",
    "        \"May\":\"05\",\n",
    "        \"June\":\"06\",\n",
    "        \"July\":\"07\",\n",
    "        \"August\":\"08\",\n",
    "        \"September\":\"09\",\n",
    "        \"October\":\"10\",\n",
    "        \"November\":\"11\",\n",
    "        \"December\":\"12\",\n",
    "        \"Q1\":\"1\" ,\n",
    "        'Q2':'4'\n",
    "    }  \n",
    "   \n",
    "    if x=='nan':\n",
    "        return 'nan'\n",
    "    date_list=x.split('/')[:3]\n",
    "    all_numeric=True\n",
    "    index_to_pop=[]\n",
    "    for index,instance in enumerate(date_list):\n",
    "        if not instance.isnumeric() and instance not in month_to_numeric.keys():\n",
    "            all_numeric=False\n",
    "        else:    \n",
    "            index_to_pop.append(index)\n",
    "    if all_numeric:\n",
    "        date_list[0]=month_to_numeric[date_list[0]]\n",
    "        return datetime.strptime('/'.join(date_list), '%m/%d/%Y')\n",
    "        \n",
    "    else:\n",
    "\n",
    "        new_date_list=[]\n",
    "        for index in index_to_pop:\n",
    "            new_date_list.append(date_list[index])\n",
    "        if len(new_date_list)==1:\n",
    "            return datetime.strptime('01/'+'01/'+new_date_list[0], '%m/%d/%Y')\n",
    "        elif len(new_date_list)==2 and new_date_list[0] in month_to_numeric.keys():\n",
    "            new_date_list[0]=month_to_numeric[new_date_list[0]]\n",
    "            return datetime.strptime(new_date_list[0]+'/01/'+new_date_list[1], '%m/%d/%Y')\n",
    "        else:\n",
    "            return datetime.strptime('01/'+'01/'+mode_year, '%m/%d/%Y')\n",
    "                \n",
    "    \n",
    "        \n",
    "            \n",
    "    \n",
    "      "
   ]
  },
  {
   "cell_type": "code",
   "execution_count": 19,
   "id": "af135e2c",
   "metadata": {},
   "outputs": [],
   "source": [
    "main['Died']=main['Died'].map(date_death_func)"
   ]
  },
  {
   "cell_type": "markdown",
   "id": "4578fa5d",
   "metadata": {},
   "source": [
    "## Forming the Age Column\n",
    "    -  Age=Death-Birth (IF died)\n",
    "    -  Age=Today()- Birth (IF Alive)"
   ]
  },
  {
   "cell_type": "markdown",
   "id": "d0e47a70",
   "metadata": {},
   "source": [
    "#### PySpark"
   ]
  },
  {
   "cell_type": "code",
   "execution_count": 98,
   "id": "a7d920a8",
   "metadata": {},
   "outputs": [],
   "source": [
    "main_spark=main_spark.withColumn('Age',col('Current age'))"
   ]
  },
  {
   "cell_type": "code",
   "execution_count": 99,
   "id": "52c992bc",
   "metadata": {},
   "outputs": [],
   "source": [
    "main_spark=main_spark.withColumnRenamed(\"Current age\",\"Current_age\")"
   ]
  },
  {
   "cell_type": "code",
   "execution_count": 100,
   "id": "cbf8ff07",
   "metadata": {},
   "outputs": [],
   "source": [
    "case_1_func=udf(lambda x:(datetime.now()-x).days/365)"
   ]
  },
  {
   "cell_type": "code",
   "execution_count": 101,
   "id": "3b28e06d",
   "metadata": {},
   "outputs": [],
   "source": [
    "main_spark=main_spark.withColumn(\"Age\",when(~main_spark.Age.contains('nan'),case_1_func(col('Date_Birth'))).otherwise(main_spark['Age']))"
   ]
  },
  {
   "cell_type": "code",
   "execution_count": 102,
   "id": "8b13b8ce",
   "metadata": {},
   "outputs": [],
   "source": [
    "Case_2_func=udf(lambda x,y :(x-y).days/365)"
   ]
  },
  {
   "cell_type": "code",
   "execution_count": 103,
   "id": "05a1e29f",
   "metadata": {},
   "outputs": [],
   "source": [
    "main_spark=main_spark.withColumn(\"Age\",when(main_spark.Age.contains('nan') & ~main_spark.Died.isNull() ,Case_2_func(col('Died'),col('Date_Birth'))).otherwise(main_spark['Age']))"
   ]
  },
  {
   "cell_type": "code",
   "execution_count": 104,
   "id": "d83190bd",
   "metadata": {},
   "outputs": [
    {
     "name": "stdout",
     "output_type": "stream",
     "text": [
      "+------------------+\n",
      "|               Age|\n",
      "+------------------+\n",
      "| 83.76438356164384|\n",
      "| 63.04383561643836|\n",
      "| 85.46301369863014|\n",
      "| 80.22739726027397|\n",
      "|49.863013698630134|\n",
      "|              43.0|\n",
      "|22.671232876712327|\n",
      "|28.284931506849315|\n",
      "|  93.1041095890411|\n",
      "|19.153424657534245|\n",
      "|-8.153424657534247|\n",
      "|-8.153424657534247|\n",
      "|35.912328767123284|\n",
      "| 23.19178082191781|\n",
      "|-8.153424657534247|\n",
      "|-8.153424657534247|\n",
      "|30.983561643835618|\n",
      "| 34.47123287671233|\n",
      "| 75.24657534246575|\n",
      "|47.227397260273975|\n",
      "+------------------+\n",
      "only showing top 20 rows\n",
      "\n"
     ]
    }
   ],
   "source": [
    "main_spark.select('Age').show()"
   ]
  },
  {
   "cell_type": "code",
   "execution_count": 105,
   "id": "70aa231e",
   "metadata": {},
   "outputs": [],
   "source": [
    "main_spark=main_spark.withColumn('Age',when(main_spark.Current_age.contains('nan') & main_spark.Died.isNull(),case_1_func(col('Date_Birth'))).otherwise(main_spark['Age']))"
   ]
  },
  {
   "cell_type": "code",
   "execution_count": 106,
   "id": "ad50fb6a",
   "metadata": {},
   "outputs": [],
   "source": [
    "main_spark=main_spark.withColumn('Died',when(main_spark.Age<0,None).otherwise(main_spark.Died))"
   ]
  },
  {
   "cell_type": "code",
   "execution_count": 115,
   "id": "9ae4a578",
   "metadata": {},
   "outputs": [],
   "source": [
    "main_spark=main_spark.withColumn('Age',main_spark.Age.cast(IntegerType()))"
   ]
  },
  {
   "cell_type": "code",
   "execution_count": 131,
   "id": "f21c73fd",
   "metadata": {},
   "outputs": [],
   "source": [
    "main_spark=main_spark.withColumn('Age',when((main_spark.Age<0) & (main_spark.Died.isNull()),case_1_func(col('Date_Birth'))).otherwise(main_spark['Age']))"
   ]
  },
  {
   "cell_type": "code",
   "execution_count": 132,
   "id": "1b36f436",
   "metadata": {},
   "outputs": [],
   "source": [
    "main_spark=main_spark.withColumn('Age',when(main_spark.Age>150,150).otherwise(main_spark.Age))"
   ]
  },
  {
   "cell_type": "code",
   "execution_count": 133,
   "id": "cc854928",
   "metadata": {},
   "outputs": [],
   "source": [
    "main_spark=main_spark.drop('Current_age')"
   ]
  },
  {
   "cell_type": "code",
   "execution_count": 137,
   "id": "b47d9164",
   "metadata": {},
   "outputs": [],
   "source": [
    "main_spark=main_spark.withColumn('Age',floor(ceil('Age')))"
   ]
  },
  {
   "cell_type": "markdown",
   "id": "d65d8b72",
   "metadata": {},
   "source": [
    "#### Pandas"
   ]
  },
  {
   "cell_type": "code",
   "execution_count": 37,
   "id": "e91ec8ad",
   "metadata": {},
   "outputs": [],
   "source": [
    "main['Age']=main['Current age']"
   ]
  },
  {
   "cell_type": "code",
   "execution_count": 38,
   "id": "cdee8322",
   "metadata": {},
   "outputs": [],
   "source": [
    "main.loc[(main['Current age']!='nan'),'Age']=main.loc[(main['Current age']!='nan'),:].apply(lambda x:(datetime.today()-x['Born']).days/365,axis=1)#### Case-1 Those who are still alive, what is their updated age?"
   ]
  },
  {
   "cell_type": "code",
   "execution_count": 40,
   "id": "e2b49966",
   "metadata": {},
   "outputs": [],
   "source": [
    "main.loc[(main['Current age']=='nan') & ~(main['Died'].isnull()) ,'Age']=main.loc[(main['Current age']=='nan') & ~(main['Died'].isnull()) ,:].apply(lambda x:(x['Died']-x['Born']).days/365,axis=1)### Case-2 Those who have died and their dead date is known"
   ]
  },
  {
   "cell_type": "code",
   "execution_count": 41,
   "id": "c69189f9",
   "metadata": {},
   "outputs": [],
   "source": [
    "main.loc[(main['Current age']=='nan') & (main['Died'].isnull()) ,'Age']=main.loc[(main['Current age']=='nan') & (main['Died'].isnull()) ,:].apply(lambda x:(datetime.today()-x['Born']).days/365,axis=1)## Case Those who are alive but their current age is nan"
   ]
  },
  {
   "cell_type": "code",
   "execution_count": 49,
   "id": "d97737e3",
   "metadata": {},
   "outputs": [],
   "source": [
    "main.loc[(main['Age']<0),'Died']=None #### This is happening because some of died values were imputed from the mode which might have the cause the died column to be less than Birth therefore making them null makes sense"
   ]
  },
  {
   "cell_type": "code",
   "execution_count": 52,
   "id": "f04c507e",
   "metadata": {},
   "outputs": [],
   "source": [
    "main.loc[(main['Age']<0)&(main['Died']).isnull(),'Age']=main.loc[(main['Age']<0)&(main['Died']).isnull(),:].apply(lambda x:(datetime.today()-x['Born']).days/365,axis=1)##### Those whose age is negative due to death mode imputation--assumption is that they are still alive."
   ]
  },
  {
   "cell_type": "code",
   "execution_count": 57,
   "id": "1889e502",
   "metadata": {},
   "outputs": [],
   "source": [
    "main.loc[(main['Age']>150),'Age']=150 ### No one can live that long :D "
   ]
  },
  {
   "cell_type": "code",
   "execution_count": null,
   "id": "69e3dd11",
   "metadata": {},
   "outputs": [],
   "source": [
    "main['Age']=main['Age'].map(lambda x:math.ceil(x))"
   ]
  },
  {
   "cell_type": "code",
   "execution_count": 60,
   "id": "48a786dd",
   "metadata": {},
   "outputs": [],
   "source": [
    "main.drop('Current age',axis=1,inplace=True)"
   ]
  },
  {
   "cell_type": "markdown",
   "id": "93138a8a",
   "metadata": {},
   "source": [
    "## Forming the Country Column"
   ]
  },
  {
   "cell_type": "markdown",
   "id": "5ea9ff6e",
   "metadata": {},
   "source": [
    "#### PySpark"
   ]
  },
  {
   "cell_type": "code",
   "execution_count": 11,
   "id": "c8e1433c",
   "metadata": {},
   "outputs": [],
   "source": [
    "main_spark=main_spark.withColumnRenamed('COUNTRY','Country')"
   ]
  },
  {
   "cell_type": "code",
   "execution_count": 13,
   "id": "e21f29c3",
   "metadata": {},
   "outputs": [],
   "source": [
    "main_spark=main_spark.withColumn('Country',trim(col('Country')))"
   ]
  },
  {
   "cell_type": "code",
   "execution_count": 15,
   "id": "9b453985",
   "metadata": {},
   "outputs": [
    {
     "name": "stdout",
     "output_type": "stream",
     "text": [
      "+--------------------+\n",
      "|             Country|\n",
      "+--------------------+\n",
      "|            Pakistan|\n",
      "|             England|\n",
      "|           Australia|\n",
      "|               India|\n",
      "|           Australia|\n",
      "|               India|\n",
      "|               India|\n",
      "|            Zimbabwe|\n",
      "|            Pakistan|\n",
      "|        South Africa|\n",
      "|             England|\n",
      "|        South Africa|\n",
      "|               India|\n",
      "|               India|\n",
      "|               India|\n",
      "|            Zimbabwe|\n",
      "|United Arab Emirates|\n",
      "|           Sri Lanka|\n",
      "|             England|\n",
      "|               India|\n",
      "+--------------------+\n",
      "only showing top 20 rows\n",
      "\n"
     ]
    }
   ],
   "source": [
    "main_spark.select('Country').show()"
   ]
  },
  {
   "cell_type": "markdown",
   "id": "a2c79ddb",
   "metadata": {},
   "source": [
    "#### Pandas"
   ]
  },
  {
   "cell_type": "code",
   "execution_count": 9,
   "id": "b5345b74",
   "metadata": {},
   "outputs": [],
   "source": [
    "main=main.rename(columns={'COUNTRY':'Country'})"
   ]
  },
  {
   "cell_type": "code",
   "execution_count": 10,
   "id": "8e5edc6a",
   "metadata": {},
   "outputs": [],
   "source": [
    "main['Country']=main['Country'].str.strip()"
   ]
  },
  {
   "cell_type": "markdown",
   "id": "0d2df615",
   "metadata": {},
   "source": [
    "## Forming the Major Team Column"
   ]
  },
  {
   "cell_type": "markdown",
   "id": "a4648485",
   "metadata": {},
   "source": [
    "#### Pandas"
   ]
  },
  {
   "cell_type": "code",
   "execution_count": 18,
   "id": "438d4299",
   "metadata": {},
   "outputs": [],
   "source": [
    "main=main.rename(columns={'Major teams':'MajorTeam'})"
   ]
  },
  {
   "cell_type": "code",
   "execution_count": 33,
   "id": "57996adf",
   "metadata": {},
   "outputs": [],
   "source": [
    "def team_cleaning(x):\n",
    "    if '[' in x:\n",
    "        first_team=x.split(',')[0]\n",
    "        first_team=first_team.replace('[','')\n",
    "        first_team=first_team.replace(\"'\",'')\n",
    "        return first_team\n",
    "    return x"
   ]
  },
  {
   "cell_type": "code",
   "execution_count": 40,
   "id": "3cbf27ae",
   "metadata": {},
   "outputs": [],
   "source": [
    "main['MajorTeam']=main['MajorTeam'].map(team_cleaning).str.strip().astype(str)"
   ]
  },
  {
   "cell_type": "markdown",
   "id": "afd42c80",
   "metadata": {},
   "source": [
    "#### PySpark"
   ]
  },
  {
   "cell_type": "code",
   "execution_count": 42,
   "id": "6b07d871",
   "metadata": {},
   "outputs": [],
   "source": [
    "main_spark=main_spark.withColumnRenamed('Major teams','MajorTeam')"
   ]
  },
  {
   "cell_type": "code",
   "execution_count": 45,
   "id": "fa564646",
   "metadata": {},
   "outputs": [],
   "source": [
    "main_spark=main_spark.withColumn('MajorTeam',udf(team_cleaning)(col('MajorTeam')))"
   ]
  },
  {
   "cell_type": "markdown",
   "id": "e8c8c8fd",
   "metadata": {},
   "source": [
    "## Forming the Major Batting style Column"
   ]
  },
  {
   "cell_type": "markdown",
   "id": "c882f6dd",
   "metadata": {},
   "source": [
    "#### PySpark"
   ]
  },
  {
   "cell_type": "code",
   "execution_count": 38,
   "id": "6ef39068",
   "metadata": {},
   "outputs": [],
   "source": [
    "main_spark=main_spark.withColumnRenamed('Batting style','Batting_style')"
   ]
  },
  {
   "cell_type": "code",
   "execution_count": 41,
   "id": "2cb02774",
   "metadata": {},
   "outputs": [],
   "source": [
    "main_spark=main_spark.withColumn('Batting_style',when(main_spark.Batting_style.rlike('Right-hand bat|nan'),'Right-hand bat').otherwise(main_spark.Batting_style))"
   ]
  },
  {
   "cell_type": "code",
   "execution_count": 51,
   "id": "47a3bbc0",
   "metadata": {},
   "outputs": [
    {
     "data": {
      "text/plain": [
       "0"
      ]
     },
     "execution_count": 51,
     "metadata": {},
     "output_type": "execute_result"
    }
   ],
   "source": [
    "main_spark.filter(main_spark.Batting_style.isNull()).count()"
   ]
  },
  {
   "cell_type": "markdown",
   "id": "99163dbc",
   "metadata": {},
   "source": [
    "#### Pandas"
   ]
  },
  {
   "cell_type": "code",
   "execution_count": 37,
   "id": "e6c915c3",
   "metadata": {},
   "outputs": [
    {
     "data": {
      "text/plain": [
       "Right-hand bat    80681\n",
       "Left-hand bat      9627\n",
       "Name: Batting style, dtype: int64"
      ]
     },
     "execution_count": 37,
     "metadata": {},
     "output_type": "execute_result"
    }
   ],
   "source": [
    "main['Batting style'].value_counts()"
   ]
  },
  {
   "cell_type": "code",
   "execution_count": 36,
   "id": "eb3ae480",
   "metadata": {},
   "outputs": [],
   "source": [
    "main.loc[(main['Batting style'].str.contains('Right-hand bat, Right-hand bat|nan')),\"Batting style\"]='Right-hand bat'"
   ]
  },
  {
   "cell_type": "markdown",
   "id": "5feed766",
   "metadata": {},
   "source": [
    "## Forming the Major Bowling style Column"
   ]
  },
  {
   "cell_type": "markdown",
   "id": "347cc226",
   "metadata": {},
   "source": [
    "#### PySpark"
   ]
  },
  {
   "cell_type": "code",
   "execution_count": 26,
   "id": "b2a46726",
   "metadata": {},
   "outputs": [],
   "source": [
    "main_spark=main_spark.withColumnRenamed('Bowling style','Bowling_style')"
   ]
  },
  {
   "cell_type": "code",
   "execution_count": 27,
   "id": "11372616",
   "metadata": {},
   "outputs": [],
   "source": [
    "main_spark=main_spark.withColumn('Bowling_style',when(main_spark.Bowling_style.rlike('nan'),'Unknown Style').otherwise(main_spark.Bowling_style))"
   ]
  },
  {
   "cell_type": "code",
   "execution_count": 28,
   "id": "b95db6ee",
   "metadata": {},
   "outputs": [
    {
     "name": "stdout",
     "output_type": "stream",
     "text": [
      "+--------------------+\n",
      "|       Bowling_style|\n",
      "+--------------------+\n",
      "|       Unknown Style|\n",
      "|       Unknown Style|\n",
      "|       Unknown Style|\n",
      "|       Unknown Style|\n",
      "|       Unknown Style|\n",
      "|       Unknown Style|\n",
      "|    Right-arm medium|\n",
      "|       Unknown Style|\n",
      "|       Unknown Style|\n",
      "|  Right-arm offbreak|\n",
      "|    Right-arm medium|\n",
      "|    Right-arm medium|\n",
      "|       Unknown Style|\n",
      "|       Unknown Style|\n",
      "|    Right-arm medium|\n",
      "|       Unknown Style|\n",
      "|            Legbreak|\n",
      "|       Unknown Style|\n",
      "|       Unknown Style|\n",
      "|Right-arm fast-me...|\n",
      "+--------------------+\n",
      "only showing top 20 rows\n",
      "\n"
     ]
    }
   ],
   "source": [
    "main_spark.select('Bowling_style').show()"
   ]
  },
  {
   "cell_type": "markdown",
   "id": "38799460",
   "metadata": {},
   "source": [
    "#### Pandas"
   ]
  },
  {
   "cell_type": "code",
   "execution_count": 17,
   "id": "f0d7565c",
   "metadata": {},
   "outputs": [],
   "source": [
    "main.loc[(main['Bowling style'].str.contains('nan')),'Bowling style']='Unknown Style'"
   ]
  },
  {
   "cell_type": "markdown",
   "id": "9610fc49",
   "metadata": {},
   "source": [
    "## Forming the Major BATTING Run Column"
   ]
  },
  {
   "cell_type": "markdown",
   "id": "c2a0091e",
   "metadata": {},
   "source": [
    "#### PySpark"
   ]
  },
  {
   "cell_type": "code",
   "execution_count": 225,
   "id": "513891a3",
   "metadata": {},
   "outputs": [],
   "source": [
    "dtypes_cols=[x[1] for x in main_spark.dtypes]"
   ]
  },
  {
   "cell_type": "code",
   "execution_count": 226,
   "id": "05cc0526",
   "metadata": {},
   "outputs": [],
   "source": [
    "for col_1 in ['BATTING_Tests','BATTING_ODIs','BATTING_T20Is']:\n",
    "    for col_2 in ['_Mat','_Inns','_NO','_Runs','_HS','_Ave','_BF','_SR','_100','_50','_4s','_6s','_Ct','_St']:\n",
    "        dtype_=str(dtypes_cols[main_spark.columns.index(col_1+col_2)])\n",
    "        main_spark=main_spark.fillna(0,subset=col_1+col_2)\n",
    "        if not 'double' in dtype_ or not 'bigint' in dtype_:\n",
    "            \n",
    "            main_spark=main_spark.withColumn(col_1+col_2,udf(lambda x:str(x))(col(col_1+col_2)))\n",
    "            main_spark=main_spark.withColumn(col_1+col_2,main_spark[col_1+col_2].cast('string'))\n",
    "            main_spark=main_spark.replace('nan','-1',subset=[col_1+col_2])\n",
    "            main_spark=main_spark.replace('*','-1',subset=[col_1+col_2])\n",
    "            main_spark=main_spark.replace('-','-1',subset=[col_1+col_2])\n",
    "\n",
    "        main_spark=main_spark.withColumn(col_1+col_2,main_spark[col_1+col_2].cast('double'))"
   ]
  },
  {
   "cell_type": "code",
   "execution_count": 227,
   "id": "0e65203a",
   "metadata": {},
   "outputs": [
    {
     "name": "stdout",
     "output_type": "stream",
     "text": [
      "+-------+-----------------+--------------------+--------------------+--------------------+----+-----------------+--------------------+--------------------+------+--------+------------+--------------+--------------------+------+--------+-------------+--------------------+--------------------+-----------------+------------------+----------------+------------------+----------------+-----------------+----------------+----------------+-----------------+----------------+----------------+----------------+----------------+----------------+----------------+-----------------+---------------+-----------------+---------------+----------------+---------------+---------------+----------------+---------------+---------------+---------------+---------------+---------------+-----------------+------------------+----------------+------------------+----------------+-----------------+----------------+----------------+-----------------+----------------+----------------+----------------+----------------+----------------+-----------------------+------------------------+----------------------+------------------------+----------------------+-----------------------+----------------------+----------------------+-----------------------+----------------------+----------------------+----------------------+----------------------+----------------------+------------------+-------------------+-----------------+-------------------+-----------------+------------------+-----------------+-----------------+------------------+-----------------+-----------------+-----------------+-----------------+-----------------+----------------+-----------------+---------------+-----------------+---------------+----------------+---------------+---------------+----------------+---------------+---------------+---------------+---------------+---------------+-----------------+------------------+-------------------+------------------+------------------+-----------------+-----------------+-----------------+------------------+----------------+----------------+----------------+----------------+----------------+-----------------+------------------+-----------------+-----------------+----------------+----------------+----------------+-----------------+---------------+---------------+---------------+---------------+-----------------+------------------+-------------------+------------------+------------------+-----------------+-----------------+-----------------+------------------+----------------+----------------+----------------+----------------+-----------------------+------------------------+-------------------------+------------------------+------------------------+-----------------------+-----------------------+-----------------------+------------------------+----------------------+----------------------+----------------------+----------------------+------------------+-------------------+--------------------+-------------------+-------------------+------------------+------------------+------------------+-------------------+-----------------+-----------------+-----------------+-----------------+----------------+-----------------+------------------+-----------------+-----------------+----------------+----------------+----------------+-----------------+---------------+---------------+---------------+---------------+\n",
      "|     ID|             NAME|             COUNTRY|           Full name|                Born|Died|      Current age|         Major teams|           Education|Height|Nickname|Playing role| Batting style|       Bowling style| Other|Relation|In a nutshell|         DESCRIPTION|              AWARDS|BATTING_Tests_Mat|BATTING_Tests_Inns|BATTING_Tests_NO|BATTING_Tests_Runs|BATTING_Tests_HS|BATTING_Tests_Ave|BATTING_Tests_BF|BATTING_Tests_SR|BATTING_Tests_100|BATTING_Tests_50|BATTING_Tests_4s|BATTING_Tests_6s|BATTING_Tests_Ct|BATTING_Tests_St|BATTING_ODIs_Mat|BATTING_ODIs_Inns|BATTING_ODIs_NO|BATTING_ODIs_Runs|BATTING_ODIs_HS|BATTING_ODIs_Ave|BATTING_ODIs_BF|BATTING_ODIs_SR|BATTING_ODIs_100|BATTING_ODIs_50|BATTING_ODIs_4s|BATTING_ODIs_6s|BATTING_ODIs_Ct|BATTING_ODIs_St|BATTING_T20Is_Mat|BATTING_T20Is_Inns|BATTING_T20Is_NO|BATTING_T20Is_Runs|BATTING_T20Is_HS|BATTING_T20Is_Ave|BATTING_T20Is_BF|BATTING_T20Is_SR|BATTING_T20Is_100|BATTING_T20Is_50|BATTING_T20Is_4s|BATTING_T20Is_6s|BATTING_T20Is_Ct|BATTING_T20Is_St|BATTING_First-class_Mat|BATTING_First-class_Inns|BATTING_First-class_NO|BATTING_First-class_Runs|BATTING_First-class_HS|BATTING_First-class_Ave|BATTING_First-class_BF|BATTING_First-class_SR|BATTING_First-class_100|BATTING_First-class_50|BATTING_First-class_4s|BATTING_First-class_6s|BATTING_First-class_Ct|BATTING_First-class_St|BATTING_List A_Mat|BATTING_List A_Inns|BATTING_List A_NO|BATTING_List A_Runs|BATTING_List A_HS|BATTING_List A_Ave|BATTING_List A_BF|BATTING_List A_SR|BATTING_List A_100|BATTING_List A_50|BATTING_List A_4s|BATTING_List A_6s|BATTING_List A_Ct|BATTING_List A_St|BATTING_T20s_Mat|BATTING_T20s_Inns|BATTING_T20s_NO|BATTING_T20s_Runs|BATTING_T20s_HS|BATTING_T20s_Ave|BATTING_T20s_BF|BATTING_T20s_SR|BATTING_T20s_100|BATTING_T20s_50|BATTING_T20s_4s|BATTING_T20s_6s|BATTING_T20s_Ct|BATTING_T20s_St|BOWLING_Tests_Mat|BOWLING_Tests_Inns|BOWLING_Tests_Balls|BOWLING_Tests_Runs|BOWLING_Tests_Wkts|BOWLING_Tests_BBI|BOWLING_Tests_BBM|BOWLING_Tests_Ave|BOWLING_Tests_Econ|BOWLING_Tests_SR|BOWLING_Tests_4w|BOWLING_Tests_5w|BOWLING_Tests_10|BOWLING_ODIs_Mat|BOWLING_ODIs_Inns|BOWLING_ODIs_Balls|BOWLING_ODIs_Runs|BOWLING_ODIs_Wkts|BOWLING_ODIs_BBI|BOWLING_ODIs_BBM|BOWLING_ODIs_Ave|BOWLING_ODIs_Econ|BOWLING_ODIs_SR|BOWLING_ODIs_4w|BOWLING_ODIs_5w|BOWLING_ODIs_10|BOWLING_T20Is_Mat|BOWLING_T20Is_Inns|BOWLING_T20Is_Balls|BOWLING_T20Is_Runs|BOWLING_T20Is_Wkts|BOWLING_T20Is_BBI|BOWLING_T20Is_BBM|BOWLING_T20Is_Ave|BOWLING_T20Is_Econ|BOWLING_T20Is_SR|BOWLING_T20Is_4w|BOWLING_T20Is_5w|BOWLING_T20Is_10|BOWLING_First-class_Mat|BOWLING_First-class_Inns|BOWLING_First-class_Balls|BOWLING_First-class_Runs|BOWLING_First-class_Wkts|BOWLING_First-class_BBI|BOWLING_First-class_BBM|BOWLING_First-class_Ave|BOWLING_First-class_Econ|BOWLING_First-class_SR|BOWLING_First-class_4w|BOWLING_First-class_5w|BOWLING_First-class_10|BOWLING_List A_Mat|BOWLING_List A_Inns|BOWLING_List A_Balls|BOWLING_List A_Runs|BOWLING_List A_Wkts|BOWLING_List A_BBI|BOWLING_List A_BBM|BOWLING_List A_Ave|BOWLING_List A_Econ|BOWLING_List A_SR|BOWLING_List A_4w|BOWLING_List A_5w|BOWLING_List A_10|BOWLING_T20s_Mat|BOWLING_T20s_Inns|BOWLING_T20s_Balls|BOWLING_T20s_Runs|BOWLING_T20s_Wkts|BOWLING_T20s_BBI|BOWLING_T20s_BBM|BOWLING_T20s_Ave|BOWLING_T20s_Econ|BOWLING_T20s_SR|BOWLING_T20s_4w|BOWLING_T20s_5w|BOWLING_T20s_10|\n",
      "+-------+-----------------+--------------------+--------------------+--------------------+----+-----------------+--------------------+--------------------+------+--------+------------+--------------+--------------------+------+--------+-------------+--------------------+--------------------+-----------------+------------------+----------------+------------------+----------------+-----------------+----------------+----------------+-----------------+----------------+----------------+----------------+----------------+----------------+----------------+-----------------+---------------+-----------------+---------------+----------------+---------------+---------------+----------------+---------------+---------------+---------------+---------------+---------------+-----------------+------------------+----------------+------------------+----------------+-----------------+----------------+----------------+-----------------+----------------+----------------+----------------+----------------+----------------+-----------------------+------------------------+----------------------+------------------------+----------------------+-----------------------+----------------------+----------------------+-----------------------+----------------------+----------------------+----------------------+----------------------+----------------------+------------------+-------------------+-----------------+-------------------+-----------------+------------------+-----------------+-----------------+------------------+-----------------+-----------------+-----------------+-----------------+-----------------+----------------+-----------------+---------------+-----------------+---------------+----------------+---------------+---------------+----------------+---------------+---------------+---------------+---------------+---------------+-----------------+------------------+-------------------+------------------+------------------+-----------------+-----------------+-----------------+------------------+----------------+----------------+----------------+----------------+----------------+-----------------+------------------+-----------------+-----------------+----------------+----------------+----------------+-----------------+---------------+---------------+---------------+---------------+-----------------+------------------+-------------------+------------------+------------------+-----------------+-----------------+-----------------+------------------+----------------+----------------+----------------+----------------+-----------------------+------------------------+-------------------------+------------------------+------------------------+-----------------------+-----------------------+-----------------------+------------------------+----------------------+----------------------+----------------------+----------------------+------------------+-------------------+--------------------+-------------------+-------------------+------------------+------------------+------------------+-------------------+-----------------+-----------------+-----------------+-----------------+----------------+-----------------+------------------+-----------------+-----------------+----------------+----------------+----------------+-----------------+---------------+---------------+---------------+---------------+\n",
      "| 260520|       Mohibullah|            Pakistan|          Mohibullah|\\nSeptember 2, 19...| nan|29 years 202 days|['Pakistan Under-...|                 nan|   nan|     NaN|      Bowler| Left-hand bat|Slow left-arm ort...|   nan|     nan|          nan|                  []|                  []|              0.0|              -1.0|            -1.0|              -1.0|            -1.0|             -1.0|            -1.0|            -1.0|             -1.0|            -1.0|            -1.0|            -1.0|            -1.0|            -1.0|             0.0|             -1.0|           -1.0|             -1.0|           -1.0|            -1.0|           -1.0|           -1.0|            -1.0|           -1.0|           -1.0|           -1.0|           -1.0|           -1.0|              0.0|              -1.0|            -1.0|              -1.0|            -1.0|             -1.0|            -1.0|            -1.0|             -1.0|            -1.0|            -1.0|            -1.0|            -1.0|            -1.0|                   15.0|                      28|                     0|                     530|                    73|                  18.92|                  1114|                 47.57|                      0|                     3|                    67|                     4|                  10.0|                   0.0|              15.0|                 15|                1|                206|               38|             14.71|              324|            63.58|                 0|                0|               15|                3|              7.0|              0.0|            19.0|               18|              0|              268|             54|           14.88|            280|          95.71|               0|              1|             23|             10|            6.0|            0.0|              NaN|               nan|                nan|               nan|               nan|              nan|              nan|              nan|               nan|             nan|             nan|             nan|             nan|             NaN|              nan|               nan|              nan|              nan|             nan|             nan|             nan|              nan|            nan|            nan|            nan|            nan|              NaN|               nan|                nan|               nan|               nan|              nan|              nan|              nan|               nan|             nan|             nan|             nan|             nan|                   15.0|                      20|                     1171|                     640|                      23|                   4/43|                   4/87|                  27.82|                    3.27|                  50.9|                     2|                     0|                     0|              15.0|                 15|                 659|                477|                 20|              5/43|              5/43|             23.85|               4.34|             32.9|                0|                1|                0|            19.0|               15|               204|              279|                8|            3/15|            3/15|           34.87|             8.20|           25.5|              0|              0|              0|\n",
      "| 868085|Aristilla Anthony|            Malaysia|   Aristilla Anthony|  \\nAugust 17, 1994 | nan|24 years 218 days|             Sarawak|                 nan|   nan|     NaN|         nan|Right-hand bat|  Right-arm offbreak|   nan|     nan|          nan|                  []|                  []|              0.0|              -1.0|            -1.0|              -1.0|            -1.0|             -1.0|            -1.0|            -1.0|             -1.0|            -1.0|            -1.0|            -1.0|            -1.0|            -1.0|             0.0|             -1.0|           -1.0|             -1.0|           -1.0|            -1.0|           -1.0|           -1.0|            -1.0|           -1.0|           -1.0|           -1.0|           -1.0|           -1.0|              0.0|              -1.0|            -1.0|              -1.0|            -1.0|             -1.0|            -1.0|            -1.0|             -1.0|            -1.0|            -1.0|            -1.0|            -1.0|            -1.0|                    NaN|                     nan|                   nan|                     nan|                   nan|                    nan|                   nan|                   nan|                    nan|                   nan|                   nan|                   nan|                   nan|                   nan|               NaN|                nan|              nan|                nan|              nan|               nan|              nan|              nan|               nan|              nan|              nan|              nan|              nan|              nan|             NaN|              nan|            nan|              nan|            nan|             nan|            nan|            nan|             nan|            nan|            nan|            nan|            nan|            nan|              NaN|               nan|                nan|               nan|               nan|              nan|              nan|              nan|               nan|             nan|             nan|             nan|             nan|             NaN|              nan|               nan|              nan|              nan|             nan|             nan|             nan|              nan|            nan|            nan|            nan|            nan|              NaN|               nan|                nan|               nan|               nan|              nan|              nan|              nan|               nan|             nan|             nan|             nan|             nan|                    NaN|                     nan|                      nan|                     nan|                     nan|                    nan|                    nan|                    nan|                     nan|                   nan|                   nan|                   nan|                   nan|               NaN|                nan|                 nan|                nan|                nan|               nan|               nan|               nan|                nan|              nan|              nan|              nan|              nan|             NaN|              nan|               nan|              nan|              nan|             nan|             nan|             nan|              nan|            nan|            nan|            nan|            nan|\n",
      "| 699561|    Emilio Adonis|        South Africa|       Emilio Adonis|\\nFebruary 4, 199...| nan| 21 years 48 days|    Boland Under-15s|New Orleans Senio...|   nan|     NaN|         nan| Left-hand bat|                 nan|   nan|     nan|          nan|                  []|                  []|              0.0|              -1.0|            -1.0|              -1.0|            -1.0|             -1.0|            -1.0|            -1.0|             -1.0|            -1.0|            -1.0|            -1.0|            -1.0|            -1.0|             0.0|             -1.0|           -1.0|             -1.0|           -1.0|            -1.0|           -1.0|           -1.0|            -1.0|           -1.0|           -1.0|           -1.0|           -1.0|           -1.0|              0.0|              -1.0|            -1.0|              -1.0|            -1.0|             -1.0|            -1.0|            -1.0|             -1.0|            -1.0|            -1.0|            -1.0|            -1.0|            -1.0|                    NaN|                     nan|                   nan|                     nan|                   nan|                    nan|                   nan|                   nan|                    nan|                   nan|                   nan|                   nan|                   nan|                   nan|               NaN|                nan|              nan|                nan|              nan|               nan|              nan|              nan|               nan|              nan|              nan|              nan|              nan|              nan|             NaN|              nan|            nan|              nan|            nan|             nan|            nan|            nan|             nan|            nan|            nan|            nan|            nan|            nan|              NaN|               nan|                nan|               nan|               nan|              nan|              nan|              nan|               nan|             nan|             nan|             nan|             nan|             NaN|              nan|               nan|              nan|              nan|             nan|             nan|             nan|              nan|            nan|            nan|            nan|            nan|              NaN|               nan|                nan|               nan|               nan|              nan|              nan|              nan|               nan|             nan|             nan|             nan|             nan|                    NaN|                     nan|                      nan|                     nan|                     nan|                    nan|                    nan|                    nan|                     nan|                   nan|                   nan|                   nan|                   nan|               NaN|                nan|                 nan|                nan|                nan|               nan|               nan|               nan|                nan|              nan|              nan|              nan|              nan|             NaN|              nan|               nan|              nan|              nan|             nan|             nan|             nan|              nan|            nan|            nan|            nan|            nan|\n",
      "| 469188|         Tom Vine|               Spain| Thomas Charles Vine|\\nOctober 4, 1992...| nan|26 years 170 days|['Spain Under-17s...|                 nan|   nan|     NaN|         nan|Right-hand bat|Right-arm medium-...|   nan|     nan|          nan|                  []|                  []|              0.0|              -1.0|            -1.0|              -1.0|            -1.0|             -1.0|            -1.0|            -1.0|             -1.0|            -1.0|            -1.0|            -1.0|            -1.0|            -1.0|             0.0|             -1.0|           -1.0|             -1.0|           -1.0|            -1.0|           -1.0|           -1.0|            -1.0|           -1.0|           -1.0|           -1.0|           -1.0|           -1.0|              0.0|              -1.0|            -1.0|              -1.0|            -1.0|             -1.0|            -1.0|            -1.0|             -1.0|            -1.0|            -1.0|            -1.0|            -1.0|            -1.0|                    NaN|                     nan|                   nan|                     nan|                   nan|                    nan|                   nan|                   nan|                    nan|                   nan|                   nan|                   nan|                   nan|                   nan|               NaN|                nan|              nan|                nan|              nan|               nan|              nan|              nan|               nan|              nan|              nan|              nan|              nan|              nan|             NaN|              nan|            nan|              nan|            nan|             nan|            nan|            nan|             nan|            nan|            nan|            nan|            nan|            nan|              NaN|               nan|                nan|               nan|               nan|              nan|              nan|              nan|               nan|             nan|             nan|             nan|             nan|             NaN|              nan|               nan|              nan|              nan|             nan|             nan|             nan|              nan|            nan|            nan|            nan|            nan|              NaN|               nan|                nan|               nan|               nan|              nan|              nan|              nan|               nan|             nan|             nan|             nan|             nan|                    NaN|                     nan|                      nan|                     nan|                     nan|                    nan|                    nan|                    nan|                     nan|                   nan|                   nan|                   nan|                   nan|               NaN|                nan|                 nan|                nan|                nan|               nan|               nan|               nan|                nan|              nan|              nan|              nan|              nan|             NaN|              nan|               nan|              nan|              nan|             nan|             nan|             nan|              nan|            nan|            nan|            nan|            nan|\n",
      "|  44815|  John Du Plessis|        South Africa|John Henry Du Ple...|\\nNovember 17, 19...| nan|57 years 127 days|    Western Province|                 nan|   nan|     NaN|         nan|Right-hand bat|    Right-arm medium|   nan|     nan|          nan|                  []|                  []|              0.0|              -1.0|            -1.0|              -1.0|            -1.0|             -1.0|            -1.0|            -1.0|             -1.0|            -1.0|            -1.0|            -1.0|            -1.0|            -1.0|             0.0|             -1.0|           -1.0|             -1.0|           -1.0|            -1.0|           -1.0|           -1.0|            -1.0|           -1.0|           -1.0|           -1.0|           -1.0|           -1.0|              0.0|              -1.0|            -1.0|              -1.0|            -1.0|             -1.0|            -1.0|            -1.0|             -1.0|            -1.0|            -1.0|            -1.0|            -1.0|            -1.0|                    6.0|                      10|                     5|                     219|                   96*|                  43.80|                   nan|                   nan|                      0|                     1|                   nan|                   nan|                   8.0|                   0.0|               2.0|                  2|                0|                  5|                3|              2.50|              nan|              nan|                 0|                0|              nan|              nan|              0.0|              0.0|             NaN|              nan|            nan|              nan|            nan|             nan|            nan|            nan|             nan|            nan|            nan|            nan|            nan|            nan|              NaN|               nan|                nan|               nan|               nan|              nan|              nan|              nan|               nan|             nan|             nan|             nan|             nan|             NaN|              nan|               nan|              nan|              nan|             nan|             nan|             nan|              nan|            nan|            nan|            nan|            nan|              NaN|               nan|                nan|               nan|               nan|              nan|              nan|              nan|               nan|             nan|             nan|             nan|             nan|                    6.0|                     nan|                      440|                     223|                       8|                   2/14|                    nan|                  27.87|                    3.04|                  55.0|                   nan|                     0|                     0|               2.0|                nan|                   -|                  -|                  -|                 -|                 -|                 -|                  -|                -|                -|                -|                -|             NaN|              nan|               nan|              nan|              nan|             nan|             nan|             nan|              nan|            nan|            nan|            nan|            nan|\n",
      "| 696849|Jonathan Connolly|            Zimbabwe| Jonathan M Connolly|    \\nMarch 1, 2000 | nan| 19 years 22 days|['Zimbabwe Under-...|      Falcon College|   nan|     NaN|      Bowler|Right-hand bat|    Right-arm medium|   nan|     nan|          nan|                  []|                  []|              0.0|              -1.0|            -1.0|              -1.0|            -1.0|             -1.0|            -1.0|            -1.0|             -1.0|            -1.0|            -1.0|            -1.0|            -1.0|            -1.0|             0.0|             -1.0|           -1.0|             -1.0|           -1.0|            -1.0|           -1.0|           -1.0|            -1.0|           -1.0|           -1.0|           -1.0|           -1.0|           -1.0|              0.0|              -1.0|            -1.0|              -1.0|            -1.0|             -1.0|            -1.0|            -1.0|             -1.0|            -1.0|            -1.0|            -1.0|            -1.0|            -1.0|                    NaN|                     nan|                   nan|                     nan|                   nan|                    nan|                   nan|                   nan|                    nan|                   nan|                   nan|                   nan|                   nan|                   nan|               NaN|                nan|              nan|                nan|              nan|               nan|              nan|              nan|               nan|              nan|              nan|              nan|              nan|              nan|             NaN|              nan|            nan|              nan|            nan|             nan|            nan|            nan|             nan|            nan|            nan|            nan|            nan|            nan|              NaN|               nan|                nan|               nan|               nan|              nan|              nan|              nan|               nan|             nan|             nan|             nan|             nan|             NaN|              nan|               nan|              nan|              nan|             nan|             nan|             nan|              nan|            nan|            nan|            nan|            nan|              NaN|               nan|                nan|               nan|               nan|              nan|              nan|              nan|               nan|             nan|             nan|             nan|             nan|                    NaN|                     nan|                      nan|                     nan|                     nan|                    nan|                    nan|                    nan|                     nan|                   nan|                   nan|                   nan|                   nan|               NaN|                nan|                 nan|                nan|                nan|               nan|               nan|               nan|                nan|              nan|              nan|              nan|              nan|             NaN|              nan|               nan|              nan|              nan|             nan|             nan|             nan|              nan|            nan|            nan|            nan|            nan|\n",
      "| 515195|     Sadat Sidiqi|              Sweden|        Sadat Sidiqi|   \\nMarch 21, 1985 | nan|  34 years 2 days|              Sweden|                 nan|   nan|     NaN|         nan|           nan|                 nan|   nan|     nan|          nan|                  []|                  []|              0.0|              -1.0|            -1.0|              -1.0|            -1.0|             -1.0|            -1.0|            -1.0|             -1.0|            -1.0|            -1.0|            -1.0|            -1.0|            -1.0|             0.0|             -1.0|           -1.0|             -1.0|           -1.0|            -1.0|           -1.0|           -1.0|            -1.0|           -1.0|           -1.0|           -1.0|           -1.0|           -1.0|              0.0|              -1.0|            -1.0|              -1.0|            -1.0|             -1.0|            -1.0|            -1.0|             -1.0|            -1.0|            -1.0|            -1.0|            -1.0|            -1.0|                    NaN|                     nan|                   nan|                     nan|                   nan|                    nan|                   nan|                   nan|                    nan|                   nan|                   nan|                   nan|                   nan|                   nan|               NaN|                nan|              nan|                nan|              nan|               nan|              nan|              nan|               nan|              nan|              nan|              nan|              nan|              nan|             NaN|              nan|            nan|              nan|            nan|             nan|            nan|            nan|             nan|            nan|            nan|            nan|            nan|            nan|              NaN|               nan|                nan|               nan|               nan|              nan|              nan|              nan|               nan|             nan|             nan|             nan|             nan|             NaN|              nan|               nan|              nan|              nan|             nan|             nan|             nan|              nan|            nan|            nan|            nan|            nan|              NaN|               nan|                nan|               nan|               nan|              nan|              nan|              nan|               nan|             nan|             nan|             nan|             nan|                    NaN|                     nan|                      nan|                     nan|                     nan|                    nan|                    nan|                    nan|                     nan|                   nan|                   nan|                   nan|                   nan|               NaN|                nan|                 nan|                nan|                nan|               nan|               nan|               nan|                nan|              nan|              nan|              nan|              nan|             NaN|              nan|               nan|              nan|              nan|             nan|             nan|             nan|              nan|            nan|            nan|            nan|            nan|\n",
      "| 592471|      B Pietersen|        South Africa|         B Pietersen|     \\ndate unknown | nan|              nan|                 nan|                 nan|   nan|     NaN|         nan|           nan|                 nan|Umpire|     nan|          nan|                  []|                  []|              0.0|              -1.0|            -1.0|              -1.0|            -1.0|             -1.0|            -1.0|            -1.0|             -1.0|            -1.0|            -1.0|            -1.0|            -1.0|            -1.0|             0.0|             -1.0|           -1.0|             -1.0|           -1.0|            -1.0|           -1.0|           -1.0|            -1.0|           -1.0|           -1.0|           -1.0|           -1.0|           -1.0|              0.0|              -1.0|            -1.0|              -1.0|            -1.0|             -1.0|            -1.0|            -1.0|             -1.0|            -1.0|            -1.0|            -1.0|            -1.0|            -1.0|                    NaN|                     nan|                   nan|                     nan|                   nan|                    nan|                   nan|                   nan|                    nan|                   nan|                   nan|                   nan|                   nan|                   nan|               NaN|                nan|              nan|                nan|              nan|               nan|              nan|              nan|               nan|              nan|              nan|              nan|              nan|              nan|             NaN|              nan|            nan|              nan|            nan|             nan|            nan|            nan|             nan|            nan|            nan|            nan|            nan|            nan|              NaN|               nan|                nan|               nan|               nan|              nan|              nan|              nan|               nan|             nan|             nan|             nan|             nan|             NaN|              nan|               nan|              nan|              nan|             nan|             nan|             nan|              nan|            nan|            nan|            nan|            nan|              NaN|               nan|                nan|               nan|               nan|              nan|              nan|              nan|               nan|             nan|             nan|             nan|             nan|                    NaN|                     nan|                      nan|                     nan|                     nan|                    nan|                    nan|                    nan|                     nan|                   nan|                   nan|                   nan|                   nan|               NaN|                nan|                 nan|                nan|                nan|               nan|               nan|               nan|                nan|              nan|              nan|              nan|              nan|             NaN|              nan|               nan|              nan|              nan|             nan|             nan|             nan|              nan|            nan|            nan|            nan|            nan|\n",
      "| 364165|    Michael Outar|      Cayman Islands|       Michael Outar|     \\ndate unknown | nan|              nan|Cayman Islands Un...|                 nan|   nan|     NaN|         nan|           nan|                 nan|   nan|     nan|          nan|                  []|                  []|              0.0|              -1.0|            -1.0|              -1.0|            -1.0|             -1.0|            -1.0|            -1.0|             -1.0|            -1.0|            -1.0|            -1.0|            -1.0|            -1.0|             0.0|             -1.0|           -1.0|             -1.0|           -1.0|            -1.0|           -1.0|           -1.0|            -1.0|           -1.0|           -1.0|           -1.0|           -1.0|           -1.0|              0.0|              -1.0|            -1.0|              -1.0|            -1.0|             -1.0|            -1.0|            -1.0|             -1.0|            -1.0|            -1.0|            -1.0|            -1.0|            -1.0|                    NaN|                     nan|                   nan|                     nan|                   nan|                    nan|                   nan|                   nan|                    nan|                   nan|                   nan|                   nan|                   nan|                   nan|               NaN|                nan|              nan|                nan|              nan|               nan|              nan|              nan|               nan|              nan|              nan|              nan|              nan|              nan|             NaN|              nan|            nan|              nan|            nan|             nan|            nan|            nan|             nan|            nan|            nan|            nan|            nan|            nan|              NaN|               nan|                nan|               nan|               nan|              nan|              nan|              nan|               nan|             nan|             nan|             nan|             nan|             NaN|              nan|               nan|              nan|              nan|             nan|             nan|             nan|              nan|            nan|            nan|            nan|            nan|              NaN|               nan|                nan|               nan|               nan|              nan|              nan|              nan|               nan|             nan|             nan|             nan|             nan|                    NaN|                     nan|                      nan|                     nan|                     nan|                    nan|                    nan|                    nan|                     nan|                   nan|                   nan|                   nan|                   nan|               NaN|                nan|                 nan|                nan|                nan|               nan|               nan|               nan|                nan|              nan|              nan|              nan|              nan|             NaN|              nan|               nan|              nan|              nan|             nan|             nan|             nan|              nan|            nan|            nan|            nan|            nan|\n",
      "|  35375|    Cecil Timmins|               India|Cecil Morely Jose...|\\nMay 6, 1926, Fa...| nan|92 years 321 days|['Europeans (Indi...|                 nan|   nan|     NaN|         nan|           nan|                 nan|   nan|     nan|          nan|                  []|                  []|              0.0|              -1.0|            -1.0|              -1.0|            -1.0|             -1.0|            -1.0|            -1.0|             -1.0|            -1.0|            -1.0|            -1.0|            -1.0|            -1.0|             0.0|             -1.0|           -1.0|             -1.0|           -1.0|            -1.0|           -1.0|           -1.0|            -1.0|           -1.0|           -1.0|           -1.0|           -1.0|           -1.0|              0.0|              -1.0|            -1.0|              -1.0|            -1.0|             -1.0|            -1.0|            -1.0|             -1.0|            -1.0|            -1.0|            -1.0|            -1.0|            -1.0|                    2.0|                       4|                     0|                      12|                     5|                   3.00|                   nan|                   nan|                      0|                     0|                   nan|                   nan|                   1.0|                   0.0|               NaN|                nan|              nan|                nan|              nan|               nan|              nan|              nan|               nan|              nan|              nan|              nan|              nan|              nan|             NaN|              nan|            nan|              nan|            nan|             nan|            nan|            nan|             nan|            nan|            nan|            nan|            nan|            nan|              NaN|               nan|                nan|               nan|               nan|              nan|              nan|              nan|               nan|             nan|             nan|             nan|             nan|             NaN|              nan|               nan|              nan|              nan|             nan|             nan|             nan|              nan|            nan|            nan|            nan|            nan|              NaN|               nan|                nan|               nan|               nan|              nan|              nan|              nan|               nan|             nan|             nan|             nan|             nan|                    2.0|                     nan|                      nan|                       9|                       0|                      -|                      -|                      -|                     nan|                     -|                     0|                     0|                     0|               NaN|                nan|                 nan|                nan|                nan|               nan|               nan|               nan|                nan|              nan|              nan|              nan|              nan|             NaN|              nan|               nan|              nan|              nan|             nan|             nan|             nan|              nan|            nan|            nan|            nan|            nan|\n",
      "| 463093|     Daniel Biggs|    Falkland Islands|        Daniel Biggs|\\ndate unknown, F...| nan|              nan|    Falkland Islands|                 nan|   nan|     NaN|         nan|           nan|                 nan|   nan|     nan|          nan|                  []|                  []|              0.0|              -1.0|            -1.0|              -1.0|            -1.0|             -1.0|            -1.0|            -1.0|             -1.0|            -1.0|            -1.0|            -1.0|            -1.0|            -1.0|             0.0|             -1.0|           -1.0|             -1.0|           -1.0|            -1.0|           -1.0|           -1.0|            -1.0|           -1.0|           -1.0|           -1.0|           -1.0|           -1.0|              0.0|              -1.0|            -1.0|              -1.0|            -1.0|             -1.0|            -1.0|            -1.0|             -1.0|            -1.0|            -1.0|            -1.0|            -1.0|            -1.0|                    NaN|                     nan|                   nan|                     nan|                   nan|                    nan|                   nan|                   nan|                    nan|                   nan|                   nan|                   nan|                   nan|                   nan|               NaN|                nan|              nan|                nan|              nan|               nan|              nan|              nan|               nan|              nan|              nan|              nan|              nan|              nan|             NaN|              nan|            nan|              nan|            nan|             nan|            nan|            nan|             nan|            nan|            nan|            nan|            nan|            nan|              NaN|               nan|                nan|               nan|               nan|              nan|              nan|              nan|               nan|             nan|             nan|             nan|             nan|             NaN|              nan|               nan|              nan|              nan|             nan|             nan|             nan|              nan|            nan|            nan|            nan|            nan|              NaN|               nan|                nan|               nan|               nan|              nan|              nan|              nan|               nan|             nan|             nan|             nan|             nan|                    NaN|                     nan|                      nan|                     nan|                     nan|                    nan|                    nan|                    nan|                     nan|                   nan|                   nan|                   nan|                   nan|               NaN|                nan|                 nan|                nan|                nan|               nan|               nan|               nan|                nan|              nan|              nan|              nan|              nan|             NaN|              nan|               nan|              nan|              nan|             nan|             nan|             nan|              nan|            nan|            nan|            nan|            nan|\n",
      "|1057445|  KV Nandakishore|               India|     KV Nandakishore|  \\nJanuary 1, 1992 | nan| 27 years 81 days|     Mysore Warriors|                 nan|   nan|     NaN|         nan|Right-hand bat|    Right-arm medium|   nan|     nan|          nan|                  []|                  []|              0.0|              -1.0|            -1.0|              -1.0|            -1.0|             -1.0|            -1.0|            -1.0|             -1.0|            -1.0|            -1.0|            -1.0|            -1.0|            -1.0|             0.0|             -1.0|           -1.0|             -1.0|           -1.0|            -1.0|           -1.0|           -1.0|            -1.0|           -1.0|           -1.0|           -1.0|           -1.0|           -1.0|              0.0|              -1.0|            -1.0|              -1.0|            -1.0|             -1.0|            -1.0|            -1.0|             -1.0|            -1.0|            -1.0|            -1.0|            -1.0|            -1.0|                    NaN|                     nan|                   nan|                     nan|                   nan|                    nan|                   nan|                   nan|                    nan|                   nan|                   nan|                   nan|                   nan|                   nan|               NaN|                nan|              nan|                nan|              nan|               nan|              nan|              nan|               nan|              nan|              nan|              nan|              nan|              nan|             NaN|              nan|            nan|              nan|            nan|             nan|            nan|            nan|             nan|            nan|            nan|            nan|            nan|            nan|              NaN|               nan|                nan|               nan|               nan|              nan|              nan|              nan|               nan|             nan|             nan|             nan|             nan|             NaN|              nan|               nan|              nan|              nan|             nan|             nan|             nan|              nan|            nan|            nan|            nan|            nan|              NaN|               nan|                nan|               nan|               nan|              nan|              nan|              nan|               nan|             nan|             nan|             nan|             nan|                    NaN|                     nan|                      nan|                     nan|                     nan|                    nan|                    nan|                    nan|                     nan|                   nan|                   nan|                   nan|                   nan|               NaN|                nan|                 nan|                nan|                nan|               nan|               nan|               nan|                nan|              nan|              nan|              nan|              nan|             NaN|              nan|               nan|              nan|              nan|             nan|             nan|             nan|              nan|            nan|            nan|            nan|            nan|\n",
      "| 941921|     Maria Malaza|        South Africa|        Maria Malaza|     \\ndate unknown | nan|              nan|    Mpumalanga Women|                 nan|   nan|     NaN|         nan|           nan|                 nan|   nan|     nan|          nan|                  []|                  []|              0.0|              -1.0|            -1.0|              -1.0|            -1.0|             -1.0|            -1.0|            -1.0|             -1.0|            -1.0|            -1.0|            -1.0|            -1.0|            -1.0|             0.0|             -1.0|           -1.0|             -1.0|           -1.0|            -1.0|           -1.0|           -1.0|            -1.0|           -1.0|           -1.0|           -1.0|           -1.0|           -1.0|              0.0|              -1.0|            -1.0|              -1.0|            -1.0|             -1.0|            -1.0|            -1.0|             -1.0|            -1.0|            -1.0|            -1.0|            -1.0|            -1.0|                    NaN|                     nan|                   nan|                     nan|                   nan|                    nan|                   nan|                   nan|                    nan|                   nan|                   nan|                   nan|                   nan|                   nan|               NaN|                nan|              nan|                nan|              nan|               nan|              nan|              nan|               nan|              nan|              nan|              nan|              nan|              nan|             NaN|              nan|            nan|              nan|            nan|             nan|            nan|            nan|             nan|            nan|            nan|            nan|            nan|            nan|              NaN|               nan|                nan|               nan|               nan|              nan|              nan|              nan|               nan|             nan|             nan|             nan|             nan|             NaN|              nan|               nan|              nan|              nan|             nan|             nan|             nan|              nan|            nan|            nan|            nan|            nan|              NaN|               nan|                nan|               nan|               nan|              nan|              nan|              nan|               nan|             nan|             nan|             nan|             nan|                    NaN|                     nan|                      nan|                     nan|                     nan|                    nan|                    nan|                    nan|                     nan|                   nan|                   nan|                   nan|                   nan|               NaN|                nan|                 nan|                nan|                nan|               nan|               nan|               nan|                nan|              nan|              nan|              nan|              nan|             NaN|              nan|               nan|              nan|              nan|             nan|             nan|             nan|              nan|            nan|            nan|            nan|            nan|\n",
      "|  41014|       Javed Sami|            Pakistan|Mohammad Javed Sa...|\\nNovember 20, 19...| nan|43 years 123 days|['Bahawalpur,', '...|                 nan|   nan|     NaN|         nan|Right-hand bat|  Right-arm offbreak|   nan|     nan|          nan|                  []|                  []|              0.0|              -1.0|            -1.0|              -1.0|            -1.0|             -1.0|            -1.0|            -1.0|             -1.0|            -1.0|            -1.0|            -1.0|            -1.0|            -1.0|             0.0|             -1.0|           -1.0|             -1.0|           -1.0|            -1.0|           -1.0|           -1.0|            -1.0|           -1.0|           -1.0|           -1.0|           -1.0|           -1.0|              0.0|              -1.0|            -1.0|              -1.0|            -1.0|             -1.0|            -1.0|            -1.0|             -1.0|            -1.0|            -1.0|            -1.0|            -1.0|            -1.0|                   68.0|                     118|                    10|                    3007|                  141*|                  27.84|                   nan|                   nan|                      5|                    13|                   nan|                   nan|                  71.0|                   0.0|              34.0|                 33|                1|                838|              104|             26.18|              nan|              nan|                 1|                5|              nan|              nan|              8.0|              0.0|             NaN|              nan|            nan|              nan|            nan|             nan|            nan|            nan|             nan|            nan|            nan|            nan|            nan|            nan|              NaN|               nan|                nan|               nan|               nan|              nan|              nan|              nan|               nan|             nan|             nan|             nan|             nan|             NaN|              nan|               nan|              nan|              nan|             nan|             nan|             nan|              nan|            nan|            nan|            nan|            nan|              NaN|               nan|                nan|               nan|               nan|              nan|              nan|              nan|               nan|             nan|             nan|             nan|             nan|                   68.0|                     nan|                       36|                      27|                       0|                      -|                      -|                      -|                    4.50|                     -|                     0|                     0|                     0|              34.0|                nan|                  42|                 66|                  1|              1/35|              1/35|             66.00|               9.42|             42.0|                0|                0|                0|             NaN|              nan|               nan|              nan|              nan|             nan|             nan|             nan|              nan|            nan|            nan|            nan|            nan|\n",
      "| 385508|       Hugh Brown|           Australia|    Hugh Frank Brown|\\nSeptember 21, 1...| nan|37 years 184 days|['Western Austral...|                 nan|   nan|     NaN|         nan|Right-hand bat|Slow left-arm chi...|   nan|     nan|          nan|                  []|                  []|              0.0|              -1.0|            -1.0|              -1.0|            -1.0|             -1.0|            -1.0|            -1.0|             -1.0|            -1.0|            -1.0|            -1.0|            -1.0|            -1.0|             0.0|             -1.0|           -1.0|             -1.0|           -1.0|            -1.0|           -1.0|           -1.0|            -1.0|           -1.0|           -1.0|           -1.0|           -1.0|           -1.0|              0.0|              -1.0|            -1.0|              -1.0|            -1.0|             -1.0|            -1.0|            -1.0|             -1.0|            -1.0|            -1.0|            -1.0|            -1.0|            -1.0|                    NaN|                     nan|                   nan|                     nan|                   nan|                    nan|                   nan|                   nan|                    nan|                   nan|                   nan|                   nan|                   nan|                   nan|               NaN|                nan|              nan|                nan|              nan|               nan|              nan|              nan|               nan|              nan|              nan|              nan|              nan|              nan|             NaN|              nan|            nan|              nan|            nan|             nan|            nan|            nan|             nan|            nan|            nan|            nan|            nan|            nan|              NaN|               nan|                nan|               nan|               nan|              nan|              nan|              nan|               nan|             nan|             nan|             nan|             nan|             NaN|              nan|               nan|              nan|              nan|             nan|             nan|             nan|              nan|            nan|            nan|            nan|            nan|              NaN|               nan|                nan|               nan|               nan|              nan|              nan|              nan|               nan|             nan|             nan|             nan|             nan|                    NaN|                     nan|                      nan|                     nan|                     nan|                    nan|                    nan|                    nan|                     nan|                   nan|                   nan|                   nan|                   nan|               NaN|                nan|                 nan|                nan|                nan|               nan|               nan|               nan|                nan|              nan|              nan|              nan|              nan|             NaN|              nan|               nan|              nan|              nan|             nan|             nan|             nan|              nan|            nan|            nan|            nan|            nan|\n",
      "|  25117|     Andy Tennant|            Scotland|Andrew McBlain Te...|\\nFebruary 17, 19...| nan| 53 years 34 days|['Scotland,', 'Pr...|                 nan|   nan|     NaN|         nan|Right-hand bat|Slow left-arm ort...|   nan|     nan|          nan|['\\nAfter many ye...|                  []|              0.0|              -1.0|            -1.0|              -1.0|            -1.0|             -1.0|            -1.0|            -1.0|             -1.0|            -1.0|            -1.0|            -1.0|            -1.0|            -1.0|             0.0|             -1.0|           -1.0|             -1.0|           -1.0|            -1.0|           -1.0|           -1.0|            -1.0|           -1.0|           -1.0|           -1.0|           -1.0|           -1.0|              0.0|              -1.0|            -1.0|              -1.0|            -1.0|             -1.0|            -1.0|            -1.0|             -1.0|            -1.0|            -1.0|            -1.0|            -1.0|            -1.0|                    3.0|                       3|                     0|                       5|                     5|                   1.66|                   nan|                   nan|                      0|                     0|                   nan|                   nan|                     1|                     0|               2.0|                  1|                1|                  2|               2*|                 -|              nan|              nan|                 0|                0|                0|                0|              3.0|              0.0|             NaN|              nan|            nan|              nan|            nan|             nan|            nan|            nan|             nan|            nan|            nan|            nan|            nan|            nan|              NaN|               nan|                nan|               nan|               nan|              nan|              nan|              nan|               nan|             nan|             nan|             nan|             nan|             NaN|              nan|               nan|              nan|              nan|             nan|             nan|             nan|              nan|            nan|            nan|            nan|            nan|              NaN|               nan|                nan|               nan|               nan|              nan|              nan|              nan|               nan|             nan|             nan|             nan|             nan|                    3.0|                     nan|                      498|                     252|                       9|                   3/20|                    nan|                  28.00|                    3.03|                  55.3|                   nan|                     0|                     0|               2.0|                nan|                  96|                 52|                  2|              2/29|              2/29|             26.00|               3.25|             48.0|                0|                0|                0|             NaN|              nan|               nan|              nan|              nan|             nan|             nan|             nan|              nan|            nan|            nan|            nan|            nan|\n",
      "|1120830|          Hussain|United Arab Emirates|             Hussain|     \\ndate unknown | nan|              nan|Al Futtaim Carillion|                 nan|   nan|     NaN|         nan|           nan|                 nan|   nan|     nan|          nan|                  []|                  []|              0.0|              -1.0|            -1.0|              -1.0|            -1.0|             -1.0|            -1.0|            -1.0|             -1.0|            -1.0|            -1.0|            -1.0|            -1.0|            -1.0|             0.0|             -1.0|           -1.0|             -1.0|           -1.0|            -1.0|           -1.0|           -1.0|            -1.0|           -1.0|           -1.0|           -1.0|           -1.0|           -1.0|              0.0|              -1.0|            -1.0|              -1.0|            -1.0|             -1.0|            -1.0|            -1.0|             -1.0|            -1.0|            -1.0|            -1.0|            -1.0|            -1.0|                    NaN|                     nan|                   nan|                     nan|                   nan|                    nan|                   nan|                   nan|                    nan|                   nan|                   nan|                   nan|                   nan|                   nan|               NaN|                nan|              nan|                nan|              nan|               nan|              nan|              nan|               nan|              nan|              nan|              nan|              nan|              nan|             NaN|              nan|            nan|              nan|            nan|             nan|            nan|            nan|             nan|            nan|            nan|            nan|            nan|            nan|              NaN|               nan|                nan|               nan|               nan|              nan|              nan|              nan|               nan|             nan|             nan|             nan|             nan|             NaN|              nan|               nan|              nan|              nan|             nan|             nan|             nan|              nan|            nan|            nan|            nan|            nan|              NaN|               nan|                nan|               nan|               nan|              nan|              nan|              nan|               nan|             nan|             nan|             nan|             nan|                    NaN|                     nan|                      nan|                     nan|                     nan|                    nan|                    nan|                    nan|                     nan|                   nan|                   nan|                   nan|                   nan|               NaN|                nan|                 nan|                nan|                nan|               nan|               nan|               nan|                nan|              nan|              nan|              nan|              nan|             NaN|              nan|               nan|              nan|              nan|             nan|             nan|             nan|              nan|            nan|            nan|            nan|            nan|\n",
      "|  10585|      David Burke|             England|David Jonathan Burke|\\nApril 4, 1975, ...| nan|43 years 353 days|               Devon|                 nan|   nan|     NaN|         nan| Left-hand bat|Left-arm fast-medium|   nan|     nan|          nan|                  []|                  []|              0.0|              -1.0|            -1.0|              -1.0|            -1.0|             -1.0|            -1.0|            -1.0|             -1.0|            -1.0|            -1.0|            -1.0|            -1.0|            -1.0|             0.0|             -1.0|           -1.0|             -1.0|           -1.0|            -1.0|           -1.0|           -1.0|            -1.0|           -1.0|           -1.0|           -1.0|           -1.0|           -1.0|              0.0|              -1.0|            -1.0|              -1.0|            -1.0|             -1.0|            -1.0|            -1.0|             -1.0|            -1.0|            -1.0|            -1.0|            -1.0|            -1.0|                    NaN|                     nan|                   nan|                     nan|                   nan|                    nan|                   nan|                   nan|                    nan|                   nan|                   nan|                   nan|                   nan|                   nan|               NaN|                nan|              nan|                nan|              nan|               nan|              nan|              nan|               nan|              nan|              nan|              nan|              nan|              nan|             NaN|              nan|            nan|              nan|            nan|             nan|            nan|            nan|             nan|            nan|            nan|            nan|            nan|            nan|              NaN|               nan|                nan|               nan|               nan|              nan|              nan|              nan|               nan|             nan|             nan|             nan|             nan|             NaN|              nan|               nan|              nan|              nan|             nan|             nan|             nan|              nan|            nan|            nan|            nan|            nan|              NaN|               nan|                nan|               nan|               nan|              nan|              nan|              nan|               nan|             nan|             nan|             nan|             nan|                    NaN|                     nan|                      nan|                     nan|                     nan|                    nan|                    nan|                    nan|                     nan|                   nan|                   nan|                   nan|                   nan|               NaN|                nan|                 nan|                nan|                nan|               nan|               nan|               nan|                nan|              nan|              nan|              nan|              nan|             NaN|              nan|               nan|              nan|              nan|             nan|             nan|             nan|              nan|            nan|            nan|            nan|            nan|\n",
      "|  41945|    Muttaqi Hasan|            Pakistan|  Syed Muttaqi Hasan|     \\ndate unknown | nan|              nan|['Dacca,', 'Hyder...|                 nan|   nan|     NaN|         nan|Right-hand bat|            Legbreak|   nan|     nan|          nan|                  []|                  []|              0.0|              -1.0|            -1.0|              -1.0|            -1.0|             -1.0|            -1.0|            -1.0|             -1.0|            -1.0|            -1.0|            -1.0|            -1.0|            -1.0|             0.0|             -1.0|           -1.0|             -1.0|           -1.0|            -1.0|           -1.0|           -1.0|            -1.0|           -1.0|           -1.0|           -1.0|           -1.0|           -1.0|              0.0|              -1.0|            -1.0|              -1.0|            -1.0|             -1.0|            -1.0|            -1.0|             -1.0|            -1.0|            -1.0|            -1.0|            -1.0|            -1.0|                   21.0|                      38|                     4|                    1448|                   105|                  42.58|                   nan|                   nan|                      1|                   nan|                   nan|                   nan|                   6.0|                   0.0|               NaN|                nan|              nan|                nan|              nan|               nan|              nan|              nan|               nan|              nan|              nan|              nan|              nan|              nan|             NaN|              nan|            nan|              nan|            nan|             nan|            nan|            nan|             nan|            nan|            nan|            nan|            nan|            nan|              NaN|               nan|                nan|               nan|               nan|              nan|              nan|              nan|               nan|             nan|             nan|             nan|             nan|             NaN|              nan|               nan|              nan|              nan|             nan|             nan|             nan|              nan|            nan|            nan|            nan|            nan|              NaN|               nan|                nan|               nan|               nan|              nan|              nan|              nan|               nan|             nan|             nan|             nan|             nan|                   21.0|                     nan|                      nan|                     247|                       7|                   4/12|                    nan|                  35.28|                     nan|                   nan|                   nan|                     0|                     0|               NaN|                nan|                 nan|                nan|                nan|               nan|               nan|               nan|                nan|              nan|              nan|              nan|              nan|             NaN|              nan|               nan|              nan|              nan|             nan|             nan|             nan|              nan|            nan|            nan|            nan|            nan|\n",
      "|  52450|   Antonio Mayers|         West Indies|Antonio Nigel Mayers|\\nOctober 23, 197...| nan|39 years 152 days|['Barbados,', 'We...|                 nan|   nan|     NaN|  Allrounder|Right-hand bat|    Right-arm medium|   nan|     nan|          nan|                  []|['Domestic One Da...|              0.0|              -1.0|            -1.0|              -1.0|            -1.0|             -1.0|            -1.0|            -1.0|             -1.0|            -1.0|            -1.0|            -1.0|            -1.0|            -1.0|             0.0|             -1.0|           -1.0|             -1.0|           -1.0|            -1.0|           -1.0|           -1.0|            -1.0|           -1.0|           -1.0|           -1.0|           -1.0|           -1.0|              0.0|              -1.0|            -1.0|              -1.0|            -1.0|             -1.0|            -1.0|            -1.0|             -1.0|            -1.0|            -1.0|            -1.0|            -1.0|            -1.0|                   14.0|                      23|                     2|                     374|                    55|                  17.80|                   nan|                   nan|                      0|                     2|                   nan|                   nan|                  18.0|                   0.0|              16.0|                 14|                6|                105|               23|             13.12|              nan|              nan|                 0|                0|              nan|              nan|              3.0|              0.0|             3.0|                2|              1|               22|            16*|           22.00|             34|          64.70|               0|              0|              0|              0|            0.0|            0.0|              NaN|               nan|                nan|               nan|               nan|              nan|              nan|              nan|               nan|             nan|             nan|             nan|             nan|             NaN|              nan|               nan|              nan|              nan|             nan|             nan|             nan|              nan|            nan|            nan|            nan|            nan|              NaN|               nan|                nan|               nan|               nan|              nan|              nan|              nan|               nan|             nan|             nan|             nan|             nan|                   14.0|                     nan|                     1274|                     631|                      11|                   2/20|                    nan|                  57.36|                    2.97|                 115.8|                   nan|                     0|                     0|              16.0|                nan|                 372|                296|                  9|              2/27|              2/27|             32.88|               4.77|             41.3|                0|                0|                0|             3.0|                1|                 6|                8|                0|               -|               -|               -|             8.00|              -|              0|              0|              0|\n",
      "+-------+-----------------+--------------------+--------------------+--------------------+----+-----------------+--------------------+--------------------+------+--------+------------+--------------+--------------------+------+--------+-------------+--------------------+--------------------+-----------------+------------------+----------------+------------------+----------------+-----------------+----------------+----------------+-----------------+----------------+----------------+----------------+----------------+----------------+----------------+-----------------+---------------+-----------------+---------------+----------------+---------------+---------------+----------------+---------------+---------------+---------------+---------------+---------------+-----------------+------------------+----------------+------------------+----------------+-----------------+----------------+----------------+-----------------+----------------+----------------+----------------+----------------+----------------+-----------------------+------------------------+----------------------+------------------------+----------------------+-----------------------+----------------------+----------------------+-----------------------+----------------------+----------------------+----------------------+----------------------+----------------------+------------------+-------------------+-----------------+-------------------+-----------------+------------------+-----------------+-----------------+------------------+-----------------+-----------------+-----------------+-----------------+-----------------+----------------+-----------------+---------------+-----------------+---------------+----------------+---------------+---------------+----------------+---------------+---------------+---------------+---------------+---------------+-----------------+------------------+-------------------+------------------+------------------+-----------------+-----------------+-----------------+------------------+----------------+----------------+----------------+----------------+----------------+-----------------+------------------+-----------------+-----------------+----------------+----------------+----------------+-----------------+---------------+---------------+---------------+---------------+-----------------+------------------+-------------------+------------------+------------------+-----------------+-----------------+-----------------+------------------+----------------+----------------+----------------+----------------+-----------------------+------------------------+-------------------------+------------------------+------------------------+-----------------------+-----------------------+-----------------------+------------------------+----------------------+----------------------+----------------------+----------------------+------------------+-------------------+--------------------+-------------------+-------------------+------------------+------------------+------------------+-------------------+-----------------+-----------------+-----------------+-----------------+----------------+-----------------+------------------+-----------------+-----------------+----------------+----------------+----------------+-----------------+---------------+---------------+---------------+---------------+\n",
      "only showing top 20 rows\n",
      "\n"
     ]
    }
   ],
   "source": [
    "main_spark.show()"
   ]
  },
  {
   "cell_type": "markdown",
   "id": "070c50a3",
   "metadata": {},
   "source": [
    "#### Pandas"
   ]
  },
  {
   "cell_type": "code",
   "execution_count": 126,
   "id": "d3194d7f",
   "metadata": {},
   "outputs": [
    {
     "name": "stdout",
     "output_type": "stream",
     "text": [
      "BATTING_Tests_Mat\n",
      "BATTING_Tests_Inns\n",
      "BATTING_Tests_NO\n",
      "BATTING_Tests_Runs\n",
      "BATTING_Tests_HS\n",
      "BATTING_Tests_Ave\n",
      "BATTING_Tests_BF\n",
      "BATTING_Tests_SR\n",
      "BATTING_Tests_100\n",
      "BATTING_Tests_50\n",
      "BATTING_Tests_4s\n",
      "BATTING_Tests_6s\n",
      "BATTING_Tests_Ct\n",
      "BATTING_Tests_St\n",
      "BATTING_ODIs_Mat\n",
      "BATTING_ODIs_Inns\n",
      "BATTING_ODIs_NO\n",
      "BATTING_ODIs_Runs\n",
      "BATTING_ODIs_HS\n",
      "BATTING_ODIs_Ave\n",
      "BATTING_ODIs_BF\n",
      "BATTING_ODIs_SR\n",
      "BATTING_ODIs_100\n",
      "BATTING_ODIs_50\n",
      "BATTING_ODIs_4s\n",
      "BATTING_ODIs_6s\n",
      "BATTING_ODIs_Ct\n",
      "BATTING_ODIs_St\n",
      "BATTING_T20Is_Mat\n",
      "BATTING_T20Is_Inns\n",
      "BATTING_T20Is_NO\n",
      "BATTING_T20Is_Runs\n",
      "BATTING_T20Is_HS\n",
      "BATTING_T20Is_Ave\n",
      "BATTING_T20Is_BF\n",
      "BATTING_T20Is_SR\n",
      "BATTING_T20Is_100\n",
      "BATTING_T20Is_50\n",
      "BATTING_T20Is_4s\n",
      "BATTING_T20Is_6s\n",
      "BATTING_T20Is_Ct\n",
      "BATTING_T20Is_St\n",
      "BATTING_First-class_Mat\n",
      "BATTING_First-class_Inns\n",
      "BATTING_First-class_NO\n",
      "BATTING_First-class_Runs\n",
      "BATTING_First-class_HS\n",
      "BATTING_First-class_Ave\n",
      "BATTING_First-class_BF\n",
      "BATTING_First-class_SR\n",
      "BATTING_First-class_100\n",
      "BATTING_First-class_50\n",
      "BATTING_First-class_4s\n",
      "BATTING_First-class_6s\n",
      "BATTING_First-class_Ct\n",
      "BATTING_First-class_St\n",
      "BATTING_List A_Mat\n",
      "BATTING_List A_Inns\n",
      "BATTING_List A_NO\n",
      "BATTING_List A_Runs\n",
      "BATTING_List A_HS\n",
      "BATTING_List A_Ave\n",
      "BATTING_List A_BF\n",
      "BATTING_List A_SR\n",
      "BATTING_List A_100\n",
      "BATTING_List A_50\n",
      "BATTING_List A_4s\n",
      "BATTING_List A_6s\n",
      "BATTING_List A_Ct\n",
      "BATTING_List A_St\n",
      "BATTING_T20s_Mat\n",
      "BATTING_T20s_Inns\n",
      "BATTING_T20s_NO\n",
      "BATTING_T20s_Runs\n",
      "BATTING_T20s_HS\n",
      "BATTING_T20s_Ave\n",
      "BATTING_T20s_BF\n",
      "BATTING_T20s_SR\n",
      "BATTING_T20s_100\n",
      "BATTING_T20s_50\n",
      "BATTING_T20s_4s\n",
      "BATTING_T20s_6s\n",
      "BATTING_T20s_Ct\n",
      "BATTING_T20s_St\n"
     ]
    }
   ],
   "source": [
    "for col_1 in ['BATTING_Tests','BATTING_ODIs','BATTING_T20Is','BATTING_First-class','BATTING_List A','BATTING_T20s']:\n",
    "    for col_2 in ['_Mat','_Inns','_NO','_Runs','_HS','_Ave','_BF','_SR','_100','_50','_4s','_6s','_Ct','_St']:\n",
    "        dtype_=str(main.dtypes.values.tolist()[main.columns.values.tolist().index(col_1+col_2)])\n",
    "        main[col_1+col_2]=main[col_1+col_2].fillna(0)\n",
    "        if not 'int' in dtype_:\n",
    "            \n",
    "            main[col_1+col_2]=main[col_1+col_2].map(lambda x:str(x))\n",
    "            main[col_1+col_2]=main[col_1+col_2].astype(str)\n",
    "            main.loc[(main[col_1+col_2].str.contains('nan')),col_1+col_2]=-1\n",
    "            main[col_1+col_2]=main[col_1+col_2].str.replace('*','')\n",
    "            main[col_1+col_2]=main[col_1+col_2].str.replace('-','-1')\n",
    "        main[col_1+col_2]=main[col_1+col_2].astype(float)\n"
   ]
  },
  {
   "cell_type": "code",
   "execution_count": null,
   "id": "93de5fd6",
   "metadata": {},
   "outputs": [],
   "source": []
  }
 ],
 "metadata": {
  "kernelspec": {
   "display_name": "Python 3",
   "language": "python",
   "name": "python3"
  },
  "language_info": {
   "codemirror_mode": {
    "name": "ipython",
    "version": 3
   },
   "file_extension": ".py",
   "mimetype": "text/x-python",
   "name": "python",
   "nbconvert_exporter": "python",
   "pygments_lexer": "ipython3",
   "version": "3.7.6"
  }
 },
 "nbformat": 4,
 "nbformat_minor": 5
}
